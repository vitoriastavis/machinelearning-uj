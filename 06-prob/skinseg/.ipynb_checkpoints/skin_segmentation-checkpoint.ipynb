{
 "cells": [
  {
   "cell_type": "markdown",
   "id": "e35a4618",
   "metadata": {},
   "source": [
    "# Skin segmentation "
   ]
  },
  {
   "cell_type": "markdown",
   "id": "f2ad9a58",
   "metadata": {},
   "source": [
    "In this assignement you will train classifier to assign colors to skin or no skin classes. The data is taken from [Skin Segmentation Data Set](http://archive.ics.uci.edu/ml/datasets/Skin+Segmentation#) in the UCI Machine Learning repository."
   ]
  },
  {
   "cell_type": "markdown",
   "id": "1fd29398",
   "metadata": {},
   "source": [
    "The  data is in a plain text format and contains four columns. First three contain RGB color data  represented as integers in the range 0-255, and the last column is an integer label  with 1 representing skin and 2 representing no skin. This file we can load directly into a numpy array:"
   ]
  },
  {
   "cell_type": "markdown",
   "id": "1b326716",
   "metadata": {},
   "source": [
    "You have to install the [scrapbook](https://github.com/nteract/scrapbook) module before using this notebook.  This will help me to automatically scan notebooks  using [papermill](https://github.com/nteract/papermill) module :) "
   ]
  },
  {
   "cell_type": "code",
   "execution_count": null,
   "id": "dcef171a",
   "metadata": {},
   "outputs": [],
   "source": [
    "import numpy as np\n",
    "import scrapbook as sb\n",
    "import matplotlib.pyplot as plt\n",
    "plt.rcParams['figure.figsize'] = (8.0, 8.0)"
   ]
  },
  {
   "cell_type": "markdown",
   "id": "3378354a",
   "metadata": {},
   "source": [
    "Please fill your firstname and name in the cell below."
   ]
  },
  {
   "cell_type": "code",
   "execution_count": null,
   "id": "a1139ab5",
   "metadata": {},
   "outputs": [],
   "source": [
    "sb.glue('person1',['your-firstname', 'your-name'], display=True)\n",
    "# In case of the two-person team add second persons\n",
    "# sb.glue('person2',['your-firstname', 'your-name'])"
   ]
  },
  {
   "cell_type": "code",
   "execution_count": null,
   "id": "0d187d83",
   "metadata": {},
   "outputs": [],
   "source": [
    "data = np.loadtxt('data/Skin_NonSkin.txt')"
   ]
  },
  {
   "cell_type": "code",
   "execution_count": null,
   "id": "ca3e65da",
   "metadata": {},
   "outputs": [],
   "source": [
    "rgb  = data[:,:3]\n",
    "lbl = data[:,3].astype('int32') # some function expect labels to be integers"
   ]
  },
  {
   "cell_type": "markdown",
   "id": "381c0429",
   "metadata": {},
   "source": [
    "We see that the classes are not balanced:"
   ]
  },
  {
   "cell_type": "code",
   "execution_count": null,
   "id": "1b179dee",
   "metadata": {},
   "outputs": [],
   "source": [
    "np.bincount(lbl)"
   ]
  },
  {
   "cell_type": "markdown",
   "id": "281c9aa0",
   "metadata": {},
   "source": [
    "## Problem 1 "
   ]
  },
  {
   "cell_type": "markdown",
   "id": "94ae148c",
   "metadata": {},
   "source": [
    "Compare the performance of the QuadraticDiscriminantAnalysis, LinearDiscriminativeAnalysis and NaiveBayes classifiers on this set. Use the `sklearn` library when needed. Compare the confusion matrices (tnr,  fnr,fpr,tpr), precision and f1_ score and auc_score, as well ROC curves. Prepare a summary table with all the numerical scores one row per classifier and one column per metric (use pandas.DataFame). Plot all  ROC curves on the same plot and label them accordingly. Assume that skin is positive and non-skin negative. "
   ]
  },
  {
   "cell_type": "markdown",
   "id": "75a82eab",
   "metadata": {},
   "source": [
    "__Hint__ as you will be repeating this,  it's probably a good idea  to write a python function that does all the analysis. "
   ]
  },
  {
   "cell_type": "code",
   "execution_count": null,
   "id": "20284a6b",
   "metadata": {},
   "outputs": [],
   "source": [
    "import pandas as pd\n",
    "def analize(cls, name, train_X, train_Y, test_X, test_Y):\n",
    "    fprs = tprs = thds = None \n",
    "    return  pd.DataFrame({'tnr':[0],\n",
    "                          'fpr':[0],\n",
    "                          'fnr':[0],\n",
    "                          'tpr':[0],\n",
    "                          'precision' : [0],\n",
    "                          'f1' :[0],\n",
    "                          'auc' :[0]\n",
    "                           }, index=[name]), fprs, tprs, thds"
   ]
  },
  {
   "cell_type": "code",
   "execution_count": null,
   "id": "3e3703e8",
   "metadata": {},
   "outputs": [],
   "source": [
    "analize(None, 'qda', None, None, None, None)"
   ]
  },
  {
   "cell_type": "markdown",
   "id": "15f4f076",
   "metadata": {},
   "source": [
    "For each classifier use the scrapbook to save results:"
   ]
  },
  {
   "cell_type": "code",
   "execution_count": null,
   "id": "47418879",
   "metadata": {},
   "outputs": [],
   "source": [
    "sb.glue('qda',['tnr', 'fpr', 'fnr', 'tpr', 'precision', 'f1', 'auc'], display=True)"
   ]
  },
  {
   "cell_type": "code",
   "execution_count": null,
   "id": "b5fdf4b8",
   "metadata": {},
   "outputs": [],
   "source": [
    "sb.glue('lda',['tnr', 'fpr', 'fnr', 'tpr', 'precision', 'f1', 'auc'], display=True)"
   ]
  },
  {
   "cell_type": "code",
   "execution_count": null,
   "id": "994842f0",
   "metadata": {},
   "outputs": [],
   "source": [
    "sb.glue('nb',['tnr', 'fpr', 'fnr', 'tpr', 'precision', 'f1', 'auc'], display=True)"
   ]
  },
  {
   "cell_type": "markdown",
   "id": "f9eb647e",
   "metadata": {},
   "source": [
    "also please save the ROC plot"
   ]
  },
  {
   "cell_type": "code",
   "execution_count": null,
   "id": "2e9dfd1e",
   "metadata": {},
   "outputs": [],
   "source": [
    "fig, ax = plt.subplots()\n",
    "#plot ROCs\n",
    "ax.plot([0,1],[0,1]);\n",
    "sb.glue('ROC',fig, \"display\", display=False);"
   ]
  },
  {
   "cell_type": "code",
   "execution_count": null,
   "id": "b7308e52",
   "metadata": {
    "tags": [
     "answer"
    ]
   },
   "outputs": [],
   "source": [
    "import pandas as pd\n",
    "from sklearn.metrics import roc_curve, roc_auc_score, f1_score, precision_score, confusion_matrix\n",
    "def analize(cls, name, train_X, train_Y, test_X, test_Y):\n",
    "    cls.fit(train_X, train_Y)\n",
    "    proba = cls.predict_proba(test_X)[:,1]\n",
    "    predicted = proba>0.5\n",
    "    tnr, fpr, fnr, tpr = confusion_matrix(test_Y, predicted, normalize='true').ravel()\n",
    "    f1 = f1_score(test_Y, predicted)\n",
    "    prec = precision_score(test_Y, predicted)\n",
    "    fprs,tprs,thds =  roc_curve(test_Y, proba)\n",
    "    auc = roc_auc_score(test_Y, proba)\n",
    "    return  pd.DataFrame({'tnr':[tnr],\n",
    "                          'fnr':[fnr],\n",
    "                          'fpr':[fpr],\n",
    "                          'tpr':[tpr],\n",
    "                          'precision' : [prec],\n",
    "                          'f1' :[f1],\n",
    "                          'auc' :[auc]\n",
    "                           }, index=[name]), fprs, tprs, thds"
   ]
  },
  {
   "cell_type": "code",
   "execution_count": null,
   "id": "4380e0ac",
   "metadata": {
    "tags": [
     "answer"
    ]
   },
   "outputs": [],
   "source": [
    "from sklearn.discriminant_analysis import QuadraticDiscriminantAnalysis, LinearDiscriminantAnalysis\n",
    "from sklearn.naive_bayes import GaussianNB"
   ]
  },
  {
   "cell_type": "code",
   "execution_count": null,
   "id": "da0480d7",
   "metadata": {
    "tags": [
     "answer"
    ]
   },
   "outputs": [],
   "source": [
    "qda_cls  = QuadraticDiscriminantAnalysis()\n",
    "lda_cls  = LinearDiscriminantAnalysis()\n",
    "nb_cls = GaussianNB()"
   ]
  },
  {
   "cell_type": "code",
   "execution_count": null,
   "id": "56067aff",
   "metadata": {
    "tags": [
     "answer"
    ]
   },
   "outputs": [],
   "source": [
    "from sklearn.model_selection import train_test_split\n",
    "seed = 787667"
   ]
  },
  {
   "cell_type": "code",
   "execution_count": null,
   "id": "67804bf8",
   "metadata": {
    "tags": [
     "answer"
    ]
   },
   "outputs": [],
   "source": [
    "lbl = 2-lbl"
   ]
  },
  {
   "cell_type": "code",
   "execution_count": null,
   "id": "f744e66f",
   "metadata": {},
   "outputs": [],
   "source": [
    "lbl.sum()/len(lbl)"
   ]
  },
  {
   "cell_type": "code",
   "execution_count": null,
   "id": "8d38b0dd",
   "metadata": {},
   "outputs": [],
   "source": []
  },
  {
   "cell_type": "code",
   "execution_count": null,
   "id": "868c6472",
   "metadata": {
    "tags": [
     "answer"
    ]
   },
   "outputs": [],
   "source": [
    "rgb_train, rgb_test, lbl_train, lbl_test = train_test_split(rgb, lbl, test_size=0.25, random_state = seed)"
   ]
  },
  {
   "cell_type": "code",
   "execution_count": null,
   "id": "f696549a",
   "metadata": {
    "tags": [
     "answer"
    ]
   },
   "outputs": [],
   "source": [
    "frames = []\n",
    "rocs = []\n",
    "for name, cls in [('qda', qda_cls), ('lda', lda_cls),('nb', nb_cls)]:\n",
    "    df, fprs, tprs, thds = analize(cls, name,rgb_train, lbl_train, rgb_test, lbl_test )\n",
    "    frames.append(df)\n",
    "    rocs.append((fprs, tprs, thds))"
   ]
  },
  {
   "cell_type": "code",
   "execution_count": null,
   "id": "398e73ea",
   "metadata": {
    "tags": [
     "answer"
    ]
   },
   "outputs": [],
   "source": [
    "pd.concat(frames, axis=0)"
   ]
  },
  {
   "cell_type": "code",
   "execution_count": null,
   "id": "c61bfce0",
   "metadata": {
    "tags": [
     "answer"
    ]
   },
   "outputs": [],
   "source": [
    "import matplotlib.pyplot as plt"
   ]
  },
  {
   "cell_type": "code",
   "execution_count": null,
   "id": "2a21a891",
   "metadata": {
    "tags": [
     "answer"
    ]
   },
   "outputs": [],
   "source": [
    "fig, ax = plt.subplots()\n",
    "for i,name in enumerate(['gda', 'lda', 'nb']):\n",
    "    ax.plot(*rocs[i][:2],label=name)\n",
    "ax.legend()    ;"
   ]
  },
  {
   "cell_type": "code",
   "execution_count": null,
   "id": "a9a87521",
   "metadata": {},
   "outputs": [],
   "source": []
  },
  {
   "cell_type": "markdown",
   "id": "b350ab93",
   "metadata": {},
   "source": [
    "## Problem 2"
   ]
  },
  {
   "cell_type": "markdown",
   "id": "a2b0e2b5",
   "metadata": {},
   "source": [
    "Repeat same analysis but with RGB  data converted to Hue  Saturation Value (HSV) format. You can use the `colorsys` module for conversion. Use the scrapbook again for saving your results appending \"\\_hsv\" to variable name e.g."
   ]
  },
  {
   "cell_type": "code",
   "execution_count": null,
   "id": "25b81f92",
   "metadata": {},
   "outputs": [],
   "source": [
    "sb.glue('qda_hsv',['tnr', 'fpr', 'fnr', 'tpr', 'precision', 'f1', 'auc'], display=True)"
   ]
  },
  {
   "cell_type": "code",
   "execution_count": null,
   "id": "08698e10",
   "metadata": {},
   "outputs": [],
   "source": [
    "from colorsys import rgb_to_hsv\n",
    "hsv = np.asarray([rgb_to_hsv(*row) for row in rgb]) #inneficient but it does not matter"
   ]
  },
  {
   "cell_type": "code",
   "execution_count": null,
   "id": "90a681b2",
   "metadata": {},
   "outputs": [],
   "source": [
    "hsv"
   ]
  },
  {
   "cell_type": "code",
   "execution_count": null,
   "id": "0fd5f39c",
   "metadata": {
    "tags": [
     "answer"
    ]
   },
   "outputs": [],
   "source": [
    "qda_cls  = QuadraticDiscriminantAnalysis()\n",
    "lda_cls  = LinearDiscriminantAnalysis()\n",
    "nb_cls   = GaussianNB()"
   ]
  },
  {
   "cell_type": "code",
   "execution_count": null,
   "id": "d485b719",
   "metadata": {
    "tags": [
     "answer"
    ]
   },
   "outputs": [],
   "source": [
    "hsv_train, hsv_test, lbl_train, lbl_test = train_test_split(hsv, lbl, test_size=0.25, random_state=seed)"
   ]
  },
  {
   "cell_type": "code",
   "execution_count": null,
   "id": "e0a5ee11",
   "metadata": {
    "tags": [
     "answer"
    ]
   },
   "outputs": [],
   "source": [
    "frames = []\n",
    "rocs = []\n",
    "for name, cls in [('qda', qda_cls), ('lda', lda_cls),('nb', nb_cls)]:\n",
    "    df, fprs, tprs, thds = analize(cls, name,hsv_train, lbl_train, hsv_test, lbl_test )\n",
    "    frames.append(df)\n",
    "    rocs.append((fprs, tprs, thds))"
   ]
  },
  {
   "cell_type": "code",
   "execution_count": null,
   "id": "31f5200a",
   "metadata": {
    "tags": [
     "answer"
    ]
   },
   "outputs": [],
   "source": [
    "pd.concat(frames, axis=0)"
   ]
  },
  {
   "cell_type": "code",
   "execution_count": null,
   "id": "997c9d85",
   "metadata": {
    "tags": [
     "answer"
    ]
   },
   "outputs": [],
   "source": [
    "import matplotlib.pyplot as plt"
   ]
  },
  {
   "cell_type": "code",
   "execution_count": null,
   "id": "a7cbdf67",
   "metadata": {
    "tags": [
     "answer"
    ]
   },
   "outputs": [],
   "source": [
    "fig, ax = plt.subplots()\n",
    "for i,name in enumerate(['gda', 'lda', 'nb']):\n",
    "    ax.plot(*rocs[i][:2],label=name)\n",
    "ax.legend()    "
   ]
  },
  {
   "cell_type": "markdown",
   "id": "89b567fc",
   "metadata": {
    "tags": [
     "answer"
    ]
   },
   "source": [
    "### Some plots"
   ]
  },
  {
   "cell_type": "code",
   "execution_count": null,
   "id": "758b6da9",
   "metadata": {
    "tags": [
     "answer"
    ]
   },
   "outputs": [],
   "source": [
    "colors = np.asarray(['red', 'blue'])\n",
    "fig,ax = plt.subplots(1,3,figsize=(18,6) )\n",
    "ax[0].scatter(rgb_test[:,0], rgb_test[:,1],s=10, alpha=0.3, c=colors[lbl_test]);\n",
    "ax[1].scatter(rgb_test[:,1], rgb_test[:,2],s=10, alpha=0.3, c=colors[lbl_test]);\n",
    "ax[2].scatter(rgb_test[:,2], rgb_test[:,0],s=10, alpha=0.3, c=colors[lbl_test]);"
   ]
  },
  {
   "cell_type": "code",
   "execution_count": null,
   "id": "72810c40",
   "metadata": {
    "tags": [
     "answer"
    ]
   },
   "outputs": [],
   "source": [
    "colors = np.asarray(['red', 'blue'])\n",
    "fig,ax = plt.subplots(1,3,figsize=(18,6) )\n",
    "ax[0].scatter(hsv_test[:,0], hsv_test[:,1],s=10, alpha=0.3, c=colors[lbl_test]);\n",
    "ax[1].scatter(hsv_test[:,1], hsv_test[:,2],s=10, alpha=0.3, c=colors[lbl_test]);\n",
    "ax[2].scatter(hsv_test[:,2], hsv_test[:,0],s=10, alpha=0.3, c=colors[lbl_test]);"
   ]
  },
  {
   "cell_type": "code",
   "execution_count": null,
   "id": "d4600d76",
   "metadata": {
    "tags": [
     "answer"
    ]
   },
   "outputs": [],
   "source": [
    "import  mpl_toolkits.mplot3d\n",
    "fig = plt.figure(figsize=(12,12))\n",
    "ax = fig.add_subplot(111, projection ='3d')\n",
    "n=50000\n",
    "ax.scatter(rgb_test[:n,0],rgb_test[:n,1],rgb_test[:n,2], c=colors[lbl_test[:n]] );"
   ]
  },
  {
   "cell_type": "code",
   "execution_count": null,
   "id": "926f8bb8",
   "metadata": {
    "tags": [
     "answer"
    ]
   },
   "outputs": [],
   "source": [
    "fig = plt.figure(figsize=(12,12))\n",
    "ax = fig.add_subplot(111, projection ='3d')\n",
    "n=50000\n",
    "ax.scatter(hsv_test[:n,0],hsv_test[:n,1],hsv_test[:n,2], c=colors[lbl_test[:n]] );"
   ]
  }
 ],
 "metadata": {
  "kernelspec": {
   "display_name": "Python 3 (ipykernel)",
   "language": "python",
   "name": "python3"
  }
 },
 "nbformat": 4,
 "nbformat_minor": 5
}
