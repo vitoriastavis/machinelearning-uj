{
 "cells": [
  {
   "cell_type": "markdown",
   "id": "18d6e2e6",
   "metadata": {
    "slideshow": {
     "slide_type": "slide"
    }
   },
   "source": [
    "# Titanic dataset"
   ]
  },
  {
   "cell_type": "markdown",
   "id": "fabe71d6",
   "metadata": {},
   "source": [
    "This assigment consists of the introductory problem [Titanic: Machine Learning from Disaster](https://www.kaggle.com/c/titanic). The goal is to train a classifier to predict persons that have survived the disaster. "
   ]
  },
  {
   "cell_type": "markdown",
   "id": "90ad66d5",
   "metadata": {},
   "source": [
    "We will start by reading in the, by now standard, Titanic dataset. It contains information about passengers of the Titanic. The information includes i.a. sex, age, name  and passenger class as well as information if the passenger survived or died in the disaster. You can find more details about this data set [here](http://campus.lakeforest.edu/frank/FILES/MLFfiles/Bio150/Titanic/TitanicMETA.pdf). "
   ]
  },
  {
   "cell_type": "markdown",
   "id": "6cbff46e",
   "metadata": {},
   "source": [
    "The data  is in \"coma separated values\" (csv) format and to read it we will use the [pandas](https://pandas.pydata.org) library. Pandas  provides tools for manipulating  data frames and series and is wildly used in data science projects. \n",
    "\n",
    "Please note that this is NOT a pandas manual. For detailed explanation of the concepts and functions used here you should consult the [documentation](https://pandas.pydata.org/pandas-docs/stable/getting_started/index.html). "
   ]
  },
  {
   "cell_type": "code",
   "execution_count": null,
   "id": "4e6948c3",
   "metadata": {},
   "outputs": [],
   "source": [
    "import numpy as np\n",
    "import matplotlib.pyplot as plt\n",
    "plt.rcParams['figure.figsize'] = (8.0, 6.0)\n",
    "import pandas as pd"
   ]
  },
  {
   "cell_type": "code",
   "execution_count": null,
   "id": "f1aced74",
   "metadata": {},
   "outputs": [],
   "source": [
    "data_all = pd.read_csv(\"titanic3.csv\")"
   ]
  },
  {
   "cell_type": "markdown",
   "id": "a922c220",
   "metadata": {},
   "source": [
    "`data_all` is a pandas  [_DataFrame_](https://pandas.pydata.org/pandas-docs/stable/reference/api/pandas.DataFrame.html) object. "
   ]
  },
  {
   "cell_type": "code",
   "execution_count": null,
   "id": "e555fe63",
   "metadata": {},
   "outputs": [],
   "source": [
    "type(data_all)"
   ]
  },
  {
   "cell_type": "markdown",
   "id": "2edbd42b",
   "metadata": {},
   "source": [
    "We can check what attributes are stored in the DataFrame by listing the column names:"
   ]
  },
  {
   "cell_type": "code",
   "execution_count": null,
   "id": "79ba5ae1",
   "metadata": {},
   "outputs": [],
   "source": [
    "data_all.columns"
   ]
  },
  {
   "cell_type": "markdown",
   "id": "2a003027",
   "metadata": {},
   "source": [
    "or get a quick preview using ```head``` function: "
   ]
  },
  {
   "cell_type": "code",
   "execution_count": null,
   "id": "52e1de4d",
   "metadata": {},
   "outputs": [],
   "source": [
    "data_all.head(2)"
   ]
  },
  {
   "cell_type": "markdown",
   "id": "6dd1711a",
   "metadata": {},
   "source": [
    "For the description of those features please see the before mentioned [link](http://campus.lakeforest.edu/frank/FILES/MLFfiles/Bio150/Titanic/TitanicMETA.pdf). "
   ]
  },
  {
   "cell_type": "markdown",
   "id": "48c548d2",
   "metadata": {},
   "source": [
    "Another usefull function is ```info```:"
   ]
  },
  {
   "cell_type": "code",
   "execution_count": null,
   "id": "5a560c79",
   "metadata": {},
   "outputs": [],
   "source": [
    "data_all.info()"
   ]
  },
  {
   "cell_type": "markdown",
   "id": "e9f5d35b",
   "metadata": {},
   "source": [
    "As we can see not all attributes are known (non-null) for every passanger. This is a frequent situation in real datasets. "
   ]
  },
  {
   "cell_type": "code",
   "execution_count": null,
   "id": "f5221ec8",
   "metadata": {},
   "outputs": [],
   "source": [
    "data_all.survived.value_counts()/len(data_all)"
   ]
  },
  {
   "cell_type": "markdown",
   "id": "875b026b",
   "metadata": {},
   "source": [
    "### Train/test split"
   ]
  },
  {
   "cell_type": "markdown",
   "id": "b353486d",
   "metadata": {},
   "source": [
    "As in every machine learning problem we should split our data into training and testing sets."
   ]
  },
  {
   "cell_type": "code",
   "execution_count": null,
   "id": "c05bd8d5",
   "metadata": {},
   "outputs": [],
   "source": [
    "from sklearn.model_selection import train_test_split"
   ]
  },
  {
   "cell_type": "code",
   "execution_count": null,
   "id": "c8fdaa2f",
   "metadata": {},
   "outputs": [],
   "source": [
    "seed = 5657\n",
    "train_data, test_data = train_test_split(data_all, train_size=0.8, stratify=data_all.survived, random_state=seed)"
   ]
  },
  {
   "cell_type": "code",
   "execution_count": null,
   "id": "f3c19fe1",
   "metadata": {},
   "outputs": [],
   "source": [
    "train_data.info()"
   ]
  },
  {
   "cell_type": "code",
   "execution_count": null,
   "id": "b6c9b222",
   "metadata": {},
   "outputs": [],
   "source": [
    "test_data.info()"
   ]
  },
  {
   "cell_type": "code",
   "execution_count": null,
   "id": "e4573990",
   "metadata": {},
   "outputs": [],
   "source": [
    "train_data.survived.value_counts()/len(train_data)"
   ]
  },
  {
   "cell_type": "code",
   "execution_count": null,
   "id": "ce178ac9",
   "metadata": {},
   "outputs": [],
   "source": [
    "test_data.survived.value_counts()/len(test_data)"
   ]
  },
  {
   "cell_type": "markdown",
   "id": "889b56f6",
   "metadata": {},
   "source": [
    "## Problem 1"
   ]
  },
  {
   "cell_type": "markdown",
   "id": "8c8077d8",
   "metadata": {},
   "source": [
    "__a__) Implement a Bayes classifier for predicting passenger survival  using sex and pclass  features."
   ]
  },
  {
   "cell_type": "markdown",
   "id": "92de7185",
   "metadata": {},
   "source": [
    "Actually this problem will be partially solved for you below to serve as an tutorial on pandas :) "
   ]
  },
  {
   "cell_type": "markdown",
   "id": "6f3c8d12",
   "metadata": {},
   "source": [
    "#### Preliminaries"
   ]
  },
  {
   "cell_type": "markdown",
   "id": "dc6b3c18",
   "metadata": {},
   "source": [
    "We will start by extracting from the frame  only the information we need:"
   ]
  },
  {
   "cell_type": "code",
   "execution_count": null,
   "id": "66a8dcbf",
   "metadata": {},
   "outputs": [],
   "source": [
    "train_data = train_data[['pclass', 'sex', 'survived']]\n",
    "test_data = test_data[['pclass', 'sex', 'survived']]"
   ]
  },
  {
   "cell_type": "code",
   "execution_count": null,
   "id": "ab24aef8",
   "metadata": {},
   "outputs": [],
   "source": [
    "train_n_samples = len(train_data)\n",
    "test_n_samples = len(test_data)"
   ]
  },
  {
   "cell_type": "code",
   "execution_count": null,
   "id": "5dde292c",
   "metadata": {},
   "outputs": [],
   "source": [
    "train_data.head(5)"
   ]
  },
  {
   "cell_type": "markdown",
   "id": "b85b9d08",
   "metadata": {},
   "source": [
    "First we need to group passengers according to sex, class and survival status. This can be achieved using  the [`groupby`](https://pandas.pydata.org/pandas-docs/stable/reference/api/pandas.DataFrame.groupby.html) function:"
   ]
  },
  {
   "cell_type": "code",
   "execution_count": null,
   "id": "720bbd97",
   "metadata": {},
   "outputs": [],
   "source": [
    "train_grouped = train_data.groupby(['survived','sex','pclass'])"
   ]
  },
  {
   "cell_type": "markdown",
   "id": "817522ea",
   "metadata": {},
   "source": [
    "We can count the number of passegers in each group using function ```size```:"
   ]
  },
  {
   "cell_type": "code",
   "execution_count": null,
   "id": "11641529",
   "metadata": {},
   "outputs": [],
   "source": [
    "train_counts = train_grouped.size()"
   ]
  },
  {
   "cell_type": "markdown",
   "id": "97122415",
   "metadata": {},
   "source": [
    "Object ```train_counts``` contains all the information that we need to construct the classifier:"
   ]
  },
  {
   "cell_type": "code",
   "execution_count": null,
   "id": "2ed19fe7",
   "metadata": {},
   "outputs": [],
   "source": [
    "train_counts"
   ]
  },
  {
   "cell_type": "markdown",
   "id": "54e41e04",
   "metadata": {},
   "source": [
    "`train_counts` is a pandas [_Series_](https://pandas.pydata.org/pandas-docs/stable/reference/api/pandas.Series.html) object indexed by a [_MultiIndex_](https://pandas.pydata.org/pandas-docs/stable/user_guide/advanced.html#advanced-hierarchical)."
   ]
  },
  {
   "cell_type": "code",
   "execution_count": null,
   "id": "7588e675",
   "metadata": {},
   "outputs": [],
   "source": [
    "train_counts.index"
   ]
  },
  {
   "cell_type": "markdown",
   "id": "ab25e7c6",
   "metadata": {},
   "source": [
    "We can treat a multi-indexed series as an multi-dimensional table with each level of the index corresponding to one dimension. You can index `counts` to obtain information on specified entry: "
   ]
  },
  {
   "cell_type": "code",
   "execution_count": null,
   "id": "4e1efeef",
   "metadata": {},
   "outputs": [],
   "source": [
    "train_counts[1,'female',2]"
   ]
  },
  {
   "cell_type": "markdown",
   "id": "dfd1e0b1",
   "metadata": {},
   "source": [
    "The index is hierarchical, if we do not provide all indices, a subset of elements will be returned e.g. "
   ]
  },
  {
   "cell_type": "code",
   "execution_count": null,
   "id": "a42f2f28",
   "metadata": {},
   "outputs": [],
   "source": [
    "train_counts[1,'female']"
   ]
  },
  {
   "cell_type": "markdown",
   "id": "652190f2",
   "metadata": {},
   "source": [
    "list the number of male surviving women  in each class. Similarly "
   ]
  },
  {
   "cell_type": "code",
   "execution_count": null,
   "id": "dabc07f0",
   "metadata": {},
   "outputs": [],
   "source": [
    "train_counts[1]"
   ]
  },
  {
   "cell_type": "markdown",
   "id": "b437462f",
   "metadata": {},
   "source": [
    "lists the number of survivors for each sex and class."
   ]
  },
  {
   "cell_type": "markdown",
   "id": "9d510d07",
   "metadata": {},
   "source": [
    "It is however better to use the `loc` function. With this function we can also use the _slicing_ notation. For example "
   ]
  },
  {
   "cell_type": "code",
   "execution_count": null,
   "id": "fad19716",
   "metadata": {},
   "outputs": [],
   "source": [
    "train_counts.loc[0, :,3]"
   ]
  },
  {
   "cell_type": "markdown",
   "id": "34abb2d6",
   "metadata": {},
   "source": [
    "list non-survivors in third class grouped according to sex. "
   ]
  },
  {
   "cell_type": "markdown",
   "id": "410cbf68",
   "metadata": {},
   "source": [
    "Both `[]` and `loc[]` can  also take a _tuple_ as an argument: "
   ]
  },
  {
   "cell_type": "code",
   "execution_count": null,
   "id": "2d4e6244",
   "metadata": {},
   "outputs": [],
   "source": [
    "train_counts.loc[(0, 'female',3)]"
   ]
  },
  {
   "cell_type": "markdown",
   "id": "b50ef876",
   "metadata": {},
   "source": [
    "but the use of slice notation in tuple is not permitted. You can use it by providing an explicit _slice_ object "
   ]
  },
  {
   "cell_type": "code",
   "execution_count": null,
   "id": "aecc0c7c",
   "metadata": {},
   "outputs": [],
   "source": [
    "train_counts.loc[(0, slice(None),3)]"
   ]
  },
  {
   "cell_type": "markdown",
   "id": "ce29b99b",
   "metadata": {},
   "source": [
    "Function `sum`  as expected returns the sum of all the entries of the series e.g. "
   ]
  },
  {
   "cell_type": "code",
   "execution_count": null,
   "id": "87f012e3",
   "metadata": {},
   "outputs": [],
   "source": [
    "train_n_survivors = train_counts[1].sum()\n",
    "train_n_dead = train_counts[0].sum()"
   ]
  },
  {
   "cell_type": "markdown",
   "id": "209fe632",
   "metadata": {},
   "source": [
    "### Classifier"
   ]
  },
  {
   "cell_type": "markdown",
   "id": "a737dbb7",
   "metadata": {},
   "source": [
    "To implement classifier we need to calculate the conditional probability of survival given sex and class:"
   ]
  },
  {
   "cell_type": "markdown",
   "id": "df35a8a4",
   "metadata": {},
   "source": [
    "$$P(survived|sex, pclass)$$"
   ]
  },
  {
   "cell_type": "markdown",
   "id": "34d3b50d",
   "metadata": {},
   "source": [
    "$survived$ here is the label that can take two values 0 for dead and 1 for survivors, but we can  calculate only the survival probability because of the relation"
   ]
  },
  {
   "cell_type": "markdown",
   "id": "0ae127bd",
   "metadata": {},
   "source": [
    "$$P(survived=1|sex, pclass)+P(survived=0|sex, pclass)=1$$"
   ]
  },
  {
   "cell_type": "markdown",
   "id": "35bebf27",
   "metadata": {},
   "source": [
    "We can use the Bayes theorem but it will be actually quicker to calculate it directly from the definition:"
   ]
  },
  {
   "cell_type": "markdown",
   "id": "ec0d6f22",
   "metadata": {},
   "source": [
    "$$P(survived|sex, pclass)=\\frac{P(survived,sex, pclass)}{P(sex, pclass)}\n",
    "\\approx \\frac{\\#(survived,sex, pclass)}{\\#(sex,pclass)}$$"
   ]
  },
  {
   "cell_type": "markdown",
   "id": "d238f142",
   "metadata": {},
   "source": [
    "where by $\\#$ I have denoted the number of passengers with given attributes. For example the probability of survival for a women traveling in second class is: "
   ]
  },
  {
   "cell_type": "markdown",
   "id": "be311ac7",
   "metadata": {},
   "source": [
    "$$\\frac{\\text{number of women in second class that survived}}{\\text{number of women in second class}}$$"
   ]
  },
  {
   "cell_type": "markdown",
   "id": "78e711d2",
   "metadata": {},
   "source": [
    "which we can calculate as"
   ]
  },
  {
   "cell_type": "code",
   "execution_count": null,
   "id": "e5e0dbf5",
   "metadata": {},
   "outputs": [],
   "source": [
    "train_counts[(1,'female',2)]/(train_counts[(1,'female',2)]+train_counts[(0,'female',2)])"
   ]
  },
  {
   "cell_type": "markdown",
   "id": "fdf21079",
   "metadata": {},
   "source": [
    "This operation has to be repeated for every sex and class combination. We do not have to do it index by index. Pandas have overloaded arithmetic operations that work  on all indices at once e.g. "
   ]
  },
  {
   "cell_type": "code",
   "execution_count": null,
   "id": "e179b370",
   "metadata": {},
   "outputs": [],
   "source": [
    "by_sex_pclass = train_counts.loc[0]+train_counts.loc[1]"
   ]
  },
  {
   "cell_type": "markdown",
   "id": "850bbabc",
   "metadata": {},
   "source": [
    "creates a series with number of passengers of each gender and class"
   ]
  },
  {
   "cell_type": "code",
   "execution_count": null,
   "id": "b816f2d5",
   "metadata": {},
   "outputs": [],
   "source": [
    "by_sex_pclass"
   ]
  },
  {
   "cell_type": "markdown",
   "id": "d7a71aea",
   "metadata": {},
   "source": [
    "Same effect can be achieved by passing `level` argument to the series `sum` function. The level argument lists the levels which are __not__ summed over. In other words those are the levels left after summation. To sum over the `survived` level we use"
   ]
  },
  {
   "cell_type": "code",
   "execution_count": null,
   "id": "189ab481",
   "metadata": {},
   "outputs": [],
   "source": [
    "by_sex_class = train_counts.groupby(level=['sex','pclass']).sum()"
   ]
  },
  {
   "cell_type": "markdown",
   "id": "45579b2f",
   "metadata": {},
   "source": [
    "Using `train_counts` and `by_sex_class` you can calculate required conditional propabilities. "
   ]
  },
  {
   "cell_type": "code",
   "execution_count": null,
   "id": "c7772fb0",
   "metadata": {},
   "outputs": [],
   "source": [
    "p_surv_cond_sex_pclass = (train_counts/by_sex_pclass)\n",
    "p_surv_cond_sex_pclass = p_surv_cond_sex_pclass.reorder_levels(['survived','sex','pclass']).sort_index()"
   ]
  },
  {
   "cell_type": "code",
   "execution_count": null,
   "id": "6ed54c09",
   "metadata": {},
   "outputs": [],
   "source": [
    "p_surv_cond_sex_pclass"
   ]
  },
  {
   "cell_type": "markdown",
   "id": "8100e02b",
   "metadata": {},
   "source": [
    "In the above expression we have used a very useful feature of pandas series. When performing an arithmetic operation  the elements of the series are _joined_ based on the common index levels.  "
   ]
  },
  {
   "cell_type": "markdown",
   "id": "04f34e8e",
   "metadata": {},
   "source": [
    "`train_counts` have three levels of index"
   ]
  },
  {
   "cell_type": "code",
   "execution_count": null,
   "id": "1f1566cc",
   "metadata": {},
   "outputs": [],
   "source": [
    "train_counts.index.names"
   ]
  },
  {
   "cell_type": "markdown",
   "id": "f4441a75",
   "metadata": {},
   "source": [
    "and `by_sex_class` has two"
   ]
  },
  {
   "cell_type": "code",
   "execution_count": null,
   "id": "f170ec60",
   "metadata": {},
   "outputs": [],
   "source": [
    "by_sex_class.index.names"
   ]
  },
  {
   "cell_type": "markdown",
   "id": "79cb95bd",
   "metadata": {},
   "source": [
    "Levels 'sex' and 'pclass' are common to both indexes so the expression"
   ]
  },
  {
   "cell_type": "markdown",
   "id": "d4eadfd8",
   "metadata": {},
   "source": [
    "```p_surv_cond_sex_pclass = (counts/by_sex_class)```\n",
    "\n",
    "\n",
    "will have a three level index with  levels 'survived', 'sex' and 'pclass'  and is equivalent to:\n",
    "\n",
    "```{python}\n",
    "p_surv_cond_sex_pclass = pd.Series(0,index=train_counts.index)\n",
    "for survived, sex, pclass in train_counts.index: \n",
    "    p = train_counts.loc[survived, sex, pclass]/by_sex_class.loc[sex, pclass]\n",
    "    p_surv_cond_sex_pclass.loc[(survived, sex, pclass)] = p\n",
    "```\n",
    "\n",
    "Unfortunatelly the automatic join operation also reorders the levels of the multi index so we have to order them back using `reorder_levels` and `sort_index` function."
   ]
  },
  {
   "cell_type": "markdown",
   "id": "19ab9b14",
   "metadata": {},
   "source": [
    "```p_surv_cond_sex_pclass = (counts/by_sex_class).reorder_levels(['survived','sex','pclass']).sort_index()```\n",
    "\n",
    "\n",
    "We can check that we indeed get the identical values\n",
    "\n",
    "```{python tags=c(\"answer\")}\n",
    "p_surv_cond_sex_pclass\n",
    "```"
   ]
  },
  {
   "cell_type": "code",
   "execution_count": null,
   "id": "1670e01e",
   "metadata": {},
   "outputs": [],
   "source": [
    "p_surv_cond_sex_pclass.groupby(level=['sex', 'pclass']).sum()"
   ]
  },
  {
   "cell_type": "markdown",
   "id": "3c5dfdcc",
   "metadata": {},
   "source": [
    "#### b) Calculate TPR and FPR on the train and test set. Draw the ROC curve and calculate AUC score for both sets."
   ]
  },
  {
   "cell_type": "markdown",
   "id": "c45b8934",
   "metadata": {},
   "source": [
    "The TPR is the fraction of survivors that were classified as survivors. And FPR is the fraction of dead persons that were classified as survivors. We classify a person as survivor when the probability of survival is  greater or equal to one half. "
   ]
  },
  {
   "cell_type": "markdown",
   "id": "338ea731",
   "metadata": {},
   "source": [
    "For ROC and AUC use the functions from scikit-learn library."
   ]
  },
  {
   "cell_type": "markdown",
   "id": "cad227be",
   "metadata": {},
   "source": [
    "#### c) Are those features conditionally independent? "
   ]
  },
  {
   "cell_type": "markdown",
   "id": "51646d16",
   "metadata": {},
   "source": [
    "To answer this question we need to compare conditional probability distribution"
   ]
  },
  {
   "cell_type": "markdown",
   "id": "72d3f9f9",
   "metadata": {},
   "source": [
    "$$P(sex,pclass|survived)$$"
   ]
  },
  {
   "cell_type": "markdown",
   "id": "9052f382",
   "metadata": {},
   "source": [
    "with"
   ]
  },
  {
   "cell_type": "markdown",
   "id": "c90e98c5",
   "metadata": {},
   "source": [
    "$$P(sex|survived)\\times P(pclass|survived)$$ "
   ]
  },
  {
   "cell_type": "markdown",
   "id": "a51bf990",
   "metadata": {},
   "source": [
    "Please note that $survived$ is actually a label for the survival status: 1 for survived and 0 for dead. "
   ]
  },
  {
   "cell_type": "markdown",
   "id": "97e977e5",
   "metadata": {},
   "source": [
    "By definition"
   ]
  },
  {
   "cell_type": "markdown",
   "id": "d6e401b3",
   "metadata": {},
   "source": [
    "$$P(sex,pclass|survived)= \\frac{P(sex,pclass,survived)}{P(survived)}$$"
   ]
  },
  {
   "cell_type": "markdown",
   "id": "02f6e05d",
   "metadata": {},
   "source": [
    "which can be calculated based on the `train_counts` object. "
   ]
  },
  {
   "cell_type": "markdown",
   "id": "d8b83321",
   "metadata": {},
   "source": [
    "#### d) Implement a Naive bayes classifier using same features and compare it with a)"
   ]
  },
  {
   "cell_type": "markdown",
   "id": "2b0e5898",
   "metadata": {},
   "source": [
    "Please calculate the FPR and TPR as well as AUC and draw the ROC curve for train and test datasets. "
   ]
  },
  {
   "cell_type": "markdown",
   "id": "ab85a4ea",
   "metadata": {},
   "source": [
    "We  have already calculated the probability "
   ]
  },
  {
   "cell_type": "markdown",
   "id": "df1434c6",
   "metadata": {},
   "source": [
    "$$P_{NB}(sex,pclass|survived) = P(sex|survived)\\times P(pclass|survived)$$"
   ]
  },
  {
   "cell_type": "markdown",
   "id": "339063fa",
   "metadata": {},
   "source": [
    "From which we can calculate "
   ]
  },
  {
   "cell_type": "markdown",
   "id": "9f859c69",
   "metadata": {},
   "source": [
    "$$P_{NB}(survived|sex,pclass)= \\frac{P_{NB}(sex,pclass|survived)P(survived)}{P_{NB}(sex,pclass)}$$"
   ]
  },
  {
   "cell_type": "markdown",
   "id": "1bf5327a",
   "metadata": {},
   "source": [
    "where the denominator is also calculated from the factorised probabilities"
   ]
  },
  {
   "cell_type": "markdown",
   "id": "98fc208d",
   "metadata": {},
   "source": [
    "$$P_{NB}(sex,pclass)= P_{NB}(sex,pclass|survived=1)P(survived=1)+P_{NB}(sex,pclass|survived=0)P(survived=0)$$"
   ]
  },
  {
   "cell_type": "markdown",
   "id": "84738812",
   "metadata": {},
   "source": [
    "That is very important because the result must be a probability and add up to one"
   ]
  },
  {
   "cell_type": "markdown",
   "id": "bc29da6e",
   "metadata": {},
   "source": [
    "$$P_{NB}(survived=1|sex,pclass)+P_{NB}(survived=0|sex,pclass)=1$$"
   ]
  },
  {
   "cell_type": "markdown",
   "id": "fb930df9",
   "metadata": {},
   "source": [
    "for each sex and passenger class. "
   ]
  }
 ],
 "metadata": {
  "kernelspec": {
   "display_name": "Python 3 (ipykernel)",
   "language": "python",
   "name": "python3"
  }
 },
 "nbformat": 4,
 "nbformat_minor": 5
}
