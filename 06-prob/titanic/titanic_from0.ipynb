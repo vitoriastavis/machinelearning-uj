{
 "cells": [
  {
   "cell_type": "markdown",
   "id": "18d6e2e6",
   "metadata": {
    "slideshow": {
     "slide_type": "slide"
    }
   },
   "source": [
    "# Titanic dataset"
   ]
  },
  {
   "cell_type": "markdown",
   "id": "fabe71d6",
   "metadata": {},
   "source": [
    "This assigment consists of the introductory problem [Titanic: Machine Learning from Disaster](https://www.kaggle.com/c/titanic). The goal is to train a classifier to predict persons that have survived the disaster. "
   ]
  },
  {
   "cell_type": "markdown",
   "id": "90ad66d5",
   "metadata": {},
   "source": [
    "We will start by reading in the, by now standard, Titanic dataset. It contains information about passengers of the Titanic. The information includes i.a. sex, age, name  and passenger class as well as information if the passenger survived or died in the disaster. You can find more details about this data set [here](http://campus.lakeforest.edu/frank/FILES/MLFfiles/Bio150/Titanic/TitanicMETA.pdf). "
   ]
  },
  {
   "cell_type": "markdown",
   "id": "6cbff46e",
   "metadata": {},
   "source": [
    "The data  is in \"coma separated values\" (csv) format and to read it we will use the [pandas](https://pandas.pydata.org) library. Pandas  provides tools for manipulating  data frames and series and is wildly used in data science projects. \n",
    "\n",
    "Please note that this is NOT a pandas manual. For detailed explanation of the concepts and functions used here you should consult the [documentation](https://pandas.pydata.org/pandas-docs/stable/getting_started/index.html). "
   ]
  },
  {
   "cell_type": "code",
   "execution_count": 1,
   "id": "4e6948c3",
   "metadata": {},
   "outputs": [],
   "source": [
    "import numpy as np\n",
    "import matplotlib.pyplot as plt\n",
    "plt.rcParams['figure.figsize'] = (8.0, 6.0)\n",
    "import pandas as pd"
   ]
  },
  {
   "cell_type": "code",
   "execution_count": 2,
   "id": "f1aced74",
   "metadata": {},
   "outputs": [],
   "source": [
    "data_all = pd.read_csv(\"titanic3.csv\")"
   ]
  },
  {
   "cell_type": "markdown",
   "id": "a922c220",
   "metadata": {},
   "source": [
    "`data_all` is a pandas  [_DataFrame_](https://pandas.pydata.org/pandas-docs/stable/reference/api/pandas.DataFrame.html) object. "
   ]
  },
  {
   "cell_type": "code",
   "execution_count": 3,
   "id": "e555fe63",
   "metadata": {},
   "outputs": [
    {
     "data": {
      "text/plain": [
       "pandas.core.frame.DataFrame"
      ]
     },
     "execution_count": 3,
     "metadata": {},
     "output_type": "execute_result"
    }
   ],
   "source": [
    "type(data_all)"
   ]
  },
  {
   "cell_type": "markdown",
   "id": "2edbd42b",
   "metadata": {},
   "source": [
    "We can check what attributes are stored in the DataFrame by listing the column names:"
   ]
  },
  {
   "cell_type": "code",
   "execution_count": 4,
   "id": "79ba5ae1",
   "metadata": {},
   "outputs": [
    {
     "data": {
      "text/plain": [
       "Index(['Unnamed: 0', 'pclass', 'survived', 'name', 'sex', 'age', 'sibsp',\n",
       "       'parch', 'ticket', 'fare', 'cabin', 'embarked', 'boat', 'body',\n",
       "       'home.dest'],\n",
       "      dtype='object')"
      ]
     },
     "execution_count": 4,
     "metadata": {},
     "output_type": "execute_result"
    }
   ],
   "source": [
    "data_all.columns"
   ]
  },
  {
   "cell_type": "markdown",
   "id": "2a003027",
   "metadata": {},
   "source": [
    "or get a quick preview using ```head``` function: "
   ]
  },
  {
   "cell_type": "code",
   "execution_count": 5,
   "id": "52e1de4d",
   "metadata": {},
   "outputs": [
    {
     "data": {
      "text/html": [
       "<div>\n",
       "<style scoped>\n",
       "    .dataframe tbody tr th:only-of-type {\n",
       "        vertical-align: middle;\n",
       "    }\n",
       "\n",
       "    .dataframe tbody tr th {\n",
       "        vertical-align: top;\n",
       "    }\n",
       "\n",
       "    .dataframe thead th {\n",
       "        text-align: right;\n",
       "    }\n",
       "</style>\n",
       "<table border=\"1\" class=\"dataframe\">\n",
       "  <thead>\n",
       "    <tr style=\"text-align: right;\">\n",
       "      <th></th>\n",
       "      <th>Unnamed: 0</th>\n",
       "      <th>pclass</th>\n",
       "      <th>survived</th>\n",
       "      <th>name</th>\n",
       "      <th>sex</th>\n",
       "      <th>age</th>\n",
       "      <th>sibsp</th>\n",
       "      <th>parch</th>\n",
       "      <th>ticket</th>\n",
       "      <th>fare</th>\n",
       "      <th>cabin</th>\n",
       "      <th>embarked</th>\n",
       "      <th>boat</th>\n",
       "      <th>body</th>\n",
       "      <th>home.dest</th>\n",
       "    </tr>\n",
       "  </thead>\n",
       "  <tbody>\n",
       "    <tr>\n",
       "      <th>0</th>\n",
       "      <td>0</td>\n",
       "      <td>1</td>\n",
       "      <td>1</td>\n",
       "      <td>Allen, Miss. Elisabeth Walton</td>\n",
       "      <td>female</td>\n",
       "      <td>29.0000</td>\n",
       "      <td>0</td>\n",
       "      <td>0</td>\n",
       "      <td>24160</td>\n",
       "      <td>211.3375</td>\n",
       "      <td>B5</td>\n",
       "      <td>S</td>\n",
       "      <td>2</td>\n",
       "      <td>NaN</td>\n",
       "      <td>St Louis, MO</td>\n",
       "    </tr>\n",
       "    <tr>\n",
       "      <th>1</th>\n",
       "      <td>1</td>\n",
       "      <td>1</td>\n",
       "      <td>1</td>\n",
       "      <td>Allison, Master. Hudson Trevor</td>\n",
       "      <td>male</td>\n",
       "      <td>0.9167</td>\n",
       "      <td>1</td>\n",
       "      <td>2</td>\n",
       "      <td>113781</td>\n",
       "      <td>151.5500</td>\n",
       "      <td>C22 C26</td>\n",
       "      <td>S</td>\n",
       "      <td>11</td>\n",
       "      <td>NaN</td>\n",
       "      <td>Montreal, PQ / Chesterville, ON</td>\n",
       "    </tr>\n",
       "  </tbody>\n",
       "</table>\n",
       "</div>"
      ],
      "text/plain": [
       "   Unnamed: 0  pclass  survived                            name     sex  \\\n",
       "0           0       1         1   Allen, Miss. Elisabeth Walton  female   \n",
       "1           1       1         1  Allison, Master. Hudson Trevor    male   \n",
       "\n",
       "       age  sibsp  parch  ticket      fare    cabin embarked boat  body  \\\n",
       "0  29.0000      0      0   24160  211.3375       B5        S    2   NaN   \n",
       "1   0.9167      1      2  113781  151.5500  C22 C26        S   11   NaN   \n",
       "\n",
       "                         home.dest  \n",
       "0                     St Louis, MO  \n",
       "1  Montreal, PQ / Chesterville, ON  "
      ]
     },
     "execution_count": 5,
     "metadata": {},
     "output_type": "execute_result"
    }
   ],
   "source": [
    "data_all.head(2)"
   ]
  },
  {
   "cell_type": "markdown",
   "id": "6dd1711a",
   "metadata": {},
   "source": [
    "For the description of those features please see the before mentioned [link](http://campus.lakeforest.edu/frank/FILES/MLFfiles/Bio150/Titanic/TitanicMETA.pdf). "
   ]
  },
  {
   "cell_type": "markdown",
   "id": "48c548d2",
   "metadata": {},
   "source": [
    "Another usefull function is ```info```:"
   ]
  },
  {
   "cell_type": "code",
   "execution_count": 6,
   "id": "5a560c79",
   "metadata": {},
   "outputs": [
    {
     "name": "stdout",
     "output_type": "stream",
     "text": [
      "<class 'pandas.core.frame.DataFrame'>\n",
      "RangeIndex: 1309 entries, 0 to 1308\n",
      "Data columns (total 15 columns):\n",
      " #   Column      Non-Null Count  Dtype  \n",
      "---  ------      --------------  -----  \n",
      " 0   Unnamed: 0  1309 non-null   int64  \n",
      " 1   pclass      1309 non-null   int64  \n",
      " 2   survived    1309 non-null   int64  \n",
      " 3   name        1309 non-null   object \n",
      " 4   sex         1309 non-null   object \n",
      " 5   age         1046 non-null   float64\n",
      " 6   sibsp       1309 non-null   int64  \n",
      " 7   parch       1309 non-null   int64  \n",
      " 8   ticket      1309 non-null   object \n",
      " 9   fare        1308 non-null   float64\n",
      " 10  cabin       295 non-null    object \n",
      " 11  embarked    1307 non-null   object \n",
      " 12  boat        486 non-null    object \n",
      " 13  body        121 non-null    float64\n",
      " 14  home.dest   745 non-null    object \n",
      "dtypes: float64(3), int64(5), object(7)\n",
      "memory usage: 153.5+ KB\n"
     ]
    }
   ],
   "source": [
    "data_all.info()"
   ]
  },
  {
   "cell_type": "markdown",
   "id": "e9f5d35b",
   "metadata": {},
   "source": [
    "As we can see not all attributes are known (non-null) for every passanger. This is a frequent situation in real datasets. "
   ]
  },
  {
   "cell_type": "code",
   "execution_count": 7,
   "id": "f5221ec8",
   "metadata": {},
   "outputs": [
    {
     "data": {
      "text/plain": [
       "0    0.618029\n",
       "1    0.381971\n",
       "Name: survived, dtype: float64"
      ]
     },
     "execution_count": 7,
     "metadata": {},
     "output_type": "execute_result"
    }
   ],
   "source": [
    "data_all.survived.value_counts()/len(data_all)"
   ]
  },
  {
   "cell_type": "markdown",
   "id": "875b026b",
   "metadata": {},
   "source": [
    "### Train/test split"
   ]
  },
  {
   "cell_type": "markdown",
   "id": "b353486d",
   "metadata": {},
   "source": [
    "As in every machine learning problem we should split our data into training and testing sets."
   ]
  },
  {
   "cell_type": "code",
   "execution_count": 8,
   "id": "c05bd8d5",
   "metadata": {},
   "outputs": [],
   "source": [
    "from sklearn.model_selection import train_test_split"
   ]
  },
  {
   "cell_type": "code",
   "execution_count": 9,
   "id": "c8fdaa2f",
   "metadata": {},
   "outputs": [],
   "source": [
    "seed = 5657\n",
    "train_data, test_data = train_test_split(data_all, train_size=0.8, stratify=data_all.survived, random_state=seed)"
   ]
  },
  {
   "cell_type": "code",
   "execution_count": 10,
   "id": "f3c19fe1",
   "metadata": {},
   "outputs": [
    {
     "name": "stdout",
     "output_type": "stream",
     "text": [
      "<class 'pandas.core.frame.DataFrame'>\n",
      "Int64Index: 1047 entries, 207 to 1206\n",
      "Data columns (total 15 columns):\n",
      " #   Column      Non-Null Count  Dtype  \n",
      "---  ------      --------------  -----  \n",
      " 0   Unnamed: 0  1047 non-null   int64  \n",
      " 1   pclass      1047 non-null   int64  \n",
      " 2   survived    1047 non-null   int64  \n",
      " 3   name        1047 non-null   object \n",
      " 4   sex         1047 non-null   object \n",
      " 5   age         845 non-null    float64\n",
      " 6   sibsp       1047 non-null   int64  \n",
      " 7   parch       1047 non-null   int64  \n",
      " 8   ticket      1047 non-null   object \n",
      " 9   fare        1046 non-null   float64\n",
      " 10  cabin       242 non-null    object \n",
      " 11  embarked    1045 non-null   object \n",
      " 12  boat        389 non-null    object \n",
      " 13  body        92 non-null     float64\n",
      " 14  home.dest   608 non-null    object \n",
      "dtypes: float64(3), int64(5), object(7)\n",
      "memory usage: 130.9+ KB\n"
     ]
    }
   ],
   "source": [
    "train_data.info()"
   ]
  },
  {
   "cell_type": "code",
   "execution_count": 11,
   "id": "b6c9b222",
   "metadata": {},
   "outputs": [
    {
     "name": "stdout",
     "output_type": "stream",
     "text": [
      "<class 'pandas.core.frame.DataFrame'>\n",
      "Int64Index: 262 entries, 650 to 853\n",
      "Data columns (total 15 columns):\n",
      " #   Column      Non-Null Count  Dtype  \n",
      "---  ------      --------------  -----  \n",
      " 0   Unnamed: 0  262 non-null    int64  \n",
      " 1   pclass      262 non-null    int64  \n",
      " 2   survived    262 non-null    int64  \n",
      " 3   name        262 non-null    object \n",
      " 4   sex         262 non-null    object \n",
      " 5   age         201 non-null    float64\n",
      " 6   sibsp       262 non-null    int64  \n",
      " 7   parch       262 non-null    int64  \n",
      " 8   ticket      262 non-null    object \n",
      " 9   fare        262 non-null    float64\n",
      " 10  cabin       53 non-null     object \n",
      " 11  embarked    262 non-null    object \n",
      " 12  boat        97 non-null     object \n",
      " 13  body        29 non-null     float64\n",
      " 14  home.dest   137 non-null    object \n",
      "dtypes: float64(3), int64(5), object(7)\n",
      "memory usage: 32.8+ KB\n"
     ]
    }
   ],
   "source": [
    "test_data.info()"
   ]
  },
  {
   "cell_type": "code",
   "execution_count": 12,
   "id": "e4573990",
   "metadata": {},
   "outputs": [
    {
     "data": {
      "text/plain": [
       "0    0.617956\n",
       "1    0.382044\n",
       "Name: survived, dtype: float64"
      ]
     },
     "execution_count": 12,
     "metadata": {},
     "output_type": "execute_result"
    }
   ],
   "source": [
    "train_data.survived.value_counts()/len(train_data)"
   ]
  },
  {
   "cell_type": "code",
   "execution_count": 13,
   "id": "ce178ac9",
   "metadata": {},
   "outputs": [
    {
     "data": {
      "text/plain": [
       "0    0.618321\n",
       "1    0.381679\n",
       "Name: survived, dtype: float64"
      ]
     },
     "execution_count": 13,
     "metadata": {},
     "output_type": "execute_result"
    }
   ],
   "source": [
    "test_data.survived.value_counts()/len(test_data)"
   ]
  },
  {
   "cell_type": "markdown",
   "id": "889b56f6",
   "metadata": {},
   "source": [
    "## Problem 1"
   ]
  },
  {
   "cell_type": "markdown",
   "id": "8c8077d8",
   "metadata": {},
   "source": [
    "__a__) Implement a Bayes classifier for predicting passenger survival  using sex and pclass  features."
   ]
  },
  {
   "cell_type": "markdown",
   "id": "92de7185",
   "metadata": {},
   "source": [
    "Actually this problem will be partially solved for you below to serve as an tutorial on pandas :) "
   ]
  },
  {
   "cell_type": "markdown",
   "id": "6f3c8d12",
   "metadata": {},
   "source": [
    "#### Preliminaries"
   ]
  },
  {
   "cell_type": "markdown",
   "id": "dc6b3c18",
   "metadata": {},
   "source": [
    "We will start by extracting from the frame  only the information we need:"
   ]
  },
  {
   "cell_type": "code",
   "execution_count": 14,
   "id": "66a8dcbf",
   "metadata": {},
   "outputs": [],
   "source": [
    "train_data = train_data[['pclass', 'sex', 'survived']]\n",
    "test_data = test_data[['pclass', 'sex', 'survived']]"
   ]
  },
  {
   "cell_type": "code",
   "execution_count": 15,
   "id": "ab24aef8",
   "metadata": {},
   "outputs": [],
   "source": [
    "train_n_samples = len(train_data)\n",
    "test_n_samples = len(test_data)"
   ]
  },
  {
   "cell_type": "code",
   "execution_count": 16,
   "id": "5dde292c",
   "metadata": {},
   "outputs": [
    {
     "data": {
      "text/html": [
       "<div>\n",
       "<style scoped>\n",
       "    .dataframe tbody tr th:only-of-type {\n",
       "        vertical-align: middle;\n",
       "    }\n",
       "\n",
       "    .dataframe tbody tr th {\n",
       "        vertical-align: top;\n",
       "    }\n",
       "\n",
       "    .dataframe thead th {\n",
       "        text-align: right;\n",
       "    }\n",
       "</style>\n",
       "<table border=\"1\" class=\"dataframe\">\n",
       "  <thead>\n",
       "    <tr style=\"text-align: right;\">\n",
       "      <th></th>\n",
       "      <th>pclass</th>\n",
       "      <th>sex</th>\n",
       "      <th>survived</th>\n",
       "    </tr>\n",
       "  </thead>\n",
       "  <tbody>\n",
       "    <tr>\n",
       "      <th>207</th>\n",
       "      <td>1</td>\n",
       "      <td>female</td>\n",
       "      <td>1</td>\n",
       "    </tr>\n",
       "    <tr>\n",
       "      <th>363</th>\n",
       "      <td>2</td>\n",
       "      <td>male</td>\n",
       "      <td>0</td>\n",
       "    </tr>\n",
       "    <tr>\n",
       "      <th>966</th>\n",
       "      <td>3</td>\n",
       "      <td>female</td>\n",
       "      <td>0</td>\n",
       "    </tr>\n",
       "    <tr>\n",
       "      <th>1292</th>\n",
       "      <td>3</td>\n",
       "      <td>male</td>\n",
       "      <td>0</td>\n",
       "    </tr>\n",
       "    <tr>\n",
       "      <th>118</th>\n",
       "      <td>1</td>\n",
       "      <td>male</td>\n",
       "      <td>0</td>\n",
       "    </tr>\n",
       "  </tbody>\n",
       "</table>\n",
       "</div>"
      ],
      "text/plain": [
       "      pclass     sex  survived\n",
       "207        1  female         1\n",
       "363        2    male         0\n",
       "966        3  female         0\n",
       "1292       3    male         0\n",
       "118        1    male         0"
      ]
     },
     "execution_count": 16,
     "metadata": {},
     "output_type": "execute_result"
    }
   ],
   "source": [
    "train_data.head(5)"
   ]
  },
  {
   "cell_type": "markdown",
   "id": "b85b9d08",
   "metadata": {},
   "source": [
    "First we need to group passengers according to sex, class and survival status. This can be achieved using  the [`groupby`](https://pandas.pydata.org/pandas-docs/stable/reference/api/pandas.DataFrame.groupby.html) function:"
   ]
  },
  {
   "cell_type": "code",
   "execution_count": 17,
   "id": "720bbd97",
   "metadata": {},
   "outputs": [],
   "source": [
    "train_grouped = train_data.groupby(['survived','sex','pclass'])"
   ]
  },
  {
   "cell_type": "markdown",
   "id": "817522ea",
   "metadata": {},
   "source": [
    "We can count the number of passegers in each group using function ```size```:"
   ]
  },
  {
   "cell_type": "code",
   "execution_count": 18,
   "id": "11641529",
   "metadata": {},
   "outputs": [],
   "source": [
    "train_counts = train_grouped.size()"
   ]
  },
  {
   "cell_type": "markdown",
   "id": "97122415",
   "metadata": {},
   "source": [
    "Object ```train_counts``` contains all the information that we need to construct the classifier:"
   ]
  },
  {
   "cell_type": "code",
   "execution_count": 19,
   "id": "2ed19fe7",
   "metadata": {},
   "outputs": [
    {
     "data": {
      "text/plain": [
       "survived  sex     pclass\n",
       "0         female  1           3\n",
       "                  2          10\n",
       "                  3          81\n",
       "          male    1          95\n",
       "                  2         125\n",
       "                  3         333\n",
       "1         female  1         120\n",
       "                  2          72\n",
       "                  3          85\n",
       "          male    1          45\n",
       "                  2          17\n",
       "                  3          61\n",
       "dtype: int64"
      ]
     },
     "execution_count": 19,
     "metadata": {},
     "output_type": "execute_result"
    }
   ],
   "source": [
    "train_counts"
   ]
  },
  {
   "cell_type": "markdown",
   "id": "54e41e04",
   "metadata": {},
   "source": [
    "`train_counts` is a pandas [_Series_](https://pandas.pydata.org/pandas-docs/stable/reference/api/pandas.Series.html) object indexed by a [_MultiIndex_](https://pandas.pydata.org/pandas-docs/stable/user_guide/advanced.html#advanced-hierarchical)."
   ]
  },
  {
   "cell_type": "code",
   "execution_count": 20,
   "id": "7588e675",
   "metadata": {},
   "outputs": [
    {
     "data": {
      "text/plain": [
       "MultiIndex([(0, 'female', 1),\n",
       "            (0, 'female', 2),\n",
       "            (0, 'female', 3),\n",
       "            (0,   'male', 1),\n",
       "            (0,   'male', 2),\n",
       "            (0,   'male', 3),\n",
       "            (1, 'female', 1),\n",
       "            (1, 'female', 2),\n",
       "            (1, 'female', 3),\n",
       "            (1,   'male', 1),\n",
       "            (1,   'male', 2),\n",
       "            (1,   'male', 3)],\n",
       "           names=['survived', 'sex', 'pclass'])"
      ]
     },
     "execution_count": 20,
     "metadata": {},
     "output_type": "execute_result"
    }
   ],
   "source": [
    "train_counts.index"
   ]
  },
  {
   "cell_type": "markdown",
   "id": "ab25e7c6",
   "metadata": {},
   "source": [
    "We can treat a multi-indexed series as an multi-dimensional table with each level of the index corresponding to one dimension. You can index `counts` to obtain information on specified entry: "
   ]
  },
  {
   "cell_type": "code",
   "execution_count": 21,
   "id": "4e1efeef",
   "metadata": {},
   "outputs": [
    {
     "data": {
      "text/plain": [
       "72"
      ]
     },
     "execution_count": 21,
     "metadata": {},
     "output_type": "execute_result"
    }
   ],
   "source": [
    "train_counts[1,'female',2]"
   ]
  },
  {
   "cell_type": "markdown",
   "id": "dfd1e0b1",
   "metadata": {},
   "source": [
    "The index is hierarchical, if we do not provide all indices, a subset of elements will be returned e.g. "
   ]
  },
  {
   "cell_type": "code",
   "execution_count": 22,
   "id": "a42f2f28",
   "metadata": {},
   "outputs": [
    {
     "data": {
      "text/plain": [
       "pclass\n",
       "1    120\n",
       "2     72\n",
       "3     85\n",
       "dtype: int64"
      ]
     },
     "execution_count": 22,
     "metadata": {},
     "output_type": "execute_result"
    }
   ],
   "source": [
    "train_counts[1,'female']"
   ]
  },
  {
   "cell_type": "markdown",
   "id": "652190f2",
   "metadata": {},
   "source": [
    "list the number of male surviving women  in each class. Similarly "
   ]
  },
  {
   "cell_type": "code",
   "execution_count": 23,
   "id": "dabc07f0",
   "metadata": {},
   "outputs": [
    {
     "data": {
      "text/plain": [
       "sex     pclass\n",
       "female  1         120\n",
       "        2          72\n",
       "        3          85\n",
       "male    1          45\n",
       "        2          17\n",
       "        3          61\n",
       "dtype: int64"
      ]
     },
     "execution_count": 23,
     "metadata": {},
     "output_type": "execute_result"
    }
   ],
   "source": [
    "train_counts[1]"
   ]
  },
  {
   "cell_type": "markdown",
   "id": "b437462f",
   "metadata": {},
   "source": [
    "lists the number of survivors for each sex and class."
   ]
  },
  {
   "cell_type": "markdown",
   "id": "9d510d07",
   "metadata": {},
   "source": [
    "It is however better to use the `loc` function. With this function we can also use the _slicing_ notation. For example "
   ]
  },
  {
   "cell_type": "code",
   "execution_count": 24,
   "id": "fad19716",
   "metadata": {},
   "outputs": [
    {
     "data": {
      "text/plain": [
       "sex\n",
       "female     81\n",
       "male      333\n",
       "dtype: int64"
      ]
     },
     "execution_count": 24,
     "metadata": {},
     "output_type": "execute_result"
    }
   ],
   "source": [
    "train_counts.loc[0, :,3]"
   ]
  },
  {
   "cell_type": "markdown",
   "id": "34abb2d6",
   "metadata": {},
   "source": [
    "list non-survivors in third class grouped according to sex. "
   ]
  },
  {
   "cell_type": "markdown",
   "id": "410cbf68",
   "metadata": {},
   "source": [
    "Both `[]` and `loc[]` can  also take a _tuple_ as an argument: "
   ]
  },
  {
   "cell_type": "code",
   "execution_count": 25,
   "id": "2d4e6244",
   "metadata": {},
   "outputs": [
    {
     "data": {
      "text/plain": [
       "81"
      ]
     },
     "execution_count": 25,
     "metadata": {},
     "output_type": "execute_result"
    }
   ],
   "source": [
    "train_counts.loc[(0, 'female',3)]"
   ]
  },
  {
   "cell_type": "markdown",
   "id": "b50ef876",
   "metadata": {},
   "source": [
    "but the use of slice notation in tuple is not permitted. You can use it by providing an explicit _slice_ object "
   ]
  },
  {
   "cell_type": "code",
   "execution_count": 26,
   "id": "aecc0c7c",
   "metadata": {},
   "outputs": [
    {
     "data": {
      "text/plain": [
       "sex\n",
       "female     81\n",
       "male      333\n",
       "dtype: int64"
      ]
     },
     "execution_count": 26,
     "metadata": {},
     "output_type": "execute_result"
    }
   ],
   "source": [
    "train_counts.loc[(0, slice(None),3)]"
   ]
  },
  {
   "cell_type": "markdown",
   "id": "ce29b99b",
   "metadata": {},
   "source": [
    "Function `sum`  as expected returns the sum of all the entries of the series e.g. "
   ]
  },
  {
   "cell_type": "code",
   "execution_count": 27,
   "id": "87f012e3",
   "metadata": {},
   "outputs": [],
   "source": [
    "train_n_survivors = train_counts[1].sum()\n",
    "train_n_dead = train_counts[0].sum()"
   ]
  },
  {
   "cell_type": "markdown",
   "id": "209fe632",
   "metadata": {},
   "source": [
    "### Classifier"
   ]
  },
  {
   "cell_type": "markdown",
   "id": "a737dbb7",
   "metadata": {},
   "source": [
    "To implement classifier we need to calculate the conditional probability of survival given sex and class:"
   ]
  },
  {
   "cell_type": "markdown",
   "id": "df35a8a4",
   "metadata": {},
   "source": [
    "$$P(survived|sex, pclass)$$"
   ]
  },
  {
   "cell_type": "markdown",
   "id": "34d3b50d",
   "metadata": {},
   "source": [
    "$survived$ here is the label that can take two values 0 for dead and 1 for survivors, but we can  calculate only the survival probability because of the relation"
   ]
  },
  {
   "cell_type": "markdown",
   "id": "0ae127bd",
   "metadata": {},
   "source": [
    "$$P(survived=1|sex, pclass)+P(survived=0|sex, pclass)=1$$"
   ]
  },
  {
   "cell_type": "markdown",
   "id": "35bebf27",
   "metadata": {},
   "source": [
    "We can use the Bayes theorem but it will be actually quicker to calculate it directly from the definition:"
   ]
  },
  {
   "cell_type": "markdown",
   "id": "ec0d6f22",
   "metadata": {},
   "source": [
    "$$P(survived|sex, pclass)=\\frac{P(survived,sex, pclass)}{P(sex, pclass)}\n",
    "\\approx \\frac{\\#(survived,sex, pclass)}{\\#(sex,pclass)}$$"
   ]
  },
  {
   "cell_type": "markdown",
   "id": "d238f142",
   "metadata": {},
   "source": [
    "where by $\\#$ I have denoted the number of passengers with given attributes. For example the probability of survival for a women traveling in second class is: "
   ]
  },
  {
   "cell_type": "markdown",
   "id": "be311ac7",
   "metadata": {},
   "source": [
    "$$\\frac{\\text{number of women in second class that survived}}{\\text{number of women in second class}}$$"
   ]
  },
  {
   "cell_type": "markdown",
   "id": "78e711d2",
   "metadata": {},
   "source": [
    "which we can calculate as"
   ]
  },
  {
   "cell_type": "code",
   "execution_count": 28,
   "id": "e5e0dbf5",
   "metadata": {},
   "outputs": [
    {
     "data": {
      "text/plain": [
       "0.8780487804878049"
      ]
     },
     "execution_count": 28,
     "metadata": {},
     "output_type": "execute_result"
    }
   ],
   "source": [
    "train_counts[(1,'female',2)]/(train_counts[(1,'female',2)]+train_counts[(0,'female',2)])"
   ]
  },
  {
   "cell_type": "markdown",
   "id": "fdf21079",
   "metadata": {},
   "source": [
    "This operation has to be repeated for every sex and class combination. We do not have to do it index by index. Pandas have overloaded arithmetic operations that work  on all indices at once e.g. "
   ]
  },
  {
   "cell_type": "code",
   "execution_count": 29,
   "id": "e179b370",
   "metadata": {},
   "outputs": [],
   "source": [
    "by_sex_pclass = train_counts.loc[0]+train_counts.loc[1]"
   ]
  },
  {
   "cell_type": "markdown",
   "id": "850bbabc",
   "metadata": {},
   "source": [
    "creates a series with number of passengers of each gender and class"
   ]
  },
  {
   "cell_type": "code",
   "execution_count": 30,
   "id": "b816f2d5",
   "metadata": {},
   "outputs": [
    {
     "data": {
      "text/plain": [
       "sex     pclass\n",
       "female  1         123\n",
       "        2          82\n",
       "        3         166\n",
       "male    1         140\n",
       "        2         142\n",
       "        3         394\n",
       "dtype: int64"
      ]
     },
     "execution_count": 30,
     "metadata": {},
     "output_type": "execute_result"
    }
   ],
   "source": [
    "by_sex_pclass"
   ]
  },
  {
   "cell_type": "markdown",
   "id": "d7a71aea",
   "metadata": {},
   "source": [
    "Same effect can be achieved by passing `level` argument to the series `sum` function. The level argument lists the levels which are __not__ summed over. In other words those are the levels left after summation. To sum over the `survived` level we use"
   ]
  },
  {
   "cell_type": "code",
   "execution_count": 31,
   "id": "189ab481",
   "metadata": {},
   "outputs": [],
   "source": [
    "by_sex_class = train_counts.groupby(level=['sex','pclass']).sum()"
   ]
  },
  {
   "cell_type": "markdown",
   "id": "45579b2f",
   "metadata": {},
   "source": [
    "Using `train_counts` and `by_sex_class` you can calculate required conditional propabilities. "
   ]
  },
  {
   "cell_type": "code",
   "execution_count": 32,
   "id": "c7772fb0",
   "metadata": {},
   "outputs": [],
   "source": [
    "p_surv_cond_sex_pclass = (train_counts/by_sex_pclass)\n",
    "p_surv_cond_sex_pclass = p_surv_cond_sex_pclass.reorder_levels(['survived','sex','pclass']).sort_index()"
   ]
  },
  {
   "cell_type": "code",
   "execution_count": 33,
   "id": "6ed54c09",
   "metadata": {},
   "outputs": [
    {
     "data": {
      "text/plain": [
       "survived  sex     pclass\n",
       "0         female  1         0.024390\n",
       "                  2         0.121951\n",
       "                  3         0.487952\n",
       "          male    1         0.678571\n",
       "                  2         0.880282\n",
       "                  3         0.845178\n",
       "1         female  1         0.975610\n",
       "                  2         0.878049\n",
       "                  3         0.512048\n",
       "          male    1         0.321429\n",
       "                  2         0.119718\n",
       "                  3         0.154822\n",
       "dtype: float64"
      ]
     },
     "execution_count": 33,
     "metadata": {},
     "output_type": "execute_result"
    }
   ],
   "source": [
    "p_surv_cond_sex_pclass"
   ]
  },
  {
   "cell_type": "markdown",
   "id": "8100e02b",
   "metadata": {},
   "source": [
    "In the above expression we have used a very useful feature of pandas series. When performing an arithmetic operation  the elements of the series are _joined_ based on the common index levels.  "
   ]
  },
  {
   "cell_type": "markdown",
   "id": "04f34e8e",
   "metadata": {},
   "source": [
    "`train_counts` have three levels of index"
   ]
  },
  {
   "cell_type": "code",
   "execution_count": 34,
   "id": "1f1566cc",
   "metadata": {},
   "outputs": [
    {
     "data": {
      "text/plain": [
       "FrozenList(['survived', 'sex', 'pclass'])"
      ]
     },
     "execution_count": 34,
     "metadata": {},
     "output_type": "execute_result"
    }
   ],
   "source": [
    "train_counts.index.names"
   ]
  },
  {
   "cell_type": "markdown",
   "id": "f4441a75",
   "metadata": {},
   "source": [
    "and `by_sex_class` has two"
   ]
  },
  {
   "cell_type": "code",
   "execution_count": 35,
   "id": "f170ec60",
   "metadata": {},
   "outputs": [
    {
     "data": {
      "text/plain": [
       "FrozenList(['sex', 'pclass'])"
      ]
     },
     "execution_count": 35,
     "metadata": {},
     "output_type": "execute_result"
    }
   ],
   "source": [
    "by_sex_class.index.names"
   ]
  },
  {
   "cell_type": "markdown",
   "id": "79cb95bd",
   "metadata": {},
   "source": [
    "Levels 'sex' and 'pclass' are common to both indexes so the expression"
   ]
  },
  {
   "cell_type": "markdown",
   "id": "d4eadfd8",
   "metadata": {},
   "source": [
    "```p_surv_cond_sex_pclass = (counts/by_sex_class)```\n",
    "\n",
    "\n",
    "will have a three level index with  levels 'survived', 'sex' and 'pclass'  and is equivalent to:\n",
    "\n",
    "```{python}\n",
    "p_surv_cond_sex_pclass = pd.Series(0,index=train_counts.index)\n",
    "for survived, sex, pclass in train_counts.index: \n",
    "    p = train_counts.loc[survived, sex, pclass]/by_sex_class.loc[sex, pclass]\n",
    "    p_surv_cond_sex_pclass.loc[(survived, sex, pclass)] = p\n",
    "```\n",
    "\n",
    "Unfortunatelly the automatic join operation also reorders the levels of the multi index so we have to order them back using `reorder_levels` and `sort_index` function."
   ]
  },
  {
   "cell_type": "markdown",
   "id": "19ab9b14",
   "metadata": {},
   "source": [
    "```p_surv_cond_sex_pclass = (counts/by_sex_class).reorder_levels(['survived','sex','pclass']).sort_index()```\n",
    "\n",
    "\n",
    "We can check that we indeed get the identical values\n",
    "\n",
    "```{python tags=c(\"answer\")}\n",
    "p_surv_cond_sex_pclass\n",
    "```"
   ]
  },
  {
   "cell_type": "code",
   "execution_count": 36,
   "id": "1670e01e",
   "metadata": {},
   "outputs": [
    {
     "data": {
      "text/plain": [
       "sex     pclass\n",
       "female  1         1.0\n",
       "        2         1.0\n",
       "        3         1.0\n",
       "male    1         1.0\n",
       "        2         1.0\n",
       "        3         1.0\n",
       "dtype: float64"
      ]
     },
     "execution_count": 36,
     "metadata": {},
     "output_type": "execute_result"
    }
   ],
   "source": [
    "p_surv_cond_sex_pclass.groupby(level=['sex', 'pclass']).sum()"
   ]
  },
  {
   "cell_type": "markdown",
   "id": "3c5dfdcc",
   "metadata": {},
   "source": [
    "#### b) Calculate TPR and FPR on the train and test set. Draw the ROC curve and calculate AUC score for both sets."
   ]
  },
  {
   "cell_type": "markdown",
   "id": "c45b8934",
   "metadata": {},
   "source": [
    "The TPR is the fraction of survivors that were classified as survivors. And FPR is the fraction of dead persons that were classified as survivors. We classify a person as survivor when the probability of survival is  greater or equal to one half. "
   ]
  },
  {
   "cell_type": "code",
   "execution_count": 38,
   "id": "824a6304-d652-4fd6-b3fe-156ab6cd8af1",
   "metadata": {},
   "outputs": [
    {
     "name": "stdout",
     "output_type": "stream",
     "text": [
      "0.6925 0.1901081916537867\n"
     ]
    }
   ],
   "source": [
    "rows = train_data.index.values\n",
    "\n",
    "#positives\n",
    "p = 0\n",
    "#negatives\n",
    "n = 0\n",
    "#true positives\n",
    "tp = 0\n",
    "#false positives\n",
    "fp = 0\n",
    "\n",
    "for row in rows:\n",
    "    pclass = train_data.loc[row, 'pclass']\n",
    "    sex = train_data.loc[row, 'sex']\n",
    "    label = train_data.loc[row, 'survived']\n",
    "\n",
    "    p_s = p_surv_cond_sex_pclass[1, sex, pclass]\n",
    " \n",
    "    if p_s >= 0.5 and label == 1:\n",
    "        p += 1\n",
    "        tp += 1\n",
    "    elif p_s < 0.5 and label == 1:\n",
    "        p += 1\n",
    "        fp += 1\n",
    "    else:\n",
    "        n += 1\n",
    "    \n",
    "#true positive rate = true positives/positives\n",
    "tpr = tp/p\n",
    "#false positive rate = false positives/negatives\n",
    "fpr = fp/n\n",
    "\n",
    "print(tpr, fpr)"
   ]
  },
  {
   "cell_type": "markdown",
   "id": "338ea731",
   "metadata": {},
   "source": [
    "For ROC and AUC use the functions from scikit-learn library."
   ]
  },
  {
   "cell_type": "code",
   "execution_count": 39,
   "id": "5f6c5420-d941-4a2e-9458-00e89df138df",
   "metadata": {},
   "outputs": [],
   "source": [
    "# get pdfs\n",
    "\n",
    "pdf = []\n",
    "\n",
    "for row in rows:\n",
    "  \n",
    "    pclass = train_data.loc[row, 'pclass']\n",
    "    sex = train_data.loc[row, 'sex']\n",
    "    p_s = p_surv_cond_sex_pclass[1, sex, pclass]\n",
    "    \n",
    "    pdf.append(p_s)"
   ]
  },
  {
   "cell_type": "code",
   "execution_count": 40,
   "id": "f21f6eae-1e41-41f5-ab65-2d2202b96695",
   "metadata": {},
   "outputs": [],
   "source": [
    "from sklearn.metrics import roc_auc_score, roc_curve, confusion_matrix, accuracy_score\n",
    "\n",
    "# get roc curve and auc scores\n",
    "fprs, tprs, thds = roc_curve(train_data['survived'], pdf)\n",
    "auc = roc_auc_score(train_data['survived'], pdf)"
   ]
  },
  {
   "cell_type": "code",
   "execution_count": 41,
   "id": "82e08a8a-0cb0-462f-a50d-bd77dbe06ed4",
   "metadata": {},
   "outputs": [
    {
     "data": {
      "image/png": "[encoded data removed]",
      "text/plain": [
       "<Figure size 800x800 with 1 Axes>"
      ]
     },
     "metadata": {},
     "output_type": "display_data"
    }
   ],
   "source": [
    "# plot roc curve and auc scores\n",
    "\n",
    "fig, ax = plt.subplots(figsize=[8,8])\n",
    "ax.set_aspect(1)\n",
    "ax.set_xlabel('FPR');\n",
    "ax.set_ylabel('TPR');\n",
    "ax.set_title('ROC')\n",
    "ax.plot(fprs, tprs, label='sex and pclass')\n",
    "ax.scatter([fpr],[tpr], color='blue', zorder = 5)\n",
    "\n",
    "ax.text(0.4,0.8,\"AUC = {:.3f}\".format(auc))\n",
    "ax.legend();"
   ]
  },
  {
   "cell_type": "markdown",
   "id": "cad227be",
   "metadata": {},
   "source": [
    "#### c) Are those features conditionally independent? "
   ]
  },
  {
   "cell_type": "markdown",
   "id": "51646d16",
   "metadata": {},
   "source": [
    "To answer this question we need to compare conditional probability distribution"
   ]
  },
  {
   "cell_type": "markdown",
   "id": "72d3f9f9",
   "metadata": {},
   "source": [
    "$$P(sex,pclass|survived)$$"
   ]
  },
  {
   "cell_type": "markdown",
   "id": "9052f382",
   "metadata": {},
   "source": [
    "with"
   ]
  },
  {
   "cell_type": "markdown",
   "id": "c90e98c5",
   "metadata": {},
   "source": [
    "$$P(sex|survived)\\times P(pclass|survived)$$ "
   ]
  },
  {
   "cell_type": "code",
   "execution_count": 42,
   "id": "e3cb75c1-43bb-4d69-a404-43746a77d32c",
   "metadata": {},
   "outputs": [],
   "source": [
    "# 𝑃(𝑠𝑒𝑥|𝑠𝑢𝑟𝑣𝑖𝑣𝑒𝑑)\n",
    "p_sex_given_survived = p_surv_cond_sex_pclass.xs(1, level='survived').groupby(level='sex').sum()\n",
    "p_sex_given_survived = p_sex_given_survived.values"
   ]
  },
  {
   "cell_type": "code",
   "execution_count": 43,
   "id": "cdaaf9f1-2859-402f-a539-983227e6b62a",
   "metadata": {},
   "outputs": [],
   "source": [
    "# 𝑃(𝑝𝑐𝑙𝑎𝑠𝑠|𝑠𝑢𝑟𝑣𝑖𝑣𝑒𝑑)\n",
    "p_pclass_given_survived = p_surv_cond_sex_pclass.xs(1, level='survived').groupby(level='pclass').sum()\n",
    "p_pclass_given_survived = p_pclass_given_survived.values"
   ]
  },
  {
   "cell_type": "code",
   "execution_count": 44,
   "id": "838bbb65-4e35-4f91-951c-0843cf8e12e1",
   "metadata": {},
   "outputs": [
    {
     "data": {
      "text/plain": [
       "[3.068412299661807,\n",
       " 2.360424319964208,\n",
       " 1.577620095217585,\n",
       " 0.7729949155838122,\n",
       " 0.5946384708970867,\n",
       " 0.39743430583316736]"
      ]
     },
     "execution_count": 44,
     "metadata": {},
     "output_type": "execute_result"
    }
   ],
   "source": [
    "# 𝑃(𝑠𝑒𝑥|𝑠𝑢𝑟𝑣𝑖𝑣𝑒𝑑)×𝑃(𝑝𝑐𝑙𝑎𝑠𝑠|𝑠𝑢𝑟𝑣𝑖𝑣𝑒𝑑)\n",
    "\n",
    "import itertools\n",
    "\n",
    "# cartesian product of P(sex|survived) and P(pclass|survived)\n",
    "cartesian_product = list(itertools.product(p_sex_given_survived, p_pclass_given_survived))\n",
    "\n",
    "p_s_sv_x_p_pc_sv = [sex_prob * pclass_prob for sex_prob, pclass_prob in cartesian_product]\n",
    "\n",
    "p_s_sv_x_p_pc_sv"
   ]
  },
  {
   "cell_type": "markdown",
   "id": "a51bf990",
   "metadata": {
    "tags": []
   },
   "source": [
    "Please note that $survived$ is actually a label for the survival status: 1 for survived and 0 for dead. "
   ]
  },
  {
   "cell_type": "markdown",
   "id": "97e977e5",
   "metadata": {},
   "source": [
    "By definition"
   ]
  },
  {
   "cell_type": "markdown",
   "id": "02f6e05d",
   "metadata": {},
   "source": [
    "which can be calculated based on the `train_counts` object. "
   ]
  },
  {
   "cell_type": "markdown",
   "id": "d6e401b3",
   "metadata": {},
   "source": [
    "$$P(sex,pclass|survived)= \\frac{P(sex,pclass,survived)}{P(survived)}$$"
   ]
  },
  {
   "cell_type": "code",
   "execution_count": 45,
   "id": "68b33a36-52f8-4ded-adbf-feecca4f8f70",
   "metadata": {},
   "outputs": [],
   "source": [
    "p_s_pc_sv = p_surv_cond_sex_pclass[1, :, :].values"
   ]
  },
  {
   "cell_type": "code",
   "execution_count": 46,
   "id": "f56fc5b3-f9aa-400b-921c-335256550c30",
   "metadata": {},
   "outputs": [],
   "source": [
    "surv = train_counts[1,:,:].values.sum()\n",
    "total = train_counts[:,:,:].values.sum()\n",
    "p_s = surv/total"
   ]
  },
  {
   "cell_type": "code",
   "execution_count": 47,
   "id": "53346a19-2012-44b0-856a-9fd0bf038671",
   "metadata": {},
   "outputs": [
    {
     "data": {
      "text/plain": [
       "array([2.55365854, 2.29829268, 1.34028614, 0.84133929, 0.31336268,\n",
       "       0.40524746])"
      ]
     },
     "execution_count": 47,
     "metadata": {},
     "output_type": "execute_result"
    }
   ],
   "source": [
    "# 𝑃(𝑠𝑒𝑥,𝑝𝑐𝑙𝑎𝑠𝑠|𝑠𝑢𝑟𝑣𝑖𝑣𝑒𝑑)\n",
    "p_s_pc_given_sv = p_s_pc_sv/p_s\n",
    "p_s_pc_given_sv "
   ]
  },
  {
   "cell_type": "code",
   "execution_count": 48,
   "id": "0288a1d2-d888-4c73-9c83-61244688d183",
   "metadata": {},
   "outputs": [
    {
     "data": {
      "text/plain": [
       "[3.068412299661807,\n",
       " 2.360424319964208,\n",
       " 1.577620095217585,\n",
       " 0.7729949155838122,\n",
       " 0.5946384708970867,\n",
       " 0.39743430583316736]"
      ]
     },
     "execution_count": 48,
     "metadata": {},
     "output_type": "execute_result"
    }
   ],
   "source": [
    "p_s_sv_x_p_pc_sv"
   ]
  },
  {
   "cell_type": "code",
   "execution_count": 52,
   "id": "315c459c-13ce-4f6b-ac99-4361bd873903",
   "metadata": {},
   "outputs": [
    {
     "data": {
      "text/plain": [
       "[2.553658536585366,\n",
       " 2.2982926829268293,\n",
       " 1.3402861445783134,\n",
       " 0.8413392857142857,\n",
       " 0.313362676056338,\n",
       " 0.405247461928934]"
      ]
     },
     "execution_count": 52,
     "metadata": {},
     "output_type": "execute_result"
    }
   ],
   "source": [
    "p_s_pc_given_sv = list(p_s_pc_given_sv)\n",
    "p_s_pc_given_sv"
   ]
  },
  {
   "cell_type": "markdown",
   "id": "3ec5e54e-98b4-4b4e-b0f3-3531478f4f46",
   "metadata": {},
   "source": [
    "since the arrays are similar, there could be conditional dependency"
   ]
  },
  {
   "cell_type": "markdown",
   "id": "d8b83321",
   "metadata": {},
   "source": [
    "#### d) Implement a Naive bayes classifier using same features and compare it with a)"
   ]
  },
  {
   "cell_type": "code",
   "execution_count": 88,
   "id": "426b3c0a-f8b3-4a56-8961-1b805399c90d",
   "metadata": {},
   "outputs": [],
   "source": [
    "from scipy.stats import norm\n",
    "import scipy.stats as st\n",
    "\n",
    "# make pdf function for 2 features pclass and sex | survived\n",
    "def make_pdf(labels, pclass, sex):\n",
    "        \n",
    "    positives = labels==1\n",
    "    negatives = labels==0\n",
    "    \n",
    "    pdf_pclass_p = st.norm(*st.norm.fit(pclass[positives])).pdf\n",
    "    pdf_pclass_n = st.norm(*st.norm.fit(pclass[negatives])).pdf \n",
    "    \n",
    "    pdf_sex_p = st.norm(*st.norm.fit(sex[positives])).pdf\n",
    "    pdf_sex_n = st.norm(*st.norm.fit(sex[negatives])).pdf                  \n",
    "                      \n",
    "    p_p = labels.mean()\n",
    "    p_n = 1-p_p\n",
    "            \n",
    "    def pdf(pclass_input, sex_input):\n",
    "        p_prod = pdf_pclass_p(pclass_input)*pdf_sex_p(sex_input)*p_p\n",
    "        n_prod = pdf_pclass_n(pclass_input)*pdf_sex_n(sex_input)*p_n\n",
    "        \n",
    "        return p_prod/(p_prod +n_prod)\n",
    "\n",
    "    return pdf"
   ]
  },
  {
   "cell_type": "code",
   "execution_count": 121,
   "id": "097167dd-a8ea-440b-8c2f-839b7e40164d",
   "metadata": {},
   "outputs": [],
   "source": [
    "# classifier with train data\n",
    "\n",
    "# divide data\n",
    "X_train = train_data[['pclass', 'sex']]\n",
    "pclass_train = X_train['pclass']\n",
    "sex_train = X_train['sex']\n",
    "sex_train = sex_train.replace('female', 1)\n",
    "sex_train = sex_train.replace('male', 2)\n",
    "y_train = train_data['survived']\n",
    "\n",
    "# make pdf function\n",
    "pdf_train = make_pdf(y_train, pclass_train, sex_train)\n",
    "\n",
    "# get fpr and tpr\n",
    "(_, fpr_train),(_, tpr_train) = confusion_matrix(y_train, pdf_train(pclass_train, sex_train)>0.5, normalize='true' )\n",
    "\n",
    "# get roc curve and auc score\n",
    "fprs_train, tprs_train, thds = roc_curve(y_train, pdf_train(pclass_train, sex_train))\n",
    "auc_train = roc_auc_score(y_train, pdf_train(pclass_train, sex_train))"
   ]
  },
  {
   "cell_type": "code",
   "execution_count": 127,
   "id": "c5759542-b3d8-468a-bbad-1b44a702ffd6",
   "metadata": {},
   "outputs": [],
   "source": [
    "# classifier with test data\n",
    "\n",
    "# divide data\n",
    "X_test = test_data[['pclass', 'sex']]\n",
    "pclass_test = X_test['pclass']\n",
    "sex_test = X_test['sex']\n",
    "sex_test = sex_test.replace('female', 1)\n",
    "sex_test = sex_test.replace('male', 2)\n",
    "y_test = test_data['survived']\n",
    "\n",
    "# make pdf function\n",
    "pdf_test = make_pdf(y_test, pclass_test, sex_test)\n",
    "\n",
    "# get fpr and tpr\n",
    "(_, fpr_test),(_, tpr_test) = confusion_matrix(y_test, pdf_test(pclass_test, sex_test)>0.5, normalize='true')\n",
    "\n",
    "# get roc curve and auc score\n",
    "fprs_test, tprs_test, thds = roc_curve(y_test, pdf_test(pclass_test, sex_test))\n",
    "auc_test = roc_auc_score(y_test, pdf_test(pclass_test, sex_test))"
   ]
  },
  {
   "cell_type": "code",
   "execution_count": 128,
   "id": "f026625b-3064-4518-800d-56c018e80d2a",
   "metadata": {},
   "outputs": [
    {
     "data": {
      "image/png": "[encoded data removed]",
      "text/plain": [
       "<Figure size 800x800 with 1 Axes>"
      ]
     },
     "metadata": {},
     "output_type": "display_data"
    }
   ],
   "source": [
    "# plot roc curve with auc score\n",
    "\n",
    "fig, ax = plt.subplots(figsize=[8,8])\n",
    "ax.set_aspect(1)\n",
    "ax.set_xlabel('FPR');\n",
    "ax.set_ylabel('TPR');\n",
    "ax.set_title('ROC')\n",
    "\n",
    "ax.plot(fprs_train, tprs_train, label='pclass and sex - train')\n",
    "ax.scatter([fpr_train],[tpr_train], color='blue', zorder = 5)\n",
    "\n",
    "ax.plot(fprs_test, tprs_test, label='pclass and sex - test')\n",
    "ax.scatter([fpr_test],[tpr_test], color='orange', zorder = 5)\n",
    "\n",
    "ax.text(0.4,0.4,\"AUC train = {:.3f}\\nAUC test = {:.3f}\".format(auc_train, auc_test))\n",
    "ax.legend();"
   ]
  },
  {
   "cell_type": "markdown",
   "id": "2b0e5898",
   "metadata": {},
   "source": [
    "Please calculate the FPR and TPR as well as AUC and draw the ROC curve for train and test datasets. "
   ]
  },
  {
   "cell_type": "markdown",
   "id": "ab85a4ea",
   "metadata": {},
   "source": [
    "We  have already calculated the probability "
   ]
  },
  {
   "cell_type": "markdown",
   "id": "df1434c6",
   "metadata": {},
   "source": [
    "$$P_{NB}(sex,pclass|survived) = P(sex|survived)\\times P(pclass|survived)$$"
   ]
  },
  {
   "cell_type": "markdown",
   "id": "339063fa",
   "metadata": {},
   "source": [
    "From which we can calculate "
   ]
  },
  {
   "cell_type": "markdown",
   "id": "9f859c69",
   "metadata": {},
   "source": [
    "$$P_{NB}(survived|sex,pclass)= \\frac{P_{NB}(sex,pclass|survived)P(survived)}{P_{NB}(sex,pclass)}$$"
   ]
  },
  {
   "cell_type": "markdown",
   "id": "1bf5327a",
   "metadata": {},
   "source": [
    "where the denominator is also calculated from the factorised probabilities"
   ]
  },
  {
   "cell_type": "markdown",
   "id": "98fc208d",
   "metadata": {},
   "source": [
    "$$P_{NB}(sex,pclass)= P_{NB}(sex,pclass|survived=1)P(survived=1)+P_{NB}(sex,pclass|survived=0)P(survived=0)$$"
   ]
  },
  {
   "cell_type": "markdown",
   "id": "84738812",
   "metadata": {},
   "source": [
    "That is very important because the result must be a probability and add up to one"
   ]
  },
  {
   "cell_type": "markdown",
   "id": "bc29da6e",
   "metadata": {},
   "source": [
    "$$P_{NB}(survived=1|sex,pclass)+P_{NB}(survived=0|sex,pclass)=1$$"
   ]
  },
  {
   "cell_type": "markdown",
   "id": "fb930df9",
   "metadata": {},
   "source": [
    "for each sex and passenger class. "
   ]
  }
 ],
 "metadata": {
  "kernelspec": {
   "display_name": "Python 3 (ipykernel)",
   "language": "python",
   "name": "python3"
  },
  "language_info": {
   "codemirror_mode": {
    "name": "ipython",
    "version": 3
   },
   "file_extension": ".py",
   "mimetype": "text/x-python",
   "name": "python",
   "nbconvert_exporter": "python",
   "pygments_lexer": "ipython3",
   "version": "3.9.13"
  }
 },
 "nbformat": 4,
 "nbformat_minor": 5
}
