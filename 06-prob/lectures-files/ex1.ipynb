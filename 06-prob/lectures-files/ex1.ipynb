{
 "cells": [
  {
   "cell_type": "code",
   "execution_count": 2,
   "id": "9f5cdc25-d970-4cbb-9a3f-ee8e974c4f68",
   "metadata": {},
   "outputs": [],
   "source": [
    "# 80% TPR\n",
    "# 10 FPR\n",
    "\n",
    "fpr = 0.80\n",
    "# p(positive|sick)\n",
    "\n",
    "tpr = 0.10\n",
    "# p(positive|notsick)\n",
    "\n",
    "p_s = 0.001\n",
    "p_ns = 0.999\n",
    "\n",
    "\n",
    "# p(sick|positive) =\n",
    "\n",
    "# p(positive|sick)*positive(sick)/\n",
    "# p(positive)\n",
    "\n",
    "# p(positive|sick)*positive(sick)/\n",
    "# p(positive|sick)*p(sick) + p(positive|notsick)*p(notsick)\n",
    "\n",
    "# 0.8 * 0.0001/\n",
    "# 0.8 * 0.0001 + 0.1 * 0.999\n",
    "\n",
    "# p(sick|positive) = 0.008\n",
    "\n",
    "p_sp = (fpr*p_s)/(fpr*p_s+tpr*p_ns)\n",
    "    \n",
    "# precision\n",
    "\n",
    "# use the bayes formula"
   ]
  },
  {
   "cell_type": "code",
   "execution_count": 3,
   "id": "10459f7c-64c7-4633-9218-a99326882487",
   "metadata": {},
   "outputs": [
    {
     "data": {
      "text/plain": [
       "0.007944389275074478"
      ]
     },
     "execution_count": 3,
     "metadata": {},
     "output_type": "execute_result"
    }
   ],
   "source": [
    "p_sp"
   ]
  },
  {
   "cell_type": "code",
   "execution_count": null,
   "id": "0fc60fe3-2350-4d7d-861d-a5449aeeaae7",
   "metadata": {},
   "outputs": [],
   "source": []
  }
 ],
 "metadata": {
  "kernelspec": {
   "display_name": "Python 3 (ipykernel)",
   "language": "python",
   "name": "python3"
  },
  "language_info": {
   "codemirror_mode": {
    "name": "ipython",
    "version": 3
   },
   "file_extension": ".py",
   "mimetype": "text/x-python",
   "name": "python",
   "nbconvert_exporter": "python",
   "pygments_lexer": "ipython3",
   "version": "3.9.13"
  }
 },
 "nbformat": 4,
 "nbformat_minor": 5
}
