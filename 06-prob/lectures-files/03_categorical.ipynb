{
 "cells": [
  {
   "cell_type": "code",
   "execution_count": null,
   "id": "ee8dacf4",
   "metadata": {
    "slideshow": {
     "slide_type": "skip"
    }
   },
   "outputs": [],
   "source": [
    "import matplotlib.pyplot as plt\n",
    "import numpy as np\n",
    "import pandas as pd"
   ]
  },
  {
   "cell_type": "code",
   "execution_count": null,
   "id": "8ed2bdab",
   "metadata": {
    "slideshow": {
     "slide_type": "skip"
    }
   },
   "outputs": [],
   "source": [
    "%matplotlib inline\n",
    "plt.rcParams[\"figure.figsize\"] = [12,8]"
   ]
  },
  {
   "cell_type": "markdown",
   "id": "1ac451b1",
   "metadata": {
    "slideshow": {
     "slide_type": "slide"
    }
   },
   "source": [
    "## Training (Naive) Bayes"
   ]
  },
  {
   "cell_type": "markdown",
   "id": "08967f62",
   "metadata": {
    "slideshow": {
     "slide_type": "notes"
    }
   },
   "source": [
    "As we have shown in the previous lectures training a Bayes classifier amounts to finding the conditional probability distributions of the features $\\mathbf{f}$ given the class label $c$. "
   ]
  },
  {
   "cell_type": "markdown",
   "id": "e153af7a",
   "metadata": {
    "slideshow": {
     "slide_type": "-"
    }
   },
   "source": [
    "$$P(\\mathbf{F}=\\mathbf{f}|C=c)$$"
   ]
  },
  {
   "cell_type": "markdown",
   "id": "76485af3",
   "metadata": {
    "slideshow": {
     "slide_type": "notes"
    }
   },
   "source": [
    "In case of the Naive bayes classifier the $n_f$ features are conditionally independent "
   ]
  },
  {
   "cell_type": "markdown",
   "id": "4e6049b0",
   "metadata": {
    "slideshow": {
     "slide_type": "fragment"
    }
   },
   "source": [
    "$$P(\\mathbf{F}=\\mathbf{f}|C=c)=\\prod_{i=0}^{n_f-1} P(F_i=f_i|C=c)$$"
   ]
  },
  {
   "cell_type": "markdown",
   "id": "3c34217b",
   "metadata": {
    "slideshow": {
     "slide_type": "notes"
    }
   },
   "source": [
    "so we can estimate   probality distribution  for each feature separately. "
   ]
  },
  {
   "cell_type": "markdown",
   "id": "410fbbea",
   "metadata": {
    "slideshow": {
     "slide_type": "slide"
    }
   },
   "source": [
    "### Categorical features"
   ]
  },
  {
   "cell_type": "markdown",
   "id": "300a596a",
   "metadata": {
    "slideshow": {
     "slide_type": "notes"
    }
   },
   "source": [
    "In case of categorical features each $x_i$ has a finite $m_i$  number of possible values (categories) that, without any loss of generality we can  assume, take values $0,\\ldots,m_i-1$. In the same way we  will assume that the class labels take $n_c$ integer values $c=0,\\ldots,n_c-1$. \n",
    "\n",
    "So for each feature we have  to estimate  $n_c\\times m_i$ probabilities "
   ]
  },
  {
   "cell_type": "markdown",
   "id": "afd430e7",
   "metadata": {
    "slideshow": {
     "slide_type": "fragment"
    }
   },
   "source": [
    "$$p^{(c)}_{ij} = P(F_i = j|C = c)$$"
   ]
  },
  {
   "cell_type": "markdown",
   "id": "3b58bd42",
   "metadata": {
    "slideshow": {
     "slide_type": "notes"
    }
   },
   "source": [
    "Of course they are not all idependent. Normalisation requires"
   ]
  },
  {
   "cell_type": "markdown",
   "id": "ba114eb2",
   "metadata": {
    "slideshow": {
     "slide_type": "fragment"
    }
   },
   "source": [
    "$$\\sum_{j=0}^{m_i-1} p^{(c)}_{ij}=1,\\quad i=0,\\ldots,n_f,\\; c=0,\\ldots,n_c$$"
   ]
  },
  {
   "cell_type": "markdown",
   "id": "2d49cd64",
   "metadata": {
    "slideshow": {
     "slide_type": "notes"
    }
   },
   "source": [
    "Let $\\mathbf{X}$ denote the $n_s \\times n_f$ matrix of training data where $n_s$ is the number of samples. So $X_{hi}$ denotes the value of the ith   feature in  sample $h$. Let  $y_h$ denote the corresponding label"
   ]
  },
  {
   "cell_type": "markdown",
   "id": "ee4ee39e",
   "metadata": {
    "slideshow": {
     "slide_type": "slide"
    }
   },
   "source": [
    "$$X_{hi} \\in \\{0,\\ldots,m_i-1\\},\\quad  y_h \\in \\{0,\\ldots,n_c-1\\},\\quad h = 0,\\ldots,n_s-1$$"
   ]
  },
  {
   "cell_type": "markdown",
   "id": "c11dcf1c",
   "metadata": {
    "slideshow": {
     "slide_type": "skip"
    }
   },
   "source": [
    "Let's introduce some more notation. $n_c$ will denote the number of samples belonging to class $c$"
   ]
  },
  {
   "cell_type": "markdown",
   "id": "32e2fa2b",
   "metadata": {
    "slideshow": {
     "slide_type": "fragment"
    }
   },
   "source": [
    "$$n^{c}=\\sum_{h=0}^{n_s-1}\\delta_{y_h,c},\\qquad \\delta_{a,b}=\n",
    "\\begin{cases}\n",
    "1 & a=b\\\\\n",
    "0 & a\\neq b\n",
    "\\end{cases}$$"
   ]
  },
  {
   "cell_type": "markdown",
   "id": "0ee27803",
   "metadata": {
    "slideshow": {
     "slide_type": "notes"
    }
   },
   "source": [
    "and $n^{(c)}_{ij}$ the number of samples of class $c$ with feature $i$ equal to  $j$"
   ]
  },
  {
   "cell_type": "markdown",
   "id": "a2e395bf",
   "metadata": {
    "slideshow": {
     "slide_type": "fragment"
    }
   },
   "source": [
    "$$n^{(c)}_{ij} = \\displaystyle\n",
    "\\sum_{h=0}^{n_s-1} \\delta_{X_{hi},j}\\delta_{y_h,c}\n",
    "$$"
   ]
  },
  {
   "cell_type": "markdown",
   "id": "78481c9b",
   "metadata": {
    "slideshow": {
     "slide_type": "skip"
    }
   },
   "source": [
    "To estimate the probabilities we will use a smoothed estimator "
   ]
  },
  {
   "cell_type": "markdown",
   "id": "1be0b964",
   "metadata": {
    "slideshow": {
     "slide_type": "fragment"
    }
   },
   "source": [
    "$$p^{(c)}_{ij} = \\frac{n^{(c)}_{ij}+\\alpha}{n^c+m_i\\alpha} $$"
   ]
  },
  {
   "cell_type": "markdown",
   "id": "53d8ed0e",
   "metadata": {
    "slideshow": {
     "slide_type": "skip"
    }
   },
   "source": [
    "where $\\alpha\\ge 0$ is a smoothing parameter. The use of  non-zero smoothing parameter ensures a non-vanishing probability even when $n^{(c)}_{ij}=0$. "
   ]
  },
  {
   "cell_type": "markdown",
   "id": "b4f5a8e8",
   "metadata": {
    "slideshow": {
     "slide_type": "slide"
    }
   },
   "source": [
    "## Example: Car evaluation data set"
   ]
  },
  {
   "cell_type": "markdown",
   "id": "a89ab4e7",
   "metadata": {
    "slideshow": {
     "slide_type": "skip"
    }
   },
   "source": [
    "As an example we will use the [car evaluation dataset](http://archive.ics.uci.edu/ml/datasets/Car+Evaluation) from [UCI Machine Learning repository](http://archive.ics.uci.edu/ml/). It contains 1728 samples with six atttributes (features) each. The class label is the evaluation of the car: $\\{unacc, acc, good, vgood\\}$."
   ]
  },
  {
   "cell_type": "markdown",
   "id": "89d66da3",
   "metadata": {
    "slideshow": {
     "slide_type": "skip"
    }
   },
   "source": [
    "All six parameters are categorical and the data contains exactly one sample for each possible combination of attributes values (in this respect this is quite peculiar dataset)."
   ]
  },
  {
   "cell_type": "markdown",
   "id": "eb08f866",
   "metadata": {
    "slideshow": {
     "slide_type": "skip"
    }
   },
   "source": [
    "As before we will use pandas to read and proccess the data."
   ]
  },
  {
   "cell_type": "code",
   "execution_count": null,
   "id": "3d532e7a",
   "metadata": {
    "slideshow": {
     "slide_type": "slide"
    }
   },
   "outputs": [],
   "source": [
    "cars_data = pd.read_csv(\"../../Data/Cars/car_data.csv\", names=['buying', 'maint', 'doors', 'persons', 'lug_boot', 'safety', 'class'])"
   ]
  },
  {
   "cell_type": "code",
   "execution_count": null,
   "id": "65b74cdb",
   "metadata": {
    "slideshow": {
     "slide_type": "fragment"
    }
   },
   "outputs": [],
   "source": [
    "cars_data.head()"
   ]
  },
  {
   "cell_type": "code",
   "execution_count": null,
   "id": "d9f3e97b",
   "metadata": {
    "slideshow": {
     "slide_type": "fragment"
    }
   },
   "outputs": [],
   "source": [
    "cars_data.info()"
   ]
  },
  {
   "cell_type": "markdown",
   "id": "d970ff1f",
   "metadata": {
    "slideshow": {
     "slide_type": "skip"
    }
   },
   "source": [
    "Method `groupby`  divides the data frame into goups based on the value of the given colum(s)"
   ]
  },
  {
   "cell_type": "code",
   "execution_count": null,
   "id": "da52a8ad",
   "metadata": {
    "slideshow": {
     "slide_type": "slide"
    }
   },
   "outputs": [],
   "source": [
    "cars_by_class = cars_data.groupby('class')"
   ]
  },
  {
   "cell_type": "markdown",
   "id": "15315915",
   "metadata": {
    "slideshow": {
     "slide_type": "skip"
    }
   },
   "source": [
    "The size of each group can be calculated using method `size`"
   ]
  },
  {
   "cell_type": "code",
   "execution_count": null,
   "id": "c43e472d",
   "metadata": {
    "slideshow": {
     "slide_type": "fragment"
    }
   },
   "outputs": [],
   "source": [
    "cars_by_class.size()"
   ]
  },
  {
   "cell_type": "markdown",
   "id": "2afe46e5",
   "metadata": {
    "slideshow": {
     "slide_type": "skip"
    }
   },
   "source": [
    "As we can see the classes are not very well ballanced with relatively small number of cars in two best  classes.  So I have decided to join those two classes together introducing a new classification"
   ]
  },
  {
   "cell_type": "code",
   "execution_count": null,
   "id": "8c80880e",
   "metadata": {
    "slideshow": {
     "slide_type": "slide"
    }
   },
   "outputs": [],
   "source": [
    "def bargain(c):\n",
    "    if c in ['good', 'vgood']:\n",
    "        return 'good'\n",
    "    elif c=='acc':\n",
    "        return 'fair'\n",
    "    else:\n",
    "        return 'bad'"
   ]
  },
  {
   "cell_type": "code",
   "execution_count": null,
   "id": "7e98051a",
   "metadata": {
    "slideshow": {
     "slide_type": "-"
    }
   },
   "outputs": [],
   "source": [
    "cars_data['bargain'] = cars_data['class'].apply(bargain)\n",
    "cars_data = cars_data.drop('class',axis=1)"
   ]
  },
  {
   "cell_type": "markdown",
   "id": "6298d6db",
   "metadata": {
    "slideshow": {
     "slide_type": "skip"
    }
   },
   "source": [
    "We start by dividing the data set into training and testing. "
   ]
  },
  {
   "cell_type": "code",
   "execution_count": null,
   "id": "b63638c5",
   "metadata": {
    "slideshow": {
     "slide_type": "skip"
    }
   },
   "outputs": [],
   "source": [
    "from sklearn.model_selection import train_test_split"
   ]
  },
  {
   "cell_type": "code",
   "execution_count": null,
   "id": "4ab61535",
   "metadata": {
    "slideshow": {
     "slide_type": "skip"
    }
   },
   "outputs": [],
   "source": [
    "seed = 678565"
   ]
  },
  {
   "cell_type": "code",
   "execution_count": null,
   "id": "cceba7f7",
   "metadata": {
    "slideshow": {
     "slide_type": "slide"
    }
   },
   "outputs": [],
   "source": [
    "cars_train, cars_test = train_test_split(cars_data, train_size=0.75, random_state=seed)"
   ]
  },
  {
   "cell_type": "code",
   "execution_count": null,
   "id": "8b3367f5",
   "metadata": {
    "slideshow": {
     "slide_type": "-"
    }
   },
   "outputs": [],
   "source": [
    "cars_train['bargain'].value_counts()"
   ]
  },
  {
   "cell_type": "code",
   "execution_count": null,
   "id": "841d62e9",
   "metadata": {
    "slideshow": {
     "slide_type": "-"
    }
   },
   "outputs": [],
   "source": [
    "cars_test['bargain'].value_counts()"
   ]
  },
  {
   "cell_type": "markdown",
   "id": "d64a5c15",
   "metadata": {
    "slideshow": {
     "slide_type": "skip"
    }
   },
   "source": [
    "Function `train_test_split` has an option to _stratify_ data based on the values of one colum"
   ]
  },
  {
   "cell_type": "code",
   "execution_count": null,
   "id": "4ef6f92c",
   "metadata": {
    "slideshow": {
     "slide_type": "slide"
    }
   },
   "outputs": [],
   "source": [
    "cars_train, cars_test = train_test_split(cars_data, train_size=0.75, stratify=cars_data['bargain'],\n",
    "                                         random_state = seed)"
   ]
  },
  {
   "cell_type": "markdown",
   "id": "a1fdc594",
   "metadata": {
    "slideshow": {
     "slide_type": "skip"
    }
   },
   "source": [
    "In this way the split was done separately for each  class label. That way we obtain as a result slightly more balanced sets"
   ]
  },
  {
   "cell_type": "code",
   "execution_count": null,
   "id": "e543ea87",
   "metadata": {
    "slideshow": {
     "slide_type": "-"
    }
   },
   "outputs": [],
   "source": [
    "cars_train['bargain'].value_counts()"
   ]
  },
  {
   "cell_type": "code",
   "execution_count": null,
   "id": "96f8976a",
   "metadata": {
    "slideshow": {
     "slide_type": "-"
    }
   },
   "outputs": [],
   "source": [
    "cars_test['bargain'].value_counts()"
   ]
  },
  {
   "cell_type": "markdown",
   "id": "20760afc",
   "metadata": {
    "slideshow": {
     "slide_type": "skip"
    }
   },
   "source": [
    "We will use the Naive Bayes.\n",
    "There are many ways that we can calculate the estimators. We can start by grouping the dataframe according to  feature values"
   ]
  },
  {
   "cell_type": "code",
   "execution_count": null,
   "id": "9f619baa",
   "metadata": {
    "slideshow": {
     "slide_type": "slide"
    }
   },
   "outputs": [],
   "source": [
    "cars_training_grouped = cars_train.groupby(['bargain', \n",
    "                                            'buying',\n",
    "                                            'maint',\n",
    "                                            'doors', \n",
    "                                            'persons', \n",
    "                                            'lug_boot',\n",
    "                                            'safety'])"
   ]
  },
  {
   "cell_type": "markdown",
   "id": "cd314043",
   "metadata": {
    "slideshow": {
     "slide_type": "skip"
    }
   },
   "source": [
    "and count the size of each group"
   ]
  },
  {
   "cell_type": "code",
   "execution_count": null,
   "id": "d66b923e",
   "metadata": {
    "slideshow": {
     "slide_type": "slide"
    }
   },
   "outputs": [],
   "source": [
    "group_counts=cars_training_grouped.size()"
   ]
  },
  {
   "cell_type": "code",
   "execution_count": null,
   "id": "c67bdc0b",
   "metadata": {},
   "outputs": [],
   "source": [
    "group_counts"
   ]
  },
  {
   "cell_type": "markdown",
   "id": "45003b02",
   "metadata": {
    "slideshow": {
     "slide_type": "skip"
    }
   },
   "source": [
    "The `sum` method can make a partial sums which we can use to extract $n^{c}_{ij}$ values"
   ]
  },
  {
   "cell_type": "code",
   "execution_count": null,
   "id": "73d2ea52",
   "metadata": {
    "slideshow": {
     "slide_type": "slide"
    }
   },
   "outputs": [],
   "source": [
    "# The level argument list the levels not summed over i.e. left in the result.\n",
    "group_counts.groupby(level = ['bargain', 'buying'] ).sum()"
   ]
  },
  {
   "cell_type": "markdown",
   "id": "dc50a973",
   "metadata": {
    "slideshow": {
     "slide_type": "skip"
    }
   },
   "source": [
    "and finally calculate the probabilities"
   ]
  },
  {
   "cell_type": "code",
   "execution_count": null,
   "id": "e2bf4f7a",
   "metadata": {
    "slideshow": {
     "slide_type": "slide"
    }
   },
   "outputs": [],
   "source": [
    "(group_counts.groupby(level = ['bargain', 'buying'] ).sum() +1 )/(group_counts.groupby(level='bargain').sum()+4)"
   ]
  },
  {
   "cell_type": "markdown",
   "id": "03718345",
   "metadata": {
    "slideshow": {
     "slide_type": "slide"
    }
   },
   "source": [
    "## Scikit-learn"
   ]
  },
  {
   "cell_type": "markdown",
   "id": "0cf1d990",
   "metadata": {
    "slideshow": {
     "slide_type": "skip"
    }
   },
   "source": [
    "However if you look closely you will notice one problem: the 'good' class does not contain any values for 'high' and 'vhigh'  attribute values! That means of course that they are zero, but it complicates the calculations. Instead of fixing this by hand we will use the tools from the [scikit-learn](https://scikit-learn.org/stable/index.html) library. This library has a class implementing just what we need"
   ]
  },
  {
   "cell_type": "code",
   "execution_count": null,
   "id": "fee060b3",
   "metadata": {
    "slideshow": {
     "slide_type": "fragment"
    }
   },
   "outputs": [],
   "source": [
    "from sklearn.naive_bayes import CategoricalNB"
   ]
  },
  {
   "cell_type": "code",
   "execution_count": null,
   "id": "dd201f0a",
   "metadata": {
    "slideshow": {
     "slide_type": "fragment"
    }
   },
   "outputs": [],
   "source": [
    "cnb = CategoricalNB(alpha=1)"
   ]
  },
  {
   "cell_type": "markdown",
   "id": "c29d7f55",
   "metadata": {
    "slideshow": {
     "slide_type": "skip"
    }
   },
   "source": [
    "However this classifier requires the  class labels and attributes to be  integer numbers counted from zero. Fortunatelly scikit-learn also includes a class for converting from labels to ordinals:"
   ]
  },
  {
   "cell_type": "code",
   "execution_count": null,
   "id": "6e13e9ea",
   "metadata": {
    "slideshow": {
     "slide_type": "slide"
    }
   },
   "outputs": [],
   "source": [
    "from sklearn.preprocessing import  OrdinalEncoder"
   ]
  },
  {
   "cell_type": "code",
   "execution_count": null,
   "id": "f08956bb",
   "metadata": {
    "slideshow": {
     "slide_type": "fragment"
    }
   },
   "outputs": [],
   "source": [
    "features_encoder = OrdinalEncoder(dtype='int32')\n",
    "train_encoded = features_encoder.fit_transform(cars_train)"
   ]
  },
  {
   "cell_type": "code",
   "execution_count": null,
   "id": "fde90aad",
   "metadata": {},
   "outputs": [],
   "source": [
    "features_encoder.feature_names_in_"
   ]
  },
  {
   "cell_type": "code",
   "execution_count": null,
   "id": "bb0b746d",
   "metadata": {},
   "outputs": [],
   "source": [
    "np.bincount(train_encoded[:,-1])"
   ]
  },
  {
   "cell_type": "code",
   "execution_count": null,
   "id": "b538bd42",
   "metadata": {
    "slideshow": {
     "slide_type": "slide"
    }
   },
   "outputs": [],
   "source": [
    "cnb.fit(train_encoded[:,:-1], train_encoded[:,-1])"
   ]
  },
  {
   "cell_type": "markdown",
   "id": "623d3dec",
   "metadata": {
    "slideshow": {
     "slide_type": "skip"
    }
   },
   "source": [
    "We can view the learned probabilities of this classifier  using its `feature_log_prob` attribute:"
   ]
  },
  {
   "cell_type": "code",
   "execution_count": null,
   "id": "b35dab2d",
   "metadata": {
    "slideshow": {
     "slide_type": "fragment"
    }
   },
   "outputs": [],
   "source": [
    "np.exp( cnb.feature_log_prob_[0] )"
   ]
  },
  {
   "cell_type": "markdown",
   "id": "6c6198eb",
   "metadata": {
    "slideshow": {
     "slide_type": "skip"
    }
   },
   "source": [
    "Comparing with our calculations we see a almost perfect agreement. Mowever we get all four probabilities in the last line like required. The two values are not zero because of smoothing. "
   ]
  },
  {
   "cell_type": "code",
   "execution_count": null,
   "id": "e73f2115",
   "metadata": {},
   "outputs": [],
   "source": [
    "from sklearn.metrics import accuracy_score\n",
    "accuracy_score(train_encoded[:,-1], cnb.predict(train_encoded[:,0:-1]), normalize=True)"
   ]
  },
  {
   "cell_type": "markdown",
   "id": "1f92233c",
   "metadata": {
    "slideshow": {
     "slide_type": "skip"
    }
   },
   "source": [
    "After training the classifier we can use it to  make predictions on the test set"
   ]
  },
  {
   "cell_type": "code",
   "execution_count": null,
   "id": "df5598f4",
   "metadata": {
    "slideshow": {
     "slide_type": "slide"
    }
   },
   "outputs": [],
   "source": [
    "test_encoded = features_encoder.transform(cars_test)\n",
    "encoded_test_class = test_encoded[:,-1]"
   ]
  },
  {
   "cell_type": "code",
   "execution_count": null,
   "id": "480e8aae",
   "metadata": {
    "slideshow": {
     "slide_type": "fragment"
    }
   },
   "outputs": [],
   "source": [
    "predicted_test_class = cnb.predict(test_encoded[:,:-1])"
   ]
  },
  {
   "cell_type": "markdown",
   "id": "0d2ee4bd",
   "metadata": {
    "slideshow": {
     "slide_type": "skip"
    }
   },
   "source": [
    "and test them"
   ]
  },
  {
   "cell_type": "code",
   "execution_count": null,
   "id": "15a1ee60",
   "metadata": {
    "slideshow": {
     "slide_type": "slide"
    }
   },
   "outputs": [],
   "source": [
    "from sklearn.metrics import accuracy_score"
   ]
  },
  {
   "cell_type": "code",
   "execution_count": null,
   "id": "76c13183",
   "metadata": {},
   "outputs": [],
   "source": [
    "accuracy_score(encoded_test_class, predicted_test_class, normalize=True)"
   ]
  },
  {
   "cell_type": "markdown",
   "id": "499bea81",
   "metadata": {
    "slideshow": {
     "slide_type": "skip"
    }
   },
   "source": [
    "Actually the classifier has a method for predicting and measuring accuracy"
   ]
  },
  {
   "cell_type": "code",
   "execution_count": null,
   "id": "0528d975",
   "metadata": {
    "slideshow": {
     "slide_type": "fragment"
    }
   },
   "outputs": [],
   "source": [
    "cnb.score(test_encoded[:,:-1], encoded_test_class)"
   ]
  },
  {
   "cell_type": "markdown",
   "id": "4085cef8",
   "metadata": {
    "slideshow": {
     "slide_type": "skip"
    }
   },
   "source": [
    "which unsuprisingly gives same results"
   ]
  },
  {
   "cell_type": "markdown",
   "id": "ade4af00",
   "metadata": {
    "slideshow": {
     "slide_type": "skip"
    }
   },
   "source": [
    "As a last check I will look at the class distribution in the predicted and real labels. As it may happen that with unbalanced  classes  one class can be e.g. totaly misclassified without affecting accuracy. "
   ]
  },
  {
   "cell_type": "code",
   "execution_count": null,
   "id": "7ce81672",
   "metadata": {
    "slideshow": {
     "slide_type": "slide"
    }
   },
   "outputs": [],
   "source": [
    "np.bincount(predicted_test_class.astype('int64'))"
   ]
  },
  {
   "cell_type": "code",
   "execution_count": null,
   "id": "cd1a7e08",
   "metadata": {
    "slideshow": {
     "slide_type": "-"
    }
   },
   "outputs": [],
   "source": [
    "np.bincount(encoded_test_class.astype('int64'))"
   ]
  },
  {
   "cell_type": "markdown",
   "id": "2cabe073",
   "metadata": {
    "slideshow": {
     "slide_type": "slide"
    }
   },
   "source": [
    "## Multiclass metrics"
   ]
  },
  {
   "cell_type": "code",
   "execution_count": null,
   "id": "cb26df7d",
   "metadata": {},
   "outputs": [],
   "source": [
    "from sklearn.metrics import multilabel_confusion_matrix, confusion_matrix, ConfusionMatrixDisplay"
   ]
  },
  {
   "cell_type": "markdown",
   "id": "3af94e16",
   "metadata": {
    "slideshow": {
     "slide_type": "slide"
    }
   },
   "source": [
    "### Confusion matrix"
   ]
  },
  {
   "cell_type": "markdown",
   "id": "41fa9545",
   "metadata": {
    "slideshow": {
     "slide_type": "notes"
    }
   },
   "source": [
    "The accuracy  generalises intuitively to non-binary classification.  The confusion matrix also generalises to this case.  "
   ]
  },
  {
   "cell_type": "code",
   "execution_count": null,
   "id": "006ab34e",
   "metadata": {
    "slideshow": {
     "slide_type": "fragment"
    }
   },
   "outputs": [],
   "source": [
    "pred = predicted_test_class\n",
    "true = encoded_test_class"
   ]
  },
  {
   "cell_type": "code",
   "execution_count": null,
   "id": "619716cd",
   "metadata": {
    "slideshow": {
     "slide_type": "slide"
    }
   },
   "outputs": [],
   "source": [
    "confusion_matrix(true, pred)"
   ]
  },
  {
   "cell_type": "code",
   "execution_count": null,
   "id": "6bd58586",
   "metadata": {
    "slideshow": {
     "slide_type": "slide"
    }
   },
   "outputs": [],
   "source": [
    "ConfusionMatrixDisplay.from_predictions(true, pred, normalize='true', \n",
    "                                        display_labels=features_encoder.categories_[-1]);"
   ]
  },
  {
   "cell_type": "markdown",
   "id": "0b97f6c8",
   "metadata": {
    "slideshow": {
     "slide_type": "slide"
    }
   },
   "source": [
    "### Averaging "
   ]
  },
  {
   "cell_type": "markdown",
   "id": "cbc417fb",
   "metadata": {
    "slideshow": {
     "slide_type": "notes"
    }
   },
   "source": [
    "Other metrics are defined only for binary classification problem as they rely on a 2x2 confusion matrix.  A way to generalise them to multiclass classification it to treat a $k$ class classifcation problem as $k$ binary classification problems: class   $C_i$ against the rest. We combine the final score out of binary metrics for each binary classification. "
   ]
  },
  {
   "cell_type": "markdown",
   "id": "01f1a8f0",
   "metadata": {
    "slideshow": {
     "slide_type": "fragment",
     "slideshow": {
      "slide_type": "slide"
     }
    }
   },
   "source": [
    "<table style=\"font-size:1.5em;\">\n",
    "<tr> <th>         </th> <th colspan=2>predicted</th></tr>\n",
    "    <tr> <th>actual</th> <th>N  </th> <th>P  </th> <th>total</th></tr>\n",
    "    <tr> <th> N       </th> <td>TN </td> <td>FP </td> <td>N</td></tr>\n",
    "    <tr> <th> P       </th> <td>FN </td> <td>TP </td> <td>P</td></tr>\n",
    "</table>"
   ]
  },
  {
   "cell_type": "code",
   "execution_count": null,
   "id": "f24f582a",
   "metadata": {
    "slideshow": {
     "slide_type": "fragment"
    }
   },
   "outputs": [],
   "source": [
    "def stat(y_true, y_pred, c):\n",
    "    lbl_true = np.where(y_true==c,1,0)\n",
    "    lbl_pred = np.where(y_pred==c,1,0)\n",
    "    (TN,FP),(FN,TP) = confusion_matrix(lbl_true, lbl_pred)    \n",
    "    return TP, FP,FN, TN"
   ]
  },
  {
   "cell_type": "code",
   "execution_count": null,
   "id": "124e3d77",
   "metadata": {
    "slideshow": {
     "slide_type": "slide"
    }
   },
   "outputs": [],
   "source": [
    "for i in range(3):\n",
    "    print( stat(true,pred, i))"
   ]
  },
  {
   "cell_type": "markdown",
   "id": "2ccad747",
   "metadata": {
    "slideshow": {
     "slide_type": "skip"
    }
   },
   "source": [
    "Once we have the statistics for each binary classifier we can combine the together. We will consider _micro_ and _macro_ averaging. "
   ]
  },
  {
   "cell_type": "code",
   "execution_count": null,
   "id": "69d78a53",
   "metadata": {
    "slideshow": {
     "slide_type": "fragment"
    }
   },
   "outputs": [],
   "source": [
    "mcf = multilabel_confusion_matrix(true, pred)\n",
    "print(mcf)"
   ]
  },
  {
   "cell_type": "markdown",
   "id": "2920c2ca",
   "metadata": {
    "slideshow": {
     "slide_type": "slide"
    }
   },
   "source": [
    "### Micro averaging"
   ]
  },
  {
   "cell_type": "markdown",
   "id": "390a0021",
   "metadata": {
    "slideshow": {
     "slide_type": "notes"
    }
   },
   "source": [
    "In micro averaging we first calculate the summary values of TP, FP, TN and TN and use them to calculate the total score. \n",
    "We will start with _recall_ which is just another name for true positives rate."
   ]
  },
  {
   "cell_type": "markdown",
   "id": "ca322295",
   "metadata": {
    "slideshow": {
     "slide_type": "fragment"
    }
   },
   "source": [
    "$$Recall_\\mu = \\frac{\\sum_i TP_i}{\\sum_i(TP_i+FN_i)}$$"
   ]
  },
  {
   "cell_type": "code",
   "execution_count": null,
   "id": "821070f8",
   "metadata": {
    "slideshow": {
     "slide_type": "fragment"
    }
   },
   "outputs": [],
   "source": [
    "num = 0\n",
    "den = 0\n",
    "for i in range(3):\n",
    "    ((tn, fp), (fn, tp)) =  mcf[i]\n",
    "    num += tp\n",
    "    den += tp+fn\n",
    "recall_mu = num/den    \n",
    "print(num, den, recall_mu   )"
   ]
  },
  {
   "cell_type": "markdown",
   "id": "7dcc3f79",
   "metadata": {
    "slideshow": {
     "slide_type": "slide"
    }
   },
   "source": [
    "$$Precision_\\mu = \\frac{\\sum_i TP_i}{\\sum_i(TP_i+FP_i)}$$"
   ]
  },
  {
   "cell_type": "code",
   "execution_count": null,
   "id": "9563e872",
   "metadata": {
    "slideshow": {
     "slide_type": "fragment"
    }
   },
   "outputs": [],
   "source": [
    "num = 0\n",
    "den = 0\n",
    "for i in range(3):\n",
    "    ((tn, fp), (fn, tp)) =  mcf[i]\n",
    "    num += tp\n",
    "    den += tp+fp\n",
    "precision_mu = num/den    \n",
    "print(num, den, precision_mu    )"
   ]
  },
  {
   "cell_type": "markdown",
   "id": "39d54e58",
   "metadata": {
    "slideshow": {
     "slide_type": "skip"
    }
   },
   "source": [
    "and $F_1$ is then  harmonic mean of the two"
   ]
  },
  {
   "cell_type": "markdown",
   "id": "43d3a06c",
   "metadata": {
    "slideshow": {
     "slide_type": "slide"
    }
   },
   "source": [
    "$$F_\\mu = 2\\cdot\\frac{Precision_\\mu\\cdot Recall_\\mu}{Precision_\\mu + Recall_\\mu}$$"
   ]
  },
  {
   "cell_type": "code",
   "execution_count": null,
   "id": "c87f6de0",
   "metadata": {},
   "outputs": [],
   "source": [
    "print(2*precision_mu*recall_mu/(precision_mu+recall_mu))"
   ]
  },
  {
   "cell_type": "markdown",
   "id": "56039592",
   "metadata": {
    "slideshow": {
     "slide_type": "slide"
    },
    "tags": [
     "problem"
    ]
   },
   "source": [
    "#### Problem"
   ]
  },
  {
   "cell_type": "markdown",
   "id": "4279b3dd",
   "metadata": {
    "slideshow": {
     "slide_type": "-"
    },
    "tags": [
     "problem"
    ]
   },
   "source": [
    "  Show that $Recall_\\mu$ = $Precision_\\mu = Accuracy$"
   ]
  },
  {
   "cell_type": "markdown",
   "id": "6c72b6cb",
   "metadata": {
    "slideshow": {
     "slide_type": "skip"
    }
   },
   "source": [
    "There is no surprise that scikit-learn library has functions to calculate those metrics"
   ]
  },
  {
   "cell_type": "code",
   "execution_count": null,
   "id": "3eb581dc",
   "metadata": {
    "slideshow": {
     "slide_type": "slide"
    }
   },
   "outputs": [],
   "source": [
    "from sklearn.metrics import *"
   ]
  },
  {
   "cell_type": "code",
   "execution_count": null,
   "id": "57309004",
   "metadata": {
    "slideshow": {
     "slide_type": "-"
    }
   },
   "outputs": [],
   "source": [
    "print(\n",
    "    recall_score(encoded_test_class, predicted_test_class, average='micro'),\n",
    "    precision_score(encoded_test_class, predicted_test_class, average='micro'),\n",
    "    f1_score(encoded_test_class, predicted_test_class, average='micro'))"
   ]
  },
  {
   "cell_type": "markdown",
   "id": "a9b5c20b",
   "metadata": {
    "slideshow": {
     "slide_type": "slide"
    }
   },
   "source": [
    "### Macro averaging"
   ]
  },
  {
   "cell_type": "markdown",
   "id": "5e3c89d4",
   "metadata": {
    "slideshow": {
     "slide_type": "notes"
    }
   },
   "source": [
    "With macro averaging we  calculate  score for each binary classifier separately and average them. So for recall"
   ]
  },
  {
   "cell_type": "markdown",
   "id": "a29ad590",
   "metadata": {
    "slideshow": {
     "slide_type": "fragment"
    }
   },
   "source": [
    "$$Recall_M = \\frac{1}{k}\\sum_{i=0}^{k-1}\\frac{TP_i}{TP_i+FN_i}$$"
   ]
  },
  {
   "cell_type": "code",
   "execution_count": null,
   "id": "f814fe46",
   "metadata": {
    "slideshow": {
     "slide_type": "fragment"
    }
   },
   "outputs": [],
   "source": [
    "tot = 0\n",
    "for i in range(3):\n",
    "    ((tn, fp), (fn, tp)) =  mcf[i]\n",
    "    tot +=tp/(tp+fn)\n",
    "rec = tot/3    \n",
    "print(rec)"
   ]
  },
  {
   "cell_type": "code",
   "execution_count": null,
   "id": "4dbb29c9",
   "metadata": {
    "slideshow": {
     "slide_type": "fragment"
    }
   },
   "outputs": [],
   "source": [
    "recall_score(encoded_test_class, predicted_test_class, average='macro')"
   ]
  },
  {
   "cell_type": "markdown",
   "id": "8629b5a9",
   "metadata": {
    "slideshow": {
     "slide_type": "skip"
    }
   },
   "source": [
    "and for precision"
   ]
  },
  {
   "cell_type": "markdown",
   "id": "45b0a943",
   "metadata": {
    "slideshow": {
     "slide_type": "slide"
    }
   },
   "source": [
    "$$Precision_M = \\frac{1}{k}\\sum_{i=0}^{k-1}\\frac{TP_i}{TP_i+FP_i}$$"
   ]
  },
  {
   "cell_type": "code",
   "execution_count": null,
   "id": "0a618ce7",
   "metadata": {
    "slideshow": {
     "slide_type": "fragment"
    }
   },
   "outputs": [],
   "source": [
    "tot = 0\n",
    "for i in range(3):\n",
    "    ((tn, fp), (fn, tp)) =  mcf[i]\n",
    "    tot +=tp/(tp+fp)\n",
    "prec =  tot/3   \n",
    "print(prec)"
   ]
  },
  {
   "cell_type": "code",
   "execution_count": null,
   "id": "19c748b6",
   "metadata": {
    "slideshow": {
     "slide_type": "fragment"
    }
   },
   "outputs": [],
   "source": [
    "precision_score(encoded_test_class, predicted_test_class, average='macro')"
   ]
  },
  {
   "cell_type": "markdown",
   "id": "c9be2392",
   "metadata": {
    "slideshow": {
     "slide_type": "skip"
    }
   },
   "source": [
    "and $F_1$ score is"
   ]
  },
  {
   "cell_type": "markdown",
   "id": "1af12c3a",
   "metadata": {
    "slideshow": {
     "slide_type": "slide"
    }
   },
   "source": [
    "$$F_1 = \\frac{1}{k}\\sum_{i=0}^{k-1}\\frac{2\\cdot TP_i}{TP_i+FP_i +TP_i +FN_i}$$"
   ]
  },
  {
   "cell_type": "code",
   "execution_count": null,
   "id": "19eaaca4",
   "metadata": {
    "slideshow": {
     "slide_type": "fragment"
    }
   },
   "outputs": [],
   "source": [
    "tot = 0\n",
    "for i in range(3):\n",
    "    ((tn, fp), (fn, tp)) =  mcf[i]\n",
    "    tot +=2 * tp/(tp+fp+tp+fn)\n",
    "f =  tot/3   \n",
    "print(f)"
   ]
  },
  {
   "cell_type": "code",
   "execution_count": null,
   "id": "3570bd46",
   "metadata": {},
   "outputs": [],
   "source": [
    "f1_score(encoded_test_class, predicted_test_class, average='macro')"
   ]
  },
  {
   "cell_type": "markdown",
   "id": "adb19c39",
   "metadata": {
    "slideshow": {
     "slide_type": "slide"
    }
   },
   "source": [
    "### Weighted averaging "
   ]
  },
  {
   "cell_type": "markdown",
   "id": "52d10743",
   "metadata": {
    "slideshow": {
     "slide_type": "skip"
    }
   },
   "source": [
    "And finally the weighted averaging is like macro averaging but we  weight the average by the support of each class _i.e._ the number of labels of each class. E.g. for precision"
   ]
  },
  {
   "cell_type": "code",
   "execution_count": null,
   "id": "c2d68333",
   "metadata": {
    "slideshow": {
     "slide_type": "fragment"
    }
   },
   "outputs": [],
   "source": [
    "tot = 0\n",
    "den = 0\n",
    "for i in range(3):\n",
    "    tp, fp, fn, tn =  stat(true,pred, i)\n",
    "    tot +=tp/(tp+fp) *(tp+fn)\n",
    "    den += (tp+fn)\n",
    "prec = tot/den\n",
    "print(prec)"
   ]
  },
  {
   "cell_type": "code",
   "execution_count": null,
   "id": "23d31bfd",
   "metadata": {
    "slideshow": {
     "slide_type": "fragment"
    }
   },
   "outputs": [],
   "source": [
    "precision_score(encoded_test_class, predicted_test_class, average='weighted')"
   ]
  },
  {
   "cell_type": "markdown",
   "id": "66681af6",
   "metadata": {
    "slideshow": {
     "slide_type": "slide"
    },
    "tags": [
     "problem"
    ]
   },
   "source": [
    "#### Problem "
   ]
  },
  {
   "cell_type": "markdown",
   "id": "e13e6dd0",
   "metadata": {
    "slideshow": {
     "slide_type": "-"
    },
    "tags": [
     "problem"
    ]
   },
   "source": [
    " Show that weighted averaging for recall gives same result as micro averaging."
   ]
  },
  {
   "cell_type": "markdown",
   "id": "e39c0f76",
   "metadata": {
    "slideshow": {
     "slide_type": "notes"
    }
   },
   "source": [
    "As you may have guessed scikit-learn library has some convenient functions that calculate those metrics at once."
   ]
  },
  {
   "cell_type": "code",
   "execution_count": null,
   "id": "1ef0b184",
   "metadata": {
    "slideshow": {
     "slide_type": "slide"
    }
   },
   "outputs": [],
   "source": [
    "from sklearn.metrics import precision_recall_fscore_support,  classification_report"
   ]
  },
  {
   "cell_type": "code",
   "execution_count": null,
   "id": "6d57fc95",
   "metadata": {
    "slideshow": {
     "slide_type": "fragment"
    }
   },
   "outputs": [],
   "source": [
    "precision_recall_fscore_support(encoded_test_class, predicted_test_class, beta = 2, average = 'macro')"
   ]
  },
  {
   "cell_type": "code",
   "execution_count": null,
   "id": "f83fd179",
   "metadata": {
    "slideshow": {
     "slide_type": "fragment"
    }
   },
   "outputs": [],
   "source": [
    "print(classification_report(encoded_test_class, predicted_test_class))"
   ]
  },
  {
   "cell_type": "code",
   "execution_count": null,
   "id": "823040f5",
   "metadata": {},
   "outputs": [],
   "source": []
  }
 ],
 "metadata": {
  "kernelspec": {
   "display_name": "Python 3 (ipykernel)",
   "language": "python",
   "name": "python3"
  }
 },
 "nbformat": 4,
 "nbformat_minor": 5
}
