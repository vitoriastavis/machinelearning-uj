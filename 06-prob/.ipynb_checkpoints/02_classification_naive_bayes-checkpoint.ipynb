{
 "cells": [
  {
   "cell_type": "markdown",
   "id": "a6d63156",
   "metadata": {
    "slideshow": {
     "slide_type": "slide"
    }
   },
   "source": [
    "# Multi-features classification and  Naive Bayes"
   ]
  },
  {
   "cell_type": "markdown",
   "id": "ca954083",
   "metadata": {
    "slideshow": {
     "slide_type": "notes"
    }
   },
   "source": [
    "In this notebook we will continue to work with the gender classifier based on height. We will use some real(?) data. We will also add weight as additional  feature. This will introduce us to Naive bayes classifier. "
   ]
  },
  {
   "cell_type": "code",
   "execution_count": null,
   "id": "b8e2e586",
   "metadata": {
    "slideshow": {
     "slide_type": "skip"
    }
   },
   "outputs": [],
   "source": [
    "import matplotlib.pyplot as plt\n",
    "import numpy as np\n",
    "import scipy.stats as st\n",
    "import sklearn"
   ]
  },
  {
   "cell_type": "code",
   "execution_count": null,
   "id": "8fe273b8",
   "metadata": {
    "slideshow": {
     "slide_type": "skip"
    }
   },
   "outputs": [],
   "source": [
    "%matplotlib inline\n",
    "plt.rcParams[\"figure.figsize\"] = [12,8]"
   ]
  },
  {
   "cell_type": "markdown",
   "id": "74b2e2d4",
   "metadata": {
    "slideshow": {
     "slide_type": "slide"
    }
   },
   "source": [
    "## Height & weight data set"
   ]
  },
  {
   "cell_type": "markdown",
   "id": "3ecf5691",
   "metadata": {
    "slideshow": {
     "slide_type": "notes"
    }
   },
   "source": [
    "The only data I could find was a [kaggle dataset](https://www.kaggle.com/mustafaali96/weight-height). This data set does not contain any  description of origin but use of inches and pounds suggests an american or english population. The data consists of 10000 points each specifying sex, height and weight of one person."
   ]
  },
  {
   "cell_type": "markdown",
   "id": "4cccea41",
   "metadata": {
    "slideshow": {
     "slide_type": "notes"
    }
   },
   "source": [
    "The data is in popular \"coma separated values\" (CSV) format. We will use  [pandas library](https://pandas.pydata.org) to read it. Pandas is a very popular library for working with dataframes and series. It would be really worth your time to become acquainted with it. "
   ]
  },
  {
   "cell_type": "code",
   "execution_count": null,
   "id": "94ad9a83",
   "metadata": {
    "slideshow": {
     "slide_type": "slide"
    }
   },
   "outputs": [],
   "source": [
    "import pandas as pd"
   ]
  },
  {
   "cell_type": "code",
   "execution_count": null,
   "id": "c73e6768",
   "metadata": {
    "slideshow": {
     "slide_type": "fragment"
    }
   },
   "outputs": [],
   "source": [
    "data = pd.read_csv('../../Data/HeightWeight/weight-height.csv')"
   ]
  },
  {
   "cell_type": "markdown",
   "id": "8f889789",
   "metadata": {
    "slideshow": {
     "slide_type": "skip"
    }
   },
   "source": [
    "The `data` is a [Dataframe](https://pandas.pydata.org/pandas-docs/stable/reference/api/pandas.DataFrame.html)"
   ]
  },
  {
   "cell_type": "code",
   "execution_count": null,
   "id": "23789489",
   "metadata": {
    "slideshow": {
     "slide_type": "fragment"
    }
   },
   "outputs": [],
   "source": [
    "type(data)"
   ]
  },
  {
   "cell_type": "markdown",
   "id": "c9eded11",
   "metadata": {
    "slideshow": {
     "slide_type": "skip"
    }
   },
   "source": [
    "which is a kind of \"table on steroids\". We can look at first _n_ rows using `head` method"
   ]
  },
  {
   "cell_type": "code",
   "execution_count": null,
   "id": "c217a53b",
   "metadata": {
    "slideshow": {
     "slide_type": "slide"
    }
   },
   "outputs": [],
   "source": [
    "data.head(n=3)"
   ]
  },
  {
   "cell_type": "markdown",
   "id": "cb580b89",
   "metadata": {
    "slideshow": {
     "slide_type": "skip"
    }
   },
   "source": [
    "Another useful method is "
   ]
  },
  {
   "cell_type": "code",
   "execution_count": null,
   "id": "dfc95429",
   "metadata": {
    "slideshow": {
     "slide_type": "fragment"
    }
   },
   "outputs": [],
   "source": [
    "data.info()"
   ]
  },
  {
   "cell_type": "markdown",
   "id": "b909d9ad",
   "metadata": {
    "slideshow": {
     "slide_type": "skip"
    }
   },
   "source": [
    "and "
   ]
  },
  {
   "cell_type": "code",
   "execution_count": null,
   "id": "a0e8bd87",
   "metadata": {
    "slideshow": {
     "slide_type": "slide"
    }
   },
   "outputs": [],
   "source": [
    "data.describe()"
   ]
  },
  {
   "cell_type": "markdown",
   "id": "5c3cdb76",
   "metadata": {
    "slideshow": {
     "slide_type": "notes"
    }
   },
   "source": [
    "which gives a more detailed summary of the numerical data contained in the dataframe. Looking at the numbers we can determine that the units are not metric. A good guess would be inches and pounds."
   ]
  },
  {
   "cell_type": "code",
   "execution_count": null,
   "id": "9af6f802",
   "metadata": {
    "slideshow": {
     "slide_type": "fragment"
    }
   },
   "outputs": [],
   "source": [
    "inch = 0.01 * 2.54 # m\n",
    "pound = 0.453 # kg"
   ]
  },
  {
   "cell_type": "code",
   "execution_count": null,
   "id": "322121bd",
   "metadata": {
    "slideshow": {
     "slide_type": "fragment"
    }
   },
   "outputs": [],
   "source": [
    "data['Height'] = data['Height'] *inch \n",
    "data['Weight'] = data['Weight'] *pound"
   ]
  },
  {
   "cell_type": "code",
   "execution_count": null,
   "id": "e91d4c54",
   "metadata": {
    "slideshow": {
     "slide_type": "skip"
    }
   },
   "outputs": [],
   "source": [
    "data['Height'] is data.Height"
   ]
  },
  {
   "cell_type": "markdown",
   "id": "68112acc",
   "metadata": {
    "slideshow": {
     "slide_type": "notes"
    }
   },
   "source": [
    "Above I have used `data.Height` notation to access the 'Height' column of the data frame. This is \"syntactic sugar\" and is equivalent to `data['Height']`"
   ]
  },
  {
   "cell_type": "code",
   "execution_count": null,
   "id": "e8d6b875",
   "metadata": {
    "slideshow": {
     "slide_type": "slide"
    }
   },
   "outputs": [],
   "source": [
    "data.describe()"
   ]
  },
  {
   "cell_type": "markdown",
   "id": "ec57b876",
   "metadata": {
    "slideshow": {
     "slide_type": "skip"
    }
   },
   "source": [
    "Now the numbers look realistic. "
   ]
  },
  {
   "cell_type": "markdown",
   "id": "12a25284",
   "metadata": {
    "slideshow": {
     "slide_type": "notes"
    }
   },
   "source": [
    "We can check that the file contains equal number of women and men data"
   ]
  },
  {
   "cell_type": "code",
   "execution_count": null,
   "id": "90119479",
   "metadata": {
    "slideshow": {
     "slide_type": "fragment"
    }
   },
   "outputs": [],
   "source": [
    "(data.Gender=='Female').sum()"
   ]
  },
  {
   "cell_type": "markdown",
   "id": "25774ddd",
   "metadata": {
    "slideshow": {
     "slide_type": "slide"
    }
   },
   "source": [
    "## Train/Test split"
   ]
  },
  {
   "cell_type": "markdown",
   "id": "3af56257",
   "metadata": {
    "slideshow": {
     "slide_type": "notes"
    }
   },
   "source": [
    "Before we proceed any further we will \"do the right thing\" and split the data into training and testing set using a function from another very useful library `scikit-learn`. By now you should know why this is  neccesary but let me reiterate this. "
   ]
  },
  {
   "cell_type": "markdown",
   "id": "bd4ad0f7",
   "metadata": {
    "slideshow": {
     "slide_type": "notes"
    }
   },
   "source": [
    "In supervised learning our goal __is not to obtain good classfication on the  labeled data__ we have! We want it to perform well on the  new data that we do not know the labels of. Of course if it cannot classify the training data correctly it will not classify other data correctly as well. But the oposite statement is not true! In principle the classifier could just learn the training examples \"by heart\" and get a perfect score.  That would be an extreme example of _overfitting_. Overfitting as the name implies means that the classifier has learned to exploite some peculiarities of the training data set and does not _generalise_ well to other data. \n",
    "\n",
    "Thus it's the performance on unseen data i.e. generalisation that is our real goal.\n",
    "\n",
    "That's why we must __always__ keep a portion of our dataset for testings purposes. "
   ]
  },
  {
   "cell_type": "code",
   "execution_count": null,
   "id": "8539ccb8",
   "metadata": {
    "slideshow": {
     "slide_type": "slide"
    }
   },
   "outputs": [],
   "source": [
    "from sklearn.model_selection import  train_test_split"
   ]
  },
  {
   "cell_type": "code",
   "execution_count": null,
   "id": "c7a5a9c2",
   "metadata": {
    "slideshow": {
     "slide_type": "fragment"
    }
   },
   "outputs": [],
   "source": [
    "#by fixing the seed we guarantee that we can split the set in same way each time\n",
    "#this maybe handy for debuging purposes\n",
    "seed = 77678 \n",
    "train_data, test_data  = train_test_split(data,test_size=0.25,  random_state=seed, shuffle=True)"
   ]
  },
  {
   "cell_type": "code",
   "execution_count": null,
   "id": "56f1d03d",
   "metadata": {
    "slideshow": {
     "slide_type": "fragment"
    }
   },
   "outputs": [],
   "source": [
    "print(len(train_data), len(test_data))"
   ]
  },
  {
   "cell_type": "markdown",
   "id": "c85a741b",
   "metadata": {
    "slideshow": {
     "slide_type": "notes"
    }
   },
   "source": [
    "Let's see how the data looks like. To visualise a  distribution we will use a _histogram_ of the values. Pandas have a handy built in method that calculates and plots histogram, althought it just delegates the job to numpy and matplotlib. We will create the figure and matplotlib axes ourselfs for more control and pass axes to pandas hist function. "
   ]
  },
  {
   "cell_type": "code",
   "execution_count": null,
   "id": "2c25264c",
   "metadata": {
    "slideshow": {
     "slide_type": "slide"
    }
   },
   "outputs": [],
   "source": [
    "fig, ax = plt.subplots()\n",
    "ax.set_xlabel(\"height (m)\")\n",
    "ax.set_ylabel(\"P(h)\")\n",
    "train_data.Height.hist(bins=32, density=True, ax=ax , label ='train', color='lightgrey');\n",
    "test_data.Height.hist(bins=32, density=True,  ax=ax, histtype='step', label ='test' , color='red');\n",
    "plt.legend();"
   ]
  },
  {
   "cell_type": "markdown",
   "id": "e0720487",
   "metadata": {
    "slideshow": {
     "slide_type": "skip"
    }
   },
   "source": [
    "You can look up the description of parameters in [pandas.DataFrame.hist](https://pandas.pydata.org/pandas-docs/stable/reference/api/pandas.DataFrame.hist.html) and [matplotlib.pyplot.hist](https://matplotlib.org/3.2.1/api/_as_gen/matplotlib.pyplot.hist.html) documentation. The one  I have used indicate that the height values should be divided into 32 bins with range of the bins calculated automatically. The `density` parameter set to `True` makes the histogram normalised  so the area under it is  equal to one. This enables an easy comparison with probability density functions and to compare different histograms. "
   ]
  },
  {
   "cell_type": "markdown",
   "id": "695aaa05",
   "metadata": {
    "slideshow": {
     "slide_type": "notes"
    }
   },
   "source": [
    "We have superposed test data histogram to check if the distributions are similar. This is quite important we need the  training set to be representative. "
   ]
  },
  {
   "cell_type": "markdown",
   "id": "f3690424",
   "metadata": {
    "slideshow": {
     "slide_type": "notes"
    }
   },
   "source": [
    "Accesing one column  returns a [Series](https://pandas.pydata.org/pandas-docs/stable/reference/api/pandas.Series.html) object"
   ]
  },
  {
   "cell_type": "code",
   "execution_count": null,
   "id": "862a44cd",
   "metadata": {
    "slideshow": {
     "slide_type": "skip"
    }
   },
   "outputs": [],
   "source": [
    "type(train_data['Height'])"
   ]
  },
  {
   "cell_type": "markdown",
   "id": "3444b3d3",
   "metadata": {
    "slideshow": {
     "slide_type": "slide"
    }
   },
   "source": [
    "###  Distribution by gender"
   ]
  },
  {
   "cell_type": "markdown",
   "id": "dd60df15",
   "metadata": {
    "slideshow": {
     "slide_type": "notes"
    }
   },
   "source": [
    "Going back to the histogram we see that the  distribution looks somewhat \"normal-like\" but it is rather flat at the top. But actually we do not expect it to be normal, as it contains both women and men data. Let's look at each gender separately."
   ]
  },
  {
   "cell_type": "code",
   "execution_count": null,
   "id": "02f97429",
   "metadata": {
    "slideshow": {
     "slide_type": "fragment"
    }
   },
   "outputs": [],
   "source": [
    "train_data_F = train_data[train_data.Gender=='Female']\n",
    "train_data_M = train_data[train_data.Gender=='Male']\n",
    "print(len(train_data_F), len(train_data_M))"
   ]
  },
  {
   "cell_type": "code",
   "execution_count": null,
   "id": "452c1a9f",
   "metadata": {
    "slideshow": {
     "slide_type": "fragment"
    }
   },
   "outputs": [],
   "source": [
    "test_data_F = test_data[test_data.Gender=='Female']\n",
    "test_data_M = test_data[test_data.Gender=='Male']\n",
    "print(len(test_data_F), len(test_data_M))"
   ]
  },
  {
   "cell_type": "code",
   "execution_count": null,
   "id": "249731ef",
   "metadata": {},
   "outputs": [],
   "source": [
    "# setting colors for consistency throughout the notebook you can subsitute here your favorite \"gender colors\" :) \n",
    "f_color = 'blue'\n",
    "m_color ='orange'\n",
    "color = 'grey'"
   ]
  },
  {
   "cell_type": "code",
   "execution_count": null,
   "id": "93688ad3",
   "metadata": {
    "slideshow": {
     "slide_type": "slide"
    }
   },
   "outputs": [],
   "source": [
    "fig, ax = plt.subplots()\n",
    "ax.set_xlabel(\"height (m)\")\n",
    "ax.set_ylabel(\"P(h|S)\")\n",
    "train_data_F.Height.hist(bins=32, density=True, ax=ax , color=f_color, alpha=0.7, label='Women');\n",
    "train_data_M.Height.hist(bins=32, density=True, ax=ax , color=m_color, alpha=0.7, label='Men');\n",
    "plt.legend();"
   ]
  },
  {
   "cell_type": "markdown",
   "id": "d6e95ebc",
   "metadata": {
    "slideshow": {
     "slide_type": "notes"
    }
   },
   "source": [
    "It is also a good idea to check again if the train and test data have roughly same distribution as we have alredy done for the joint data. "
   ]
  },
  {
   "cell_type": "code",
   "execution_count": null,
   "id": "d2473723",
   "metadata": {
    "slideshow": {
     "slide_type": "slide"
    }
   },
   "outputs": [],
   "source": [
    "fig, ax = plt.subplots()\n",
    "ax.set_xlabel(\"height (m)\")\n",
    "ax.set_ylabel(\"P(h|S)\")\n",
    "train_data_F.Height.hist(bins=32, density=True, \n",
    "                         ax=ax , color=f_color, alpha=0.7, histtype='step', label='Women train');\n",
    "train_data_M.Height.hist(bins=32, density=True, \n",
    "                         ax=ax , color=m_color, alpha=0.7, histtype='step', label=\"Men train\");\n",
    "test_data_F.Height.hist(bins=32, density=True, \n",
    "                         ax=ax , color=f_color, alpha=0.7, histtype='step', linestyle=\"--\", label='Women test');\n",
    "test_data_M.Height.hist(bins=32, density=True, \n",
    "                         ax=ax , color=m_color, alpha=0.7, histtype='step', linestyle=\"--\", label='Men test');\n",
    "plt.legend();"
   ]
  },
  {
   "cell_type": "markdown",
   "id": "71c485e2",
   "metadata": {
    "slideshow": {
     "slide_type": "notes"
    }
   },
   "source": [
    "Histograms look OK but check what happens if we pass the `shuffle=False` parameter to `train_test_split` function. Can you explain what is happening?"
   ]
  },
  {
   "cell_type": "markdown",
   "id": "86f4dc01",
   "metadata": {
    "slideshow": {
     "slide_type": "slide"
    }
   },
   "source": [
    "## Estimating parameters of the Gaussian distribution"
   ]
  },
  {
   "cell_type": "markdown",
   "id": "875b8b52",
   "metadata": {
    "slideshow": {
     "slide_type": "notes"
    }
   },
   "source": [
    "Let's compare those histograms with normal distribution. We will use the `fit` function of the `scipy.stats` normal distribution object. This function calculates the _maximal likelihood_ estimates of the distribution parameters:  mean and standard deviation in this case. "
   ]
  },
  {
   "cell_type": "code",
   "execution_count": null,
   "id": "accd3573",
   "metadata": {
    "slideshow": {
     "slide_type": "fragment"
    }
   },
   "outputs": [],
   "source": [
    "(mean_F, std_F) = st.norm.fit(train_data_F.Height)\n",
    "(mean_M, std_M) = st.norm.fit(train_data_M.Height)\n",
    "print(mean_F, std_F)\n",
    "print(mean_M, std_M) "
   ]
  },
  {
   "cell_type": "markdown",
   "id": "375b8ac9",
   "metadata": {
    "slideshow": {
     "slide_type": "skip"
    }
   },
   "source": [
    "We create the `scipy.stats` distribution objects"
   ]
  },
  {
   "cell_type": "markdown",
   "id": "883ea1fd",
   "metadata": {
    "slideshow": {
     "slide_type": "notes"
    }
   },
   "source": [
    "As you can see those number differ slightly from the ones we have used in the classification notebook so  they clearly correspond to some other population, but it does not matter for our purposes."
   ]
  },
  {
   "cell_type": "code",
   "execution_count": null,
   "id": "e15e699d",
   "metadata": {
    "slideshow": {
     "slide_type": "fragment"
    }
   },
   "outputs": [],
   "source": [
    "pd_F = st.norm(mean_F, std_F)\n",
    "pd_M = st.norm(mean_M, std_M)"
   ]
  },
  {
   "cell_type": "markdown",
   "id": "c0cfe82b",
   "metadata": {
    "slideshow": {
     "slide_type": "skip"
    }
   },
   "source": [
    "and use them to plot the probability distribution functions over the histograms"
   ]
  },
  {
   "cell_type": "code",
   "execution_count": null,
   "id": "de8c6601",
   "metadata": {
    "slideshow": {
     "slide_type": "slide"
    }
   },
   "outputs": [],
   "source": [
    "fig, ax = plt.subplots()\n",
    "ax.set_xlabel(\"height (m)\")\n",
    "ax.set_ylabel(\"P(h|S)\")\n",
    "train_data_F.Height.hist(bins=32, density=True, ax=ax , color=f_color, alpha=0.7);\n",
    "train_data_M.Height.hist(bins=32, density=True, ax=ax , color=m_color, alpha=0.7);\n",
    "hs =np.linspace(1.3,2.1,100)\n",
    "ax.plot(hs, pd_F.pdf(hs), c=f_color);\n",
    "ax.plot(hs, pd_M.pdf(hs), c=m_color);\n",
    "plt.close()"
   ]
  },
  {
   "cell_type": "code",
   "execution_count": null,
   "id": "005b27ab",
   "metadata": {},
   "outputs": [],
   "source": [
    "fig"
   ]
  },
  {
   "cell_type": "markdown",
   "id": "64c38810",
   "metadata": {
    "slideshow": {
     "slide_type": "skip"
    }
   },
   "source": [
    "The results look reasonable and we will assume the normal distribution of heights for each sex throughout this notebook. "
   ]
  },
  {
   "cell_type": "markdown",
   "id": "7d9dbcc3",
   "metadata": {
    "slideshow": {
     "slide_type": "slide"
    }
   },
   "source": [
    "### Maximal likelihood estimator"
   ]
  },
  {
   "cell_type": "markdown",
   "id": "2e2324f3",
   "metadata": {
    "slideshow": {
     "slide_type": "skip"
    }
   },
   "source": [
    "Now let's open up the black box of the `fit` function. "
   ]
  },
  {
   "cell_type": "markdown",
   "id": "4f98ff61",
   "metadata": {
    "slideshow": {
     "slide_type": "skip"
    }
   },
   "source": [
    "The _maximal likelihood_ estimates returned by the `fit` function are the usual"
   ]
  },
  {
   "cell_type": "markdown",
   "id": "b9fe4d25",
   "metadata": {
    "slideshow": {
     "slide_type": "fragment"
    }
   },
   "source": [
    "$$\\bar{y}\\equiv\\frac{1}{n}\\sum_{i=1}^n y_i$$"
   ]
  },
  {
   "cell_type": "markdown",
   "id": "89e6fab2",
   "metadata": {
    "slideshow": {
     "slide_type": "skip"
    }
   },
   "source": [
    "and"
   ]
  },
  {
   "cell_type": "markdown",
   "id": "d01079c6",
   "metadata": {
    "slideshow": {
     "slide_type": "fragment"
    }
   },
   "source": [
    "$$s^2\\equiv \\overline{y^2}-\\bar{y}^2\\qquad \\bar{y^2}\\equiv\\frac{1}{n}\\sum_{i=1}^n y^2_i$$"
   ]
  },
  {
   "cell_type": "markdown",
   "id": "98f56d99",
   "metadata": {
    "slideshow": {
     "slide_type": "slide"
    }
   },
   "source": [
    "#### Caveat"
   ]
  },
  {
   "cell_type": "markdown",
   "id": "0a8be412",
   "metadata": {
    "slideshow": {
     "slide_type": "skip"
    }
   },
   "source": [
    "The variance estimator $s^2$ is [_biased_](https://en.wikipedia.org/wiki/Bias_of_an_estimator) and very often its unbiased version "
   ]
  },
  {
   "cell_type": "markdown",
   "id": "933a257c",
   "metadata": {
    "slideshow": {
     "slide_type": "-"
    }
   },
   "source": [
    "$$\\frac{n}{n-1}s^2$$"
   ]
  },
  {
   "cell_type": "markdown",
   "id": "4f43e9c3",
   "metadata": {
    "slideshow": {
     "slide_type": "skip"
    }
   },
   "source": [
    "is used instead. "
   ]
  },
  {
   "cell_type": "markdown",
   "id": "6a1d0906",
   "metadata": {
    "slideshow": {
     "slide_type": "skip"
    }
   },
   "source": [
    "Which version is calculated is controlled by the parameter `ddof` of `std` function in numpy or pandas. But please be warned that in numpy the default value of this parameter is zero, corresponding to $s$ while in pandas this is one and returns the unbiased version. Of course for large $n$ the difference is negligible. "
   ]
  },
  {
   "cell_type": "markdown",
   "id": "0312c75f",
   "metadata": {
    "slideshow": {
     "slide_type": "skip"
    }
   },
   "source": [
    "Those are the basic facts from statistics and I assume you are acquainted with them :) But to refresh your memory I will present here the derivation of the maximal likelihood estimator for normal distribution. "
   ]
  },
  {
   "cell_type": "markdown",
   "id": "53b1cbc4",
   "metadata": {
    "slideshow": {
     "slide_type": "skip"
    }
   },
   "source": [
    "Given the mean $\\mu$ and standard deviation $\\sigma$ the  probability of obtaining a sequence of $n$ random  values $y_i$ is"
   ]
  },
  {
   "cell_type": "markdown",
   "id": "f609e2cb",
   "metadata": {
    "slideshow": {
     "slide_type": "slide"
    }
   },
   "source": [
    "### Likelihood"
   ]
  },
  {
   "cell_type": "markdown",
   "id": "296d1233",
   "metadata": {
    "slideshow": {
     "slide_type": "-"
    }
   },
   "source": [
    "$$P(y_1,\\ldots,y_n|\\mu,\\sigma) = \\prod_{i=1}^n \\frac{1}{\\sqrt{2\\pi\\sigma^2}}e^{\\displaystyle -\\frac{(y_i-\\mu)^2}{2\\sigma^2}}$$"
   ]
  },
  {
   "cell_type": "markdown",
   "id": "401d3e88",
   "metadata": {
    "slideshow": {
     "slide_type": "skip"
    }
   },
   "source": [
    "Droping an unimportant constant factor this can rewritten as"
   ]
  },
  {
   "cell_type": "markdown",
   "id": "f7fb9330",
   "metadata": {
    "slideshow": {
     "slide_type": "fragment"
    }
   },
   "source": [
    "$$\\sigma^{-n} e^{\\displaystyle -\\frac{1}{2\\sigma^2}\\sum_{i=1}^n(y_i-\\mu)^2}$$"
   ]
  },
  {
   "cell_type": "markdown",
   "id": "1f4e2980",
   "metadata": {
    "slideshow": {
     "slide_type": "skip"
    }
   },
   "source": [
    "The sum in the exponential can be expanded as"
   ]
  },
  {
   "cell_type": "markdown",
   "id": "bbd8d6a9",
   "metadata": {
    "slideshow": {
     "slide_type": "slide"
    }
   },
   "source": [
    "$$\\sum_{i=1}^n(y_i-\\mu)^2 \n",
    "= \\sum_{i=1}^n\\left( y_i^2-2y_i\\mu + \\mu^2\\right)\n",
    "=  \\sum_{i=1}^n y_i^2 - 2\\sum_{i=1}^n y_i\\mu +n \\mu^2\n",
    "$$"
   ]
  },
  {
   "cell_type": "markdown",
   "id": "91407b65",
   "metadata": {
    "slideshow": {
     "slide_type": "skip"
    }
   },
   "source": [
    "which is equal to"
   ]
  },
  {
   "cell_type": "markdown",
   "id": "0e8fc667",
   "metadata": {
    "slideshow": {
     "slide_type": "fragment"
    }
   },
   "source": [
    " $$n \\bar{y^2} - 2n\\bar{y} \\mu +n \\mu^2 = n \\left(\\bar{y^2} - 2\\bar{y} \\mu + \\mu^2\\right) $$"
   ]
  },
  {
   "cell_type": "markdown",
   "id": "9760a04b",
   "metadata": {
    "slideshow": {
     "slide_type": "skip"
    }
   },
   "source": [
    "which can be further rewritten as"
   ]
  },
  {
   "cell_type": "markdown",
   "id": "b7d70041",
   "metadata": {
    "slideshow": {
     "slide_type": "fragment"
    }
   },
   "source": [
    "$$\\bar{y^2} - 2\\bar{y} \\mu + \\mu^2 \n",
    "= \\bar{y^2} -\\bar{y}^2 +\\bar{y}^2 - 2\\bar{y} \\mu + \\mu^2\n",
    "= \\bar{y^2} -\\bar{y}^2 +\\left(\\bar{y}-\\mu\\right)^2 \n",
    "$$"
   ]
  },
  {
   "cell_type": "markdown",
   "id": "d4e6495e",
   "metadata": {
    "slideshow": {
     "slide_type": "skip"
    }
   },
   "source": [
    "So finally we obtain"
   ]
  },
  {
   "cell_type": "markdown",
   "id": "cbc4cebd",
   "metadata": {
    "slideshow": {
     "slide_type": "slide"
    }
   },
   "source": [
    "#### Likelihood"
   ]
  },
  {
   "cell_type": "markdown",
   "id": "4a922613",
   "metadata": {
    "slideshow": {
     "slide_type": "-"
    }
   },
   "source": [
    "$$P(y_1,\\ldots,y_n|\\mu,\\sigma)\\propto \\sigma^{n} e^{\\displaystyle -\\frac{n}{2\\sigma^2}\\left(\\bar{y}-\\mu\\right)^2-\\frac{n}{2\\sigma^2}s^2}$$"
   ]
  },
  {
   "cell_type": "markdown",
   "id": "f47b1acc",
   "metadata": {
    "slideshow": {
     "slide_type": "notes"
    }
   },
   "source": [
    "When viewed as function of $y_i$ this is a _sampling distribution_. But we can view this as a function of $\\mu$ and $\\sigma$. Then this is no longer a probability distribution and is called the _likelihood_. "
   ]
  },
  {
   "cell_type": "markdown",
   "id": "4f247bea",
   "metadata": {
    "slideshow": {
     "slide_type": "skip"
    }
   },
   "source": [
    "### Maximal likelihood"
   ]
  },
  {
   "cell_type": "markdown",
   "id": "fb272b2a",
   "metadata": {
    "slideshow": {
     "slide_type": "skip"
    }
   },
   "source": [
    "The maximal likelihood estimators are obtained by finding the values of $\\mu$ and $\\sigma$ that maximise the likelihood. We are looking for the parameters that make our data most probable. "
   ]
  },
  {
   "cell_type": "markdown",
   "id": "c1657c45",
   "metadata": {
    "slideshow": {
     "slide_type": "skip"
    }
   },
   "source": [
    "Because logarithm is a monotonicaly increasing function we can look for the maximum of the logarithm of the likelihood which has a much simpler form"
   ]
  },
  {
   "cell_type": "markdown",
   "id": "51c67562",
   "metadata": {
    "slideshow": {
     "slide_type": "fragment"
    }
   },
   "source": [
    "$$\\log P(y_1,\\ldots,y_n|\\mu,\\sigma)= -\\frac{n}{2}\\log\\sigma^2-\\frac{n}{2\\sigma^2}\\left(\\bar{y}-\\mu\\right)^2-\\frac{n}{2\\sigma^2}s^2 +C$$"
   ]
  },
  {
   "cell_type": "markdown",
   "id": "48229d7b",
   "metadata": {
    "slideshow": {
     "slide_type": "skip"
    }
   },
   "source": [
    "Differentiating with repect to $\\mu$ we obtain equation\n",
    ":"
   ]
  },
  {
   "cell_type": "markdown",
   "id": "48901613",
   "metadata": {
    "slideshow": {
     "slide_type": "slide"
    }
   },
   "source": [
    "$$\\frac{n}{2\\sigma^2}\\left(\\bar{y}-\\mu\\right)=0$$"
   ]
  },
  {
   "cell_type": "markdown",
   "id": "71d607e1",
   "metadata": {
    "slideshow": {
     "slide_type": "skip"
    }
   },
   "source": [
    "with an obvious solution "
   ]
  },
  {
   "cell_type": "markdown",
   "id": "5b4eea9a",
   "metadata": {
    "slideshow": {
     "slide_type": "fragment"
    }
   },
   "source": [
    "$$\\mu=\\bar{y}$$"
   ]
  },
  {
   "cell_type": "markdown",
   "id": "8689958f",
   "metadata": {
    "slideshow": {
     "slide_type": "skip"
    }
   },
   "source": [
    "Differentiatig with respect to $\\sigma^2$ gives:"
   ]
  },
  {
   "cell_type": "markdown",
   "id": "8a25fc30",
   "metadata": {
    "slideshow": {
     "slide_type": "fragment"
    }
   },
   "source": [
    "$$-\\frac{n}{2\\sigma^2} +\\frac{n}{2\\sigma^4}(\\bar{y}-\\mu)^2+\\frac{n}{2\\sigma^4}s^2=0$$"
   ]
  },
  {
   "cell_type": "markdown",
   "id": "13f40040",
   "metadata": {
    "slideshow": {
     "slide_type": "skip"
    }
   },
   "source": [
    "After inserting the solution for $\\mu$ we get"
   ]
  },
  {
   "cell_type": "markdown",
   "id": "a5393a63",
   "metadata": {
    "slideshow": {
     "slide_type": "fragment"
    }
   },
   "source": [
    "$$\\frac{n}{2\\sigma^2} =\\frac{n}{2\\sigma^4}s^2$$"
   ]
  },
  {
   "cell_type": "markdown",
   "id": "30358205",
   "metadata": {
    "slideshow": {
     "slide_type": "skip"
    }
   },
   "source": [
    "with solution"
   ]
  },
  {
   "cell_type": "markdown",
   "id": "c3ec305b",
   "metadata": {
    "slideshow": {
     "slide_type": "fragment"
    }
   },
   "source": [
    "$$\\sigma^2 = s^2$$"
   ]
  },
  {
   "cell_type": "markdown",
   "id": "aa11f4cb",
   "metadata": {
    "slideshow": {
     "slide_type": "slide"
    }
   },
   "source": [
    "### Classifier"
   ]
  },
  {
   "cell_type": "markdown",
   "id": "3688a77a",
   "metadata": {
    "slideshow": {
     "slide_type": "skip"
    }
   },
   "source": [
    "The classifier can be now constructed in the same way as in previous lecture. To make this notebook self contained I will repeat those calculations but wrap them up in couple of functions. "
   ]
  },
  {
   "cell_type": "code",
   "execution_count": null,
   "id": "9e64ce89",
   "metadata": {
    "slideshow": {
     "slide_type": "skip"
    }
   },
   "outputs": [],
   "source": [
    "def make_pdf_P_cond(labels, data):\n",
    "    \"\"\"Takes labels (0,1) and a single feature and returns the conditional \n",
    "    probability distribution function of the   positive label given the feature assuming\n",
    "    normal distribution of the  feature values.\n",
    "    \"\"\"\n",
    "    \n",
    "    positives = data[labels==1]\n",
    "    negatives = data[labels==0]\n",
    "    \n",
    "    pdf_cond_P = st.norm(*st.norm.fit(positives)).pdf\n",
    "    pdf_cond_N = st.norm(*st.norm.fit(negatives)).pdf\n",
    "    \n",
    "    P_P = labels.mean()\n",
    "    P_N = 1-P_P\n",
    "    \n",
    "    def pdf(x):\n",
    "        return pdf_cond_P(x)*P_P/(pdf_cond_P(x)*P_P+pdf_cond_N(x)*P_N)\n",
    "        \n",
    "    return pdf"
   ]
  },
  {
   "cell_type": "code",
   "execution_count": null,
   "id": "0e62b567",
   "metadata": {
    "slideshow": {
     "slide_type": "skip"
    }
   },
   "outputs": [],
   "source": [
    "pdf_F_cond_h  = make_pdf_P_cond(train_data.Gender=='Female', train_data.Height)"
   ]
  },
  {
   "cell_type": "code",
   "execution_count": null,
   "id": "ae458718",
   "metadata": {
    "slideshow": {
     "slide_type": "slide"
    }
   },
   "outputs": [],
   "source": [
    "fig, ax = plt.subplots()\n",
    "hs =np.linspace(1.3, 2.1,100)\n",
    "ax.plot(hs, pdf_F_cond_h(hs));\n",
    "ax.set_xlabel(\"Height [m]\");\n",
    "ax.set_ylabel(\"P(F|h)\");"
   ]
  },
  {
   "cell_type": "code",
   "execution_count": null,
   "id": "7c7bf500",
   "metadata": {
    "slideshow": {
     "slide_type": "slide"
    }
   },
   "outputs": [],
   "source": [
    "from scipy.optimize import fsolve\n",
    "threshold = fsolve(lambda h: pdf_F_cond_h(h)-0.5, 1.7)[0]\n",
    "print(threshold)"
   ]
  },
  {
   "cell_type": "code",
   "execution_count": null,
   "id": "dc6cac1f",
   "metadata": {
    "slideshow": {
     "slide_type": "slide"
    }
   },
   "outputs": [],
   "source": [
    "sklearn.metrics.confusion_matrix(train_data['Gender']=='Female',pdf_F_cond_h(train_data.Height)>0.5, normalize='true')"
   ]
  },
  {
   "cell_type": "code",
   "execution_count": null,
   "id": "a771515e",
   "metadata": {
    "slideshow": {
     "slide_type": "slide"
    }
   },
   "outputs": [],
   "source": [
    "sklearn.metrics.ConfusionMatrixDisplay.from_predictions(train_data['Gender']=='Female',pdf_F_cond_h(train_data.Height)>=0.5, normalize='true');"
   ]
  },
  {
   "cell_type": "code",
   "execution_count": null,
   "id": "6a8fa844",
   "metadata": {
    "slideshow": {
     "slide_type": "slide"
    }
   },
   "outputs": [],
   "source": [
    "sklearn.metrics.ConfusionMatrixDisplay.from_predictions(test_data['Gender']=='Female',test_data.Height<=threshold, normalize='true');"
   ]
  },
  {
   "cell_type": "code",
   "execution_count": null,
   "id": "40cfa45d",
   "metadata": {
    "slideshow": {
     "slide_type": "slide"
    }
   },
   "outputs": [],
   "source": [
    "sklearn.metrics.accuracy_score(test_data['Gender']=='Female',test_data.Height<=threshold)"
   ]
  },
  {
   "cell_type": "code",
   "execution_count": null,
   "id": "117c8dde",
   "metadata": {
    "slideshow": {
     "slide_type": "fragment"
    }
   },
   "outputs": [],
   "source": [
    "sklearn.metrics.precision_score(test_data['Gender']=='Female',test_data.Height<=threshold)"
   ]
  },
  {
   "cell_type": "code",
   "execution_count": null,
   "id": "daa56a4e",
   "metadata": {
    "slideshow": {
     "slide_type": "fragment"
    }
   },
   "outputs": [],
   "source": [
    "sklearn.metrics.f1_score(test_data['Gender']=='Female',test_data.Height<=threshold)"
   ]
  },
  {
   "cell_type": "code",
   "execution_count": null,
   "id": "f6a207d4",
   "metadata": {
    "slideshow": {
     "slide_type": "slide"
    }
   },
   "outputs": [],
   "source": [
    "print(sklearn.metrics.classification_report(test_data['Gender']=='Female',test_data.Height<=threshold))"
   ]
  },
  {
   "cell_type": "code",
   "execution_count": null,
   "id": "c264b150",
   "metadata": {
    "slideshow": {
     "slide_type": "skip"
    }
   },
   "outputs": [],
   "source": [
    "from sklearn.metrics import roc_auc_score, roc_curve"
   ]
  },
  {
   "cell_type": "code",
   "execution_count": null,
   "id": "f0382ddc",
   "metadata": {
    "slideshow": {
     "slide_type": "slide"
    }
   },
   "outputs": [],
   "source": [
    "fprs, tprs, thds = roc_curve(test_data.Gender=='Female', pdf_F_cond_h(test_data.Height))\n",
    "auc = roc_auc_score(test_data.Gender=='Female', pdf_F_cond_h(test_data.Height))"
   ]
  },
  {
   "cell_type": "code",
   "execution_count": null,
   "id": "38e07d6b",
   "metadata": {
    "slideshow": {
     "slide_type": "skip"
    }
   },
   "outputs": [],
   "source": [
    "def roc_plot(plt, title ='ROC', figsize=[8,8]):\n",
    "    \"\"\"\n",
    "    Returns pyplot figure and axes object designed for plotting ROC curve. \n",
    "    \n",
    "    It sets aspect ratio to one, labels the axes and sets the title.\n",
    "    \n",
    "    Parameters:\n",
    "    plt : pyplot module\n",
    "    title : the title of the plot\n",
    "    figsize : Figure size in inches \n",
    "    \"\"\"\n",
    "    fig, ax = plt.subplots(figsize=figsize)\n",
    "    ax.set_aspect(1)\n",
    "    ax.set_xlabel('FPR');\n",
    "    ax.set_ylabel('TPR');\n",
    "    ax.set_title(title)\n",
    "    ax.plot([0,1,1,0,0],[0,0,1,1,0], '-', color='grey', linewidth=1)\n",
    "    return fig,ax"
   ]
  },
  {
   "cell_type": "code",
   "execution_count": null,
   "id": "0cdd9983",
   "metadata": {
    "slideshow": {
     "slide_type": "slide"
    }
   },
   "outputs": [],
   "source": [
    "(tnr, fpr),(fnr, tpr) = sklearn.metrics.confusion_matrix(test_data['Gender']=='Female',test_data.Height<=threshold, normalize='true')"
   ]
  },
  {
   "cell_type": "code",
   "execution_count": null,
   "id": "ef1e5b33",
   "metadata": {
    "slideshow": {
     "slide_type": "slide"
    }
   },
   "outputs": [],
   "source": [
    "fig, ax = roc_plot(plt, 'Test data ROC')\n",
    "roc = ax.plot(fprs,tprs, color='blue', linewidth=1);\n",
    "ax.scatter([fpr],[tpr],s = 30, edgecolor='blue', zorder=5, facecolor='blue');\n",
    "ax.text(0.7, 0.8, \"AUC = {:4.2f}\".format(auc), fontsize=12);"
   ]
  },
  {
   "cell_type": "markdown",
   "id": "43a91a39",
   "metadata": {
    "slideshow": {
     "slide_type": "skip"
    }
   },
   "source": [
    "This plot looks slightly worse then the one  we did last time, but that's becase we have only 2500 data points instead of 100000 that we have generated by Monte-Carlo.  "
   ]
  },
  {
   "cell_type": "markdown",
   "id": "55b5e870",
   "metadata": {
    "slideshow": {
     "slide_type": "skip"
    }
   },
   "source": [
    "Let's finish with some graphical iterpretation."
   ]
  },
  {
   "cell_type": "code",
   "execution_count": null,
   "id": "e02bd8b3",
   "metadata": {
    "slideshow": {
     "slide_type": "slide"
    }
   },
   "outputs": [],
   "source": [
    "fig, ax = plt.subplots()\n",
    "ax.set_xlabel(\"height (m)\")\n",
    "ax.set_ylabel(\"P(h|S)\")\n",
    "test_data_F.Height.hist(bins=32, density=True, ax=ax , color=f_color, alpha=0.7, label='Women');\n",
    "test_data_M.Height.hist(bins=32, density=True, ax=ax , color=m_color, alpha=0.7, label='Men');\n",
    "hs =np.linspace(1.3,2.1,100)\n",
    "ax.plot(hs, pd_F.pdf(hs), c=f_color);\n",
    "ax.plot(hs, pd_M.pdf(hs), c=m_color);\n",
    "plt.axvline(threshold, c='red', linewidth = 1);\n",
    "plt.legend();"
   ]
  },
  {
   "cell_type": "markdown",
   "id": "77fc0090",
   "metadata": {
    "slideshow": {
     "slide_type": "notes"
    }
   },
   "source": [
    "Those are the histograms of the test data with distributions derived from the traning data. The red vertical line marks the threshold for classfication. Blue on the left are true positives, orange on the left are false positives, blue on the right are false negatives and orange on right are true negatives. "
   ]
  },
  {
   "cell_type": "markdown",
   "id": "09a482db",
   "metadata": {
    "slideshow": {
     "slide_type": "slide"
    }
   },
   "source": [
    "# More features"
   ]
  },
  {
   "cell_type": "markdown",
   "id": "3cc906c9",
   "metadata": {
    "slideshow": {
     "slide_type": "notes"
    }
   },
   "source": [
    "Using one feature is not very realistic. Normally we would use tens, hundreds or even thousands of different features. Each feature potentially adds information and increases the quality of the classifier. In our data set we have one more feature that we can use: weight. "
   ]
  },
  {
   "cell_type": "markdown",
   "id": "622beea4",
   "metadata": {
    "slideshow": {
     "slide_type": "notes"
    }
   },
   "source": [
    "Visualising multidimensional data is hard. We can start by looking at them one by one. We have already looked at the distribution of heights so now we will plot the distribution of weights. "
   ]
  },
  {
   "cell_type": "markdown",
   "id": "141cd16d",
   "metadata": {
    "slideshow": {
     "slide_type": "slide"
    }
   },
   "source": [
    "### Weight"
   ]
  },
  {
   "cell_type": "code",
   "execution_count": null,
   "id": "570917ff",
   "metadata": {
    "slideshow": {
     "slide_type": "fragment"
    }
   },
   "outputs": [],
   "source": [
    "fig, ax = plt.subplots()\n",
    "ax.set_xlabel(\"Weight [m]\")\n",
    "ax.set_ylabel(\"P(w|S)\")\n",
    "train_data_F.Weight.hist(bins=32, density=True, ax=ax , color=f_color, alpha=0.7, label='Women');\n",
    "train_data_M.Weight.hist(bins=32, density=True, ax=ax , color=m_color, alpha=0.7, label='Men');\n",
    "plt.legend();"
   ]
  },
  {
   "cell_type": "markdown",
   "id": "54601587",
   "metadata": {
    "slideshow": {
     "slide_type": "skip"
    }
   },
   "source": [
    "The distribution of weights by gender looks reasonably normal, but what we need is the join distribution of height and weight."
   ]
  },
  {
   "cell_type": "markdown",
   "id": "1beed0cc",
   "metadata": {
    "slideshow": {
     "slide_type": "slide"
    }
   },
   "source": [
    "$$P(h,w|S)$$"
   ]
  },
  {
   "cell_type": "markdown",
   "id": "c9fe49f5",
   "metadata": {
    "slideshow": {
     "slide_type": "skip"
    }
   },
   "source": [
    "This we can visualize using a _scatter_ plot "
   ]
  },
  {
   "cell_type": "code",
   "execution_count": null,
   "id": "bfb47a32",
   "metadata": {
    "slideshow": {
     "slide_type": "slide"
    }
   },
   "outputs": [],
   "source": [
    "plt.scatter(train_data_F.Height, train_data_F.Weight, alpha=0.2, c = f_color, label='Women');\n",
    "plt.scatter(train_data_M.Height, train_data_M.Weight, alpha=0.2, c = m_color, label='Men');\n",
    "plt.xlabel('Height')\n",
    "plt.ylabel('Weight');\n",
    "plt.legend();"
   ]
  },
  {
   "cell_type": "markdown",
   "id": "81232676",
   "metadata": {
    "slideshow": {
     "slide_type": "notes"
    }
   },
   "source": [
    "Unfortunatelly this plot quickly saturates and it is hard to judge the density of points in different regions (you can try to play with the alpha parameter). "
   ]
  },
  {
   "cell_type": "markdown",
   "id": "7387d55f",
   "metadata": {
    "slideshow": {
     "slide_type": "skip"
    }
   },
   "source": [
    "We can use 2D histograms, but then it is not possible to separate data for women and men on the same plot. Histogram below displays all the data together. "
   ]
  },
  {
   "cell_type": "code",
   "execution_count": null,
   "id": "096b12a4",
   "metadata": {
    "slideshow": {
     "slide_type": "slide"
    }
   },
   "outputs": [],
   "source": [
    "hb = plt.hist2d(train_data['Height'], train_data['Weight'], bins=32, density=True);\n",
    "plt.xlabel('Height [m]')\n",
    "plt.ylabel('Weight [kg]')\n",
    "plt.colorbar(hb[3]);"
   ]
  },
  {
   "cell_type": "markdown",
   "id": "68fb53b2",
   "metadata": {
    "slideshow": {
     "slide_type": "skip"
    }
   },
   "source": [
    "Sometimes we can get a nicer picture with hexagonal bins:"
   ]
  },
  {
   "cell_type": "code",
   "execution_count": null,
   "id": "7b701360",
   "metadata": {
    "slideshow": {
     "slide_type": "slide"
    }
   },
   "outputs": [],
   "source": [
    "hb = plt.hexbin(train_data['Height'], train_data['Weight'], bins=20);\n",
    "plt.xlabel('Height [m]')\n",
    "plt.ylabel('Weight [kg]')\n",
    "plt.colorbar(hb);"
   ]
  },
  {
   "cell_type": "markdown",
   "id": "5bd451a3",
   "metadata": {
    "slideshow": {
     "slide_type": "notes"
    }
   },
   "source": [
    "One way to proceed would be to try to model the joint distribution of  height and weight for each sex as a two dimensional normal distribution. Another, and that is the one we will pursue here is to model them independently. "
   ]
  },
  {
   "cell_type": "markdown",
   "id": "df177219",
   "metadata": {
    "slideshow": {
     "slide_type": "slide"
    }
   },
   "source": [
    "## (In)dependence"
   ]
  },
  {
   "cell_type": "markdown",
   "id": "a64f50b8",
   "metadata": {
    "slideshow": {
     "slide_type": "notes"
    }
   },
   "source": [
    "In order to do that we require the features to be at least approximately independent. That is obviously not the case for height and weight. Common sense tells us that taller persons will be usually heavier. That is borne out the plots above as the points cluster around the diagonal. We can check this by calculating the _correlation_ between the  height and weight."
   ]
  },
  {
   "cell_type": "markdown",
   "id": "8b24657e",
   "metadata": {
    "slideshow": {
     "slide_type": "skip"
    }
   },
   "source": [
    "Correlation can be easily calculated using [pandas.Series.corr](https://pandas.pydata.org/pandas-docs/stable/reference/api/pandas.Series.corr.html) or [numpy.corrcoef](https://docs.scipy.org/doc/numpy/reference/generated/numpy.corrcoef.html) build in functions. "
   ]
  },
  {
   "cell_type": "code",
   "execution_count": null,
   "id": "03888095",
   "metadata": {
    "slideshow": {
     "slide_type": "fragment"
    }
   },
   "outputs": [],
   "source": [
    "train_data[['Height', 'Weight']].corr()"
   ]
  },
  {
   "cell_type": "markdown",
   "id": "acec344b",
   "metadata": {
    "slideshow": {
     "slide_type": "skip"
    }
   },
   "source": [
    "Let's look separately at each sex"
   ]
  },
  {
   "cell_type": "markdown",
   "id": "25a4c489",
   "metadata": {
    "slideshow": {
     "slide_type": "notes"
    }
   },
   "source": [
    "This gives us a symmetric correlation matrix. On the diagonal we always have 1.0. The off diagonal  entries correspond to correlation between two variables. As expected height and weight are highly correlated (the maximal value of correlation  coefficient is one). "
   ]
  },
  {
   "cell_type": "code",
   "execution_count": null,
   "id": "e1266b1e",
   "metadata": {
    "slideshow": {
     "slide_type": "fragment"
    }
   },
   "outputs": [],
   "source": [
    "train_data_F = train_data.loc[data['Gender']=='Female']\n",
    "train_data_M   = train_data.loc[data['Gender']=='Male']"
   ]
  },
  {
   "cell_type": "code",
   "execution_count": null,
   "id": "6dd109c9",
   "metadata": {
    "slideshow": {
     "slide_type": "fragment"
    }
   },
   "outputs": [],
   "source": [
    "train_data_F[['Height', 'Weight']].corr()"
   ]
  },
  {
   "cell_type": "code",
   "execution_count": null,
   "id": "f5eb0adc",
   "metadata": {
    "slideshow": {
     "slide_type": "fragment"
    }
   },
   "outputs": [],
   "source": [
    "train_data_M[['Height', 'Weight']].corr()"
   ]
  },
  {
   "cell_type": "markdown",
   "id": "325e4381",
   "metadata": {
    "slideshow": {
     "slide_type": "slide"
    }
   },
   "source": [
    "### BMI "
   ]
  },
  {
   "cell_type": "markdown",
   "id": "32c6e71e",
   "metadata": {
    "slideshow": {
     "slide_type": "notes"
    }
   },
   "source": [
    "In order to  reduce the correlations we will use the [Body Mass Index](https://en.wikipedia.org/wiki/Body_mass_index) instead of weight. Its idea was exactly to provide a height independent characterisation of persons weight. "
   ]
  },
  {
   "cell_type": "code",
   "execution_count": null,
   "id": "1a0e694a",
   "metadata": {
    "slideshow": {
     "slide_type": "fragment"
    }
   },
   "outputs": [],
   "source": [
    "data['BMI'] = data['Weight']/data['Height']**2"
   ]
  },
  {
   "cell_type": "markdown",
   "id": "024b1359",
   "metadata": {
    "slideshow": {
     "slide_type": "notes"
    }
   },
   "source": [
    "Because we have changed the data we have to redo the train test split. Using same seed will gives us exactly same sets as before which will be convenient for comparison. "
   ]
  },
  {
   "cell_type": "code",
   "execution_count": null,
   "id": "01c176cb",
   "metadata": {
    "slideshow": {
     "slide_type": "fragment"
    }
   },
   "outputs": [],
   "source": [
    "train_data, test_data  = train_test_split(data,test_size=0.25, random_state=seed)"
   ]
  },
  {
   "cell_type": "code",
   "execution_count": null,
   "id": "846978ab",
   "metadata": {
    "slideshow": {
     "slide_type": "slide"
    }
   },
   "outputs": [],
   "source": [
    "from sklearn.linear_model import LinearRegression"
   ]
  },
  {
   "cell_type": "code",
   "execution_count": null,
   "id": "818ca25b",
   "metadata": {
    "slideshow": {
     "slide_type": "fragment"
    }
   },
   "outputs": [],
   "source": [
    "reg = LinearRegression().fit(train_data['Height'].values.reshape(-1,1), train_data['BMI'].values)"
   ]
  },
  {
   "cell_type": "code",
   "execution_count": null,
   "id": "ddad8683",
   "metadata": {
    "slideshow": {
     "slide_type": "slide"
    }
   },
   "outputs": [],
   "source": [
    "hs = np.linspace(1.5,1.9)\n",
    "plt.scatter(train_data['Height'],train_data['BMI'], alpha=0.2, c=color);\n",
    "plt.xlabel('Height')\n",
    "plt.ylabel('BMI');\n",
    "plt.plot(hs, reg.predict(hs.reshape(-1,1)));"
   ]
  },
  {
   "cell_type": "markdown",
   "id": "fa71476a",
   "metadata": {
    "slideshow": {
     "slide_type": "notes"
    }
   },
   "source": [
    "The scatter plot  still indicates rather strong correlation, but correlation coefficient is actually lower"
   ]
  },
  {
   "cell_type": "code",
   "execution_count": null,
   "id": "eab932f2",
   "metadata": {
    "slideshow": {
     "slide_type": "slide"
    }
   },
   "outputs": [],
   "source": [
    "train_data[['Height', 'BMI']].corr()"
   ]
  },
  {
   "cell_type": "code",
   "execution_count": null,
   "id": "a7c0a9d3",
   "metadata": {
    "slideshow": {
     "slide_type": "fragment"
    }
   },
   "outputs": [],
   "source": [
    "train_data_F = train_data.loc[data['Gender']=='Female']\n",
    "train_data_M   = train_data.loc[data['Gender']=='Male']"
   ]
  },
  {
   "cell_type": "code",
   "execution_count": null,
   "id": "ae62ee6c",
   "metadata": {
    "slideshow": {
     "slide_type": "fragment"
    }
   },
   "outputs": [],
   "source": [
    "reg_F = LinearRegression().fit(train_data_F['Height'].values.reshape(-1,1), train_data_F['BMI'].values)\n",
    "reg_M = LinearRegression().fit(train_data_M['Height'].values.reshape(-1,1), train_data_M['BMI'].values)"
   ]
  },
  {
   "cell_type": "code",
   "execution_count": null,
   "id": "94e3a701",
   "metadata": {
    "slideshow": {
     "slide_type": "slide"
    }
   },
   "outputs": [],
   "source": [
    "plt.scatter(train_data_F['Height'],train_data_F['BMI'], alpha=0.2, c = f_color, label='Women');\n",
    "plt.scatter(train_data_M['Height'], train_data_M['BMI'], alpha=0.2, c = m_color, label='Men');\n",
    "plt.plot(hs[hs>1.6],reg_M.predict(hs[hs>1.6].reshape(-1,1)), color='red')\n",
    "plt.plot(hs[hs<1.8],reg_F.predict(hs[hs<1.8].reshape(-1,1)), color='red')\n",
    "plt.xlabel('Height')\n",
    "plt.ylabel('BMI');\n",
    "plt.legend();"
   ]
  },
  {
   "cell_type": "markdown",
   "id": "237cffbd",
   "metadata": {
    "slideshow": {
     "slide_type": "notes"
    }
   },
   "source": [
    "Now each cluster look less correlated, especially men. And indeed the correlation coefficients are lower  for each sex"
   ]
  },
  {
   "cell_type": "code",
   "execution_count": null,
   "id": "f74e3db3",
   "metadata": {
    "slideshow": {
     "slide_type": "slide"
    }
   },
   "outputs": [],
   "source": [
    "train_data_F[['Height', 'BMI']].corr()"
   ]
  },
  {
   "cell_type": "code",
   "execution_count": null,
   "id": "466c64ab",
   "metadata": {
    "slideshow": {
     "slide_type": "-"
    }
   },
   "outputs": [],
   "source": [
    "train_data_M[['Height', 'BMI']].corr()"
   ]
  },
  {
   "cell_type": "markdown",
   "id": "61e16d74",
   "metadata": {
    "slideshow": {
     "slide_type": "slide"
    }
   },
   "source": [
    "### Conditional independence"
   ]
  },
  {
   "cell_type": "markdown",
   "id": "42696ea8",
   "metadata": {
    "slideshow": {
     "slide_type": "notes"
    }
   },
   "source": [
    "What we have done  was to check for _conditional independence_. Two random variables $X$ and $Y$ are idenpendent conditioned on third variable $Z$ if "
   ]
  },
  {
   "cell_type": "markdown",
   "id": "d0814bed",
   "metadata": {
    "slideshow": {
     "slide_type": "-"
    }
   },
   "source": [
    "$$P(X=x,Y=y|Z=z)=P(Y=y|Z=z)P(Y=y|Z=z)$$"
   ]
  },
  {
   "cell_type": "markdown",
   "id": "68da03d1",
   "metadata": {
    "slideshow": {
     "slide_type": "notes"
    }
   },
   "source": [
    "Important point to note here is that two variables can be dependent on each other but be independent when coditioned on third variable.  This happens when _e.g._ both variables $X$ and $Y$ depend on $Z$ but not on each other.\n",
    "\n",
    "\n",
    " "
   ]
  },
  {
   "cell_type": "markdown",
   "id": "2a9427b0",
   "metadata": {
    "slideshow": {
     "slide_type": "notes"
    }
   },
   "source": [
    "Take for example the number of ice creams sold and number of men in t-shirts on the street. Those variables are most probably correlated as they both depend on the air temperature. If we see lots of men in t-shirts it is probable that it is a nice warm day and consequently the ice creams sales are higher. If we condition on temperature that is  look only at the days with same air temperature we will probably find  that number of ice cream sold is idenpendent of number of men in t-shirts. "
   ]
  },
  {
   "cell_type": "markdown",
   "id": "624327c0",
   "metadata": {
    "slideshow": {
     "slide_type": "slide"
    }
   },
   "source": [
    "## Naive Bayes classifier"
   ]
  },
  {
   "cell_type": "markdown",
   "id": "3f623127",
   "metadata": {
    "slideshow": {
     "slide_type": "notes"
    }
   },
   "source": [
    "We have not established that the height and BMI are independent conditioned on sex, but we how shown that that dependence is significantly reduced. This is a rationale behind _Naive Bayes_ classifier."
   ]
  },
  {
   "cell_type": "markdown",
   "id": "04ac7d0d",
   "metadata": {
    "slideshow": {
     "slide_type": "skip"
    }
   },
   "source": [
    "Let's assume that we have $k$ features $X_i$ that we want to use to predict class $C$. Approach that we have used so far would require knowledge of the join probability"
   ]
  },
  {
   "cell_type": "markdown",
   "id": "ba9aa93d",
   "metadata": {
    "slideshow": {
     "slide_type": "fragment"
    }
   },
   "source": [
    "$$P(X_1=x_1,\\ldots,X_k=k_k|C=c)$$ "
   ]
  },
  {
   "cell_type": "markdown",
   "id": "426e39d9",
   "metadata": {
    "slideshow": {
     "slide_type": "notes"
    }
   },
   "source": [
    "In Naive Bayes we __assume__ that those features are independent conditionned on class random variable $C$"
   ]
  },
  {
   "cell_type": "markdown",
   "id": "008bd9c9",
   "metadata": {
    "slideshow": {
     "slide_type": "fragment"
    }
   },
   "source": [
    "$$P(X_1=x_1,\\ldots,X_k=x_k|C=c)=P(X_1=x_1|C=c)\\cdots P(X_k=x_k|C=c)$$ "
   ]
  },
  {
   "cell_type": "markdown",
   "id": "b893ef93",
   "metadata": {
    "slideshow": {
     "slide_type": "skip"
    }
   },
   "source": [
    "and so "
   ]
  },
  {
   "cell_type": "markdown",
   "id": "5a591b8e",
   "metadata": {
    "slideshow": {
     "slide_type": "slide"
    }
   },
   "source": [
    "$$P(C=c|X_1=x_1,\\ldots,X_k=x_k)= \\frac{P(X_1=x_1|C=c)\\cdots P(X_k=x_k|C=c) P(C=c)}{\\sum_c P(X_1=x_1|C=c)\\cdots P(X_k=x_k|C=c) P(C=c)}$$ "
   ]
  },
  {
   "cell_type": "markdown",
   "id": "bec69e24",
   "metadata": {
    "slideshow": {
     "slide_type": "skip"
    }
   },
   "source": [
    "In our example this translates to (I have used $B$ and $b$ to denote BMI random variable and its value)"
   ]
  },
  {
   "cell_type": "markdown",
   "id": "3c5f6c5f",
   "metadata": {
    "slideshow": {
     "slide_type": "fragment"
    }
   },
   "source": [
    "$$P(S=f|H=h, B = b) = \\frac{P(H=h|S=f)P(B=b|S=f)P(S=f)}\n",
    "{P(H=h|S=f)P(B=b|S=f)P(S=f)+\n",
    "P(H=h|S=m)P(B=b|S=m)P(S=m)}$$"
   ]
  },
  {
   "cell_type": "markdown",
   "id": "1b42bfd3",
   "metadata": {
    "slideshow": {
     "slide_type": "skip"
    }
   },
   "source": [
    "We know that the height distribution for each sex can be approximated as normal. We have to check if this is also true for BMI."
   ]
  },
  {
   "cell_type": "code",
   "execution_count": null,
   "id": "3a0d40fd",
   "metadata": {
    "slideshow": {
     "slide_type": "slide"
    }
   },
   "outputs": [],
   "source": [
    "fig, ax = plt.subplots()\n",
    "ax.set_xlabel(\"BMI (m)\")\n",
    "ax.set_ylabel(\"P(bmi|S)\")\n",
    "train_data_F.BMI.hist(bins=32, density=True, ax=ax , color=f_color, alpha=0.7);\n",
    "train_data_M.BMI.hist(bins=32, density=True, ax=ax , color=m_color, alpha=0.7);\n",
    "bmis =np.linspace(15,33,100)\n",
    "pdf_bmi_F = st.norm(*st.norm.fit(train_data_F.BMI)).pdf\n",
    "ax.plot(bmis, pdf_bmi_F(bmis), c=f_color);\n",
    "pdf_bmi_M = st.norm(*st.norm.fit(train_data_M.BMI)).pdf\n",
    "ax.plot(bmis, pdf_bmi_M(bmis), c=m_color);"
   ]
  },
  {
   "cell_type": "markdown",
   "id": "35d9aa6c",
   "metadata": {
    "slideshow": {
     "slide_type": "skip"
    }
   },
   "source": [
    "This looks resonable so we will stick with this choice. The function below  constructs the  $P(S=f|H=h, B=b)$ function  from height and BMI data"
   ]
  },
  {
   "cell_type": "code",
   "execution_count": null,
   "id": "befb539c",
   "metadata": {
    "slideshow": {
     "slide_type": "skip"
    }
   },
   "outputs": [],
   "source": [
    "def make_pdf_P_cond_NB(labels, h, bmi ):\n",
    "    \n",
    "    positives = labels==1\n",
    "    negatives = labels==0\n",
    "    \n",
    "    pdf_h_P = st.norm(*st.norm.fit(h[positives])).pdf\n",
    "    pdf_h_N = st.norm(*st.norm.fit(h[negatives])).pdf \n",
    "    \n",
    "    pdf_bmi_P = st.norm(*st.norm.fit(bmi[positives])).pdf\n",
    "    pdf_bmi_N = st.norm(*st.norm.fit(bmi[negatives])).pdf                  \n",
    "                      \n",
    "    \n",
    "    P_P = labels.mean()\n",
    "    P_N = 1-P_P\n",
    "    \n",
    "    def pdf(ha, bmia):\n",
    "        p_prod = pdf_h_P(ha)*pdf_bmi_P(bmia)*P_P\n",
    "        n_prod = pdf_h_N(ha)*pdf_bmi_N(bmia)*P_N\n",
    "        \n",
    "        \n",
    "        return p_prod/(p_prod +n_prod)\n",
    "        \n",
    "    return pdf"
   ]
  },
  {
   "cell_type": "code",
   "execution_count": null,
   "id": "a094291a",
   "metadata": {
    "slideshow": {
     "slide_type": "skip"
    }
   },
   "outputs": [],
   "source": [
    "nb_prob = make_pdf_P_cond_NB(test_data['Gender']=='Female', test_data.Height, test_data.BMI)"
   ]
  },
  {
   "cell_type": "code",
   "execution_count": null,
   "id": "17c9bc70",
   "metadata": {
    "slideshow": {
     "slide_type": "skip"
    }
   },
   "outputs": [],
   "source": [
    "sklearn.metrics.ConfusionMatrixDisplay.from_predictions(test_data.Gender=='Female', nb_prob(test_data.Height, test_data.BMI)>0.5, normalize='true' );"
   ]
  },
  {
   "cell_type": "code",
   "execution_count": null,
   "id": "a3ca0f26",
   "metadata": {
    "slideshow": {
     "slide_type": "skip"
    }
   },
   "outputs": [],
   "source": [
    "(_, nb_fpr),(_, nb_tpr) =sklearn.metrics.confusion_matrix(test_data.Gender=='Female', nb_prob(test_data.Height, test_data.BMI)>0.5, normalize='true' )"
   ]
  },
  {
   "cell_type": "code",
   "execution_count": null,
   "id": "900fd019",
   "metadata": {
    "slideshow": {
     "slide_type": "skip"
    }
   },
   "outputs": [],
   "source": [
    "nb_fprs, nb_tprs, nb_thds = roc_curve(test_data.Gender=='Female', nb_prob(test_data.Height, test_data.BMI) )\n",
    "nb_auc = roc_auc_score(test_data.Gender=='Female', nb_prob(test_data.Height, test_data.BMI) )"
   ]
  },
  {
   "cell_type": "code",
   "execution_count": null,
   "id": "9afb75d1",
   "metadata": {
    "slideshow": {
     "slide_type": "slide"
    }
   },
   "outputs": [],
   "source": [
    "fig,ax = roc_plot(plt)\n",
    "ax.plot(fprs, tprs, label='Heigh')\n",
    "ax.scatter([fpr],[tpr], color='blue', zorder = 5)\n",
    "ax.plot(nb_fprs, nb_tprs,  label = \"Heigh & BMI\")\n",
    "ax.scatter([nb_fpr],[nb_tpr], color='orange', zorder = 5)\n",
    "ax.text(0.4,0.8,\"AUC = {:.3f}\\nAUC NB = {:.3f}\".format(auc, nb_auc))\n",
    "ax.legend();"
   ]
  },
  {
   "cell_type": "markdown",
   "id": "a801f673",
   "metadata": {
    "slideshow": {
     "slide_type": "skip"
    }
   },
   "source": [
    "As we can see adding weight  feature in form of the BMI substantially increased the quality of our classifier. "
   ]
  }
 ],
 "metadata": {
  "kernelspec": {
   "display_name": "Python 3 (ipykernel)",
   "language": "python",
   "name": "python3"
  }
 },
 "nbformat": 4,
 "nbformat_minor": 5
}
