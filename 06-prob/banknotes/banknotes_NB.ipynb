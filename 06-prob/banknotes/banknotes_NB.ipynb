{
 "cells": [
  {
   "cell_type": "raw",
   "id": "d4c2a2f0",
   "metadata": {},
   "source": [
    "---\n",
    "output: github_document\n",
    "---"
   ]
  },
  {
   "cell_type": "markdown",
   "id": "feaf95e3",
   "metadata": {},
   "source": [
    "# Counterfeit detection"
   ]
  },
  {
   "cell_type": "markdown",
   "id": "29c02f8c",
   "metadata": {},
   "source": [
    "The task in this assignment is to detect the  counterfeit banknotes. The data set is based on [banknote authentication Data Set ](https://archive.ics.uci.edu/ml/datasets/banknote+authentication#) from UCI Machine Learning repository. The first three columns denote different parameters obtained from the photographs of the banknotes and last colum provides the label. Frankly as the dataset does not have any description I don't know  which labels corresponds to real and which to counterfeited banknotes. let's assume that label one (positive) denotes the clounterfeits. The set  \"banknote_authentication.csv\" can be found in the data  directory."
   ]
  },
  {
   "cell_type": "code",
   "execution_count": null,
   "id": "38cff260",
   "metadata": {},
   "outputs": [],
   "source": [
    "import pandas as pd\n",
    "import numpy as np\n",
    "import matplotlib.pyplot as plt\n",
    "import scipy.stats as st\n",
    "import scrapbook as sb"
   ]
  },
  {
   "cell_type": "code",
   "execution_count": null,
   "id": "369f0e22",
   "metadata": {},
   "outputs": [],
   "source": [
    "import  matplotlib.pyplot as plt\n",
    "plt.rcParams['figure.figsize']=(8,8)"
   ]
  },
  {
   "cell_type": "markdown",
   "id": "05d42cb9",
   "metadata": {},
   "source": [
    "Please insert you  firstname  and name below"
   ]
  },
  {
   "cell_type": "code",
   "execution_count": null,
   "id": "09ed2833",
   "metadata": {},
   "outputs": [],
   "source": [
    "sb.glue(\"Who\", [\"FirstName\", \"Name\"])"
   ]
  },
  {
   "cell_type": "code",
   "execution_count": null,
   "id": "ad2745ef",
   "metadata": {
    "tags": []
   },
   "outputs": [],
   "source": [
    "from  sklearn.model_selection import train_test_split\n",
    "seed = 31287"
   ]
  },
  {
   "cell_type": "code",
   "execution_count": null,
   "id": "73815199",
   "metadata": {},
   "outputs": [],
   "source": [
    "data = pd.read_csv('data/banknotes_data.csv')"
   ]
  },
  {
   "cell_type": "code",
   "execution_count": null,
   "id": "fcffe87e",
   "metadata": {
    "tags": []
   },
   "outputs": [],
   "source": [
    "data.head()"
   ]
  },
  {
   "cell_type": "code",
   "execution_count": null,
   "id": "8eda7365",
   "metadata": {
    "tags": [
     "skip"
    ]
   },
   "outputs": [],
   "source": [
    "data.describe()"
   ]
  },
  {
   "cell_type": "code",
   "execution_count": null,
   "id": "8c69bce1",
   "metadata": {
    "tags": [
     "skip"
    ]
   },
   "outputs": [],
   "source": [
    "data.info()"
   ]
  },
  {
   "cell_type": "code",
   "execution_count": null,
   "id": "5dac0388",
   "metadata": {
    "tags": []
   },
   "outputs": [],
   "source": [
    "data_train, data_test = train_test_split(data, test_size=0.2, shuffle=True, stratify=data.loc[:,'counterfeit'], random_state=seed)"
   ]
  },
  {
   "cell_type": "code",
   "execution_count": null,
   "id": "9bac6c89",
   "metadata": {
    "tags": []
   },
   "outputs": [],
   "source": [
    "lbls_train = data_train['counterfeit']"
   ]
  },
  {
   "cell_type": "code",
   "execution_count": null,
   "id": "6cd76a93",
   "metadata": {
    "tags": []
   },
   "outputs": [],
   "source": [
    "fig, ax = plt.subplots(1,4, figsize=(22,5))\n",
    "for i in range(4):\n",
    "    ax[i].hist(data_train[lbls_train==0].iloc[:,i], bins=32, histtype='step', color='blue')\n",
    "    ax[i].hist(data_train[lbls_train==1].iloc[:,i], bins=32, histtype='step', color='red')\n",
    "    ax[i].hist(data_train[lbls_train==0].iloc[:,i], bins=32, histtype='bar', color='lightblue', alpha=0.25)\n",
    "    ax[i].hist(data_train[lbls_train==1].iloc[:,i], bins=32, histtype='bar', color='orange', alpha =0.25)"
   ]
  },
  {
   "cell_type": "markdown",
   "id": "f98b1baa",
   "metadata": {
    "tags": []
   },
   "source": [
    "You will have to install a popular plotting library `seaborn`"
   ]
  },
  {
   "cell_type": "code",
   "execution_count": null,
   "id": "8a597854",
   "metadata": {
    "tags": []
   },
   "outputs": [],
   "source": [
    "import seaborn"
   ]
  },
  {
   "cell_type": "code",
   "execution_count": null,
   "id": "fd256cc2",
   "metadata": {
    "tags": []
   },
   "outputs": [],
   "source": [
    "seaborn.pairplot(data_train.iloc[:,0:5], hue='counterfeit');"
   ]
  },
  {
   "cell_type": "code",
   "execution_count": null,
   "id": "1e67fa8f",
   "metadata": {
    "tags": []
   },
   "outputs": [],
   "source": [
    "len(data_train)"
   ]
  },
  {
   "cell_type": "markdown",
   "id": "1c344d19",
   "metadata": {},
   "source": [
    "## Problem 1"
   ]
  },
  {
   "cell_type": "markdown",
   "id": "af6a8f3d",
   "metadata": {},
   "source": [
    "Implement Gaussian  Bayes classifier using only one feature. Which feature will you choose? Calculate the confusion matrix (normalized as to show rates), ROC AUC score and plot ROC curve. Do this bot for training and validation set. Plot both curves on the same plot. Save everything using `scrapbook`. "
   ]
  },
  {
   "cell_type": "markdown",
   "id": "4170a0f3",
   "metadata": {},
   "source": [
    "__Hint__ For calculating metrics and plotting ROC curves you may use functions from scikit-learn: `roc_curve`, `roc_auc_score` and `confusion matrix`. For estimating normal distribution parameters  use `norm.fit` `from scipy.stats`. Use `norm.pdf` for normal probability density function."
   ]
  },
  {
   "cell_type": "code",
   "execution_count": null,
   "id": "d858939d",
   "metadata": {},
   "outputs": [],
   "source": [
    "from sklearn.metrics import roc_auc_score, roc_curve, confusion_matrix"
   ]
  },
  {
   "cell_type": "markdown",
   "id": "a22d58df",
   "metadata": {},
   "source": [
    "## Problem 2"
   ]
  },
  {
   "cell_type": "markdown",
   "id": "95db006e",
   "metadata": {},
   "source": [
    "Same as Problem 1 but now implement Gaussian Naive Bayes using two features. Compare ROC curves on the test set. What is teh improvement of AUC score on the test set?"
   ]
  },
  {
   "cell_type": "markdown",
   "id": "2b353b9b",
   "metadata": {},
   "source": [
    "## Problem 3"
   ]
  },
  {
   "cell_type": "markdown",
   "id": "8d2a6c28",
   "metadata": {},
   "source": [
    "Same as Problem 2 but now implement Gaussian Naive Bayes using all features."
   ]
  }
 ],
 "metadata": {
  "kernelspec": {
   "display_name": "Python 3 (ipykernel)",
   "language": "python",
   "name": "python3"
  }
 },
 "nbformat": 4,
 "nbformat_minor": 5
}
