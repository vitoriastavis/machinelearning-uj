{
 "cells": [
  {
   "cell_type": "markdown",
   "id": "a2ffbb3c",
   "metadata": {},
   "source": [
    "# Counterfeit detection"
   ]
  },
  {
   "cell_type": "markdown",
   "id": "e9653277",
   "metadata": {},
   "source": [
    "The task in this assignment is to detect the  counterfeit banknotes. The data set is based on [banknote authentication Data Set ](https://archive.ics.uci.edu/ml/datasets/banknote+authentication#) from UCI Machine Learning repository.  You have already used this set but this time I have removed  the first column. The set  `banknote_authentication.csv` can be found in the `data`  directory."
   ]
  },
  {
   "cell_type": "code",
   "execution_count": 1,
   "id": "f74d6c16",
   "metadata": {},
   "outputs": [],
   "source": [
    "import pandas as pd\n",
    "import numpy as np\n",
    "import matplotlib.pyplot as plt\n",
    "import scipy.stats as st\n",
    "import scrapbook as sb"
   ]
  },
  {
   "cell_type": "markdown",
   "id": "d3471f56",
   "metadata": {
    "tags": [
     "skip"
    ]
   },
   "source": [
    "You will have to install a popular plotting library `seaborn`"
   ]
  },
  {
   "cell_type": "code",
   "execution_count": 2,
   "id": "b8c2f8d9",
   "metadata": {},
   "outputs": [],
   "source": [
    "data = pd.read_csv('data/banknote_authentication.csv')"
   ]
  },
  {
   "cell_type": "code",
   "execution_count": 3,
   "id": "cdac194d",
   "metadata": {},
   "outputs": [
    {
     "data": {
      "text/html": [
       "<div>\n",
       "<style scoped>\n",
       "    .dataframe tbody tr th:only-of-type {\n",
       "        vertical-align: middle;\n",
       "    }\n",
       "\n",
       "    .dataframe tbody tr th {\n",
       "        vertical-align: top;\n",
       "    }\n",
       "\n",
       "    .dataframe thead th {\n",
       "        text-align: right;\n",
       "    }\n",
       "</style>\n",
       "<table border=\"1\" class=\"dataframe\">\n",
       "  <thead>\n",
       "    <tr style=\"text-align: right;\">\n",
       "      <th></th>\n",
       "      <th>a1</th>\n",
       "      <th>a2</th>\n",
       "      <th>a3</th>\n",
       "      <th>counterfeit</th>\n",
       "    </tr>\n",
       "  </thead>\n",
       "  <tbody>\n",
       "    <tr>\n",
       "      <th>0</th>\n",
       "      <td>12.3784</td>\n",
       "      <td>0.70403</td>\n",
       "      <td>-7.58360</td>\n",
       "      <td>0</td>\n",
       "    </tr>\n",
       "    <tr>\n",
       "      <th>1</th>\n",
       "      <td>8.1881</td>\n",
       "      <td>-3.13380</td>\n",
       "      <td>-2.52760</td>\n",
       "      <td>0</td>\n",
       "    </tr>\n",
       "    <tr>\n",
       "      <th>2</th>\n",
       "      <td>-10.8679</td>\n",
       "      <td>9.49260</td>\n",
       "      <td>-1.41160</td>\n",
       "      <td>1</td>\n",
       "    </tr>\n",
       "    <tr>\n",
       "      <th>3</th>\n",
       "      <td>-8.7903</td>\n",
       "      <td>7.97350</td>\n",
       "      <td>-0.45475</td>\n",
       "      <td>1</td>\n",
       "    </tr>\n",
       "    <tr>\n",
       "      <th>4</th>\n",
       "      <td>-5.5167</td>\n",
       "      <td>10.93900</td>\n",
       "      <td>-0.40820</td>\n",
       "      <td>1</td>\n",
       "    </tr>\n",
       "  </tbody>\n",
       "</table>\n",
       "</div>"
      ],
      "text/plain": [
       "        a1        a2       a3  counterfeit\n",
       "0  12.3784   0.70403 -7.58360            0\n",
       "1   8.1881  -3.13380 -2.52760            0\n",
       "2 -10.8679   9.49260 -1.41160            1\n",
       "3  -8.7903   7.97350 -0.45475            1\n",
       "4  -5.5167  10.93900 -0.40820            1"
      ]
     },
     "execution_count": 3,
     "metadata": {},
     "output_type": "execute_result"
    }
   ],
   "source": [
    "data.head()"
   ]
  },
  {
   "cell_type": "markdown",
   "id": "05f59ef9",
   "metadata": {},
   "source": [
    "## Problem "
   ]
  },
  {
   "cell_type": "markdown",
   "id": "e0f98dd8",
   "metadata": {},
   "source": [
    "### A."
   ]
  },
  {
   "cell_type": "markdown",
   "id": "e2162c2c",
   "metadata": {},
   "source": [
    "Perform the Quadratic Discriminant Analysis on this set. Calculate the confusion matrix, AUC score and plot the ROC curve. Please use `scrapbook` to store your results. "
   ]
  },
  {
   "cell_type": "code",
   "execution_count": 4,
   "id": "d9981d10-56c7-4d57-a138-07a857bb6579",
   "metadata": {},
   "outputs": [],
   "source": [
    "import sys\n",
    "sys.path.append(\"../\") #need to add main repo directory to the system path used for searching packages\n",
    "from mchlearn.plotting import confidence_ellipse"
   ]
  },
  {
   "cell_type": "code",
   "execution_count": 5,
   "id": "ff18a061-39e7-4796-bc1e-ee2f60e31817",
   "metadata": {},
   "outputs": [],
   "source": [
    "from sklearn.model_selection import train_test_split\n",
    "seed = 5555\n",
    "train_data, test_data  = train_test_split(data,test_size=0.3, random_state=seed)"
   ]
  },
  {
   "cell_type": "code",
   "execution_count": 6,
   "id": "09cfe8a3-4e02-4c08-bbd0-2bbfd5d4cdca",
   "metadata": {},
   "outputs": [],
   "source": [
    "x_train = train_data[['a1', 'a2', 'a3']]\n",
    "x_test = test_data[['a1', 'a2', 'a3']]\n",
    "y_train = train_data['counterfeit']\n",
    "y_test = test_data['counterfeit']"
   ]
  },
  {
   "cell_type": "code",
   "execution_count": 7,
   "id": "670be34d-6b06-4d10-aa62-41b924f130c8",
   "metadata": {},
   "outputs": [],
   "source": [
    "from sklearn.discriminant_analysis import QuadraticDiscriminantAnalysis \n",
    "\n",
    "clf = QuadraticDiscriminantAnalysis()\n"
   ]
  },
  {
   "cell_type": "code",
   "execution_count": 8,
   "id": "dba215ef-3e90-4c90-bd76-6e9b0d0d1fc1",
   "metadata": {},
   "outputs": [],
   "source": [
    "clf.fit(x_train, y_train)\n",
    "\n",
    "probs = clf.predict_proba(x_test)\n",
    "y_pred = (probs[:,1] > 0.5).astype(int)"
   ]
  },
  {
   "cell_type": "code",
   "execution_count": 9,
   "id": "d5aea7c9-2c99-454c-9629-120f84ad4ccd",
   "metadata": {},
   "outputs": [],
   "source": [
    "from sklearn.metrics import confusion_matrix\n",
    "from sklearn.metrics import precision_score\n",
    "from sklearn.metrics import f1_score\n",
    "from sklearn.metrics import roc_curve\n",
    "from sklearn.metrics import roc_auc_score\n",
    "\n",
    "cm = confusion_matrix(y_test, y_pred, normalize='true')\n",
    "\n",
    "tn, fp, fn, tp = cm.ravel()\n",
    "\n",
    "tnr = tn/(tn+fp)\n",
    "fpr = fp/(fp+tn)\n",
    "fnr = fn/(fn+tp)\n",
    "tpr = tp/(tp+fn)\n",
    "\n",
    "precision = precision_score(y_test, y_pred, average='weighted')\n",
    "f1 = f1_score(y_test, y_pred, average='weighted')\n",
    "fprs, tprs, thds = roc_curve(y_test, probs[:,1])\n",
    "auc = roc_auc_score(y_test, probs[:,1], multi_class = 'ovr')"
   ]
  },
  {
   "cell_type": "code",
   "execution_count": 10,
   "id": "3c54290d-3c05-4963-84ad-9df227bc5c6f",
   "metadata": {},
   "outputs": [
    {
     "name": "stdout",
     "output_type": "stream",
     "text": [
      "TNR: 0.8156424581005587\n",
      "FPR: 0.18435754189944134\n",
      "FNR: 0.17880794701986755\n",
      "TPR: 0.8211920529801324\n",
      "precision: 0.8191658494298308\n",
      "f1: 0.8184031877213696\n",
      "auc: 0.9014391949387695\n"
     ]
    }
   ],
   "source": [
    "print(\"TNR:\", tnr)\n",
    "print(\"FPR:\", fpr)\n",
    "print(\"FNR:\", fnr)\n",
    "print(\"TPR:\", tpr)\n",
    "print(\"precision:\", precision)\n",
    "print(\"f1:\", f1)\n",
    "print(\"auc:\", auc)"
   ]
  },
  {
   "cell_type": "code",
   "execution_count": 11,
   "id": "483077db",
   "metadata": {},
   "outputs": [
    {
     "data": {
      "application/scrapbook.scrap.json+json": {
       "data": [
        "tnr",
        "fpr",
        "fnr",
        "tpr",
        "precision",
        "f1",
        "auc"
       ],
       "encoder": "json",
       "name": "A_scores",
       "version": 1
      }
     },
     "metadata": {
      "scrapbook": {
       "data": true,
       "display": false,
       "name": "A_scores"
      }
     },
     "output_type": "display_data"
    },
    {
     "data": {
      "text/plain": [
       "['tnr', 'fpr', 'fnr', 'tpr', 'precision', 'f1', 'auc']"
      ]
     },
     "metadata": {
      "scrapbook": {
       "data": false,
       "display": true,
       "name": "A_scores"
      }
     },
     "output_type": "display_data"
    }
   ],
   "source": [
    "sb.glue('A_scores',['tnr', 'fpr', 'fnr', 'tpr', 'precision', 'f1', 'auc'], display=True)"
   ]
  },
  {
   "cell_type": "markdown",
   "id": "ece93af3",
   "metadata": {},
   "source": [
    "also please save the ROC plot"
   ]
  },
  {
   "cell_type": "code",
   "execution_count": 12,
   "id": "e8aedb0c-d590-4263-876a-1dae5b9346c4",
   "metadata": {},
   "outputs": [],
   "source": [
    "auc_a = auc\n",
    "tprs_a = tprs\n",
    "fprs_a = fprs\n",
    "tpr_a = tpr\n",
    "fpr_a = fpr"
   ]
  },
  {
   "cell_type": "code",
   "execution_count": 13,
   "id": "6b0eea95",
   "metadata": {},
   "outputs": [
    {
     "data": {
      "image/png": "[encoded data removed]",
      "text/plain": [
       "<Figure size 640x480 with 1 Axes>"
      ]
     },
     "metadata": {},
     "output_type": "display_data"
    }
   ],
   "source": [
    "fig, ax = plt.subplots()\n",
    "ax.set_xlabel('FPR');\n",
    "ax.set_ylabel('TPR');\n",
    "ax.set_title('ROC')\n",
    "ax.plot([0,1],[0,1]);\n",
    "\n",
    "roc = ax.plot(fprs_a,tprs_a, color='blue', linewidth=1);\n",
    "\n",
    "ax.scatter([fpr_a],[tpr_a],s = 30, edgecolor='blue', zorder=5, facecolor='blue');\n",
    "ax.text(0.7, 0.8, \"AUC = {:4.2f}\".format(auc), fontsize=12);\n",
    "\n",
    "sb.glue('A_ROC',fig, \"display\", display=False);\n"
   ]
  },
  {
   "cell_type": "markdown",
   "id": "d568f1b2",
   "metadata": {},
   "source": [
    "### B."
   ]
  },
  {
   "cell_type": "markdown",
   "id": "18f58da5",
   "metadata": {},
   "source": [
    "Perform Gaussian Mixture Discriminant Analysis on this set as described in the `gaussian_mixture_model_EM_algorithm` notebook. Use two components for positives and two components for negatives. Calculate the confusion matrix, AUC score and plot the ROC curve. "
   ]
  },
  {
   "cell_type": "code",
   "execution_count": 14,
   "id": "1139c9ee-aaa7-4a2b-bb4b-491755410425",
   "metadata": {},
   "outputs": [],
   "source": [
    "from sklearn.mixture import GaussianMixture"
   ]
  },
  {
   "cell_type": "code",
   "execution_count": 15,
   "id": "50a98749-26b5-41f1-8550-5860995a9c17",
   "metadata": {},
   "outputs": [],
   "source": [
    "cf_gm = GaussianMixture(n_components=2, max_iter=100, tol=0.0001) \n",
    "ncf_gm = GaussianMixture(n_components=2, max_iter=100, tol=0.0001) "
   ]
  },
  {
   "cell_type": "code",
   "execution_count": 16,
   "id": "16289bc9-66c6-4127-a5e6-3e2482aeb0f6",
   "metadata": {},
   "outputs": [],
   "source": [
    "cf = x_train[y_train == 1]\n",
    "ncf = x_train[y_train == 0]"
   ]
  },
  {
   "cell_type": "code",
   "execution_count": 17,
   "id": "64dfdee4-1515-4a7b-85d8-d66a20300e50",
   "metadata": {},
   "outputs": [
    {
     "data": {
      "text/plain": [
       "GaussianMixture(n_components=2, tol=0.0001)"
      ]
     },
     "execution_count": 17,
     "metadata": {},
     "output_type": "execute_result"
    }
   ],
   "source": [
    "cf_gm.fit(cf)\n",
    "ncf_gm.fit(ncf)"
   ]
  },
  {
   "cell_type": "code",
   "execution_count": 18,
   "id": "2e9d8b43-9449-49ea-9905-c2bc6b519879",
   "metadata": {},
   "outputs": [
    {
     "name": "stdout",
     "output_type": "stream",
     "text": [
      "[0.67756665 0.32243335]\n",
      "[[ 2.17975689 -0.87032413 -1.66378601]\n",
      " [-7.80964288  8.73456042 -0.30807095]]\n",
      "[[[ 6.53182179 -1.89624398 -4.72696529]\n",
      "  [-1.89624398  4.13225188  1.50377786]\n",
      "  [-4.72696529  1.50377786  4.58811762]]\n",
      "\n",
      " [[ 7.44910343 -8.24307961  2.49271776]\n",
      "  [-8.24307961 13.82973202 -3.24001482]\n",
      "  [ 2.49271776 -3.24001482  1.48327238]]]\n"
     ]
    }
   ],
   "source": [
    "print(cf_gm.weights_)  #pi\n",
    "print(cf_gm.means_)    #mu\n",
    "print(cf_gm.covariances_) #Sigma (covariance) matrices"
   ]
  },
  {
   "cell_type": "code",
   "execution_count": 19,
   "id": "ecdd38eb-300f-4a74-ae2d-2c675defd54d",
   "metadata": {},
   "outputs": [],
   "source": [
    "def make_pdf(cmp):\n",
    "    \"\"\"\n",
    "    Takes a GaussianMixture object and returns corresponding\n",
    "    probability distribution function\n",
    "    \"\"\"\n",
    "    n_cmp = cmp.n_components\n",
    "    dists = [st.multivariate_normal(cmp.means_[i], cmp.covariances_[i]) for i in range(n_cmp)]\n",
    "    def pdf(x):\n",
    "        p = 0.0\n",
    "        for i in range(n_cmp):\n",
    "            p+= cmp.weights_[i]*dists[i].pdf(x)\n",
    "        return p\n",
    "    \n",
    "    return pdf\n",
    "    \n",
    "    \n",
    "def make_predict_proba(cmp0, cmp1, pi0=0.5, pi1=.5):\n",
    "    \"\"\"\n",
    "    Takes two GaussianMixture object and corresponding priors and returns \n",
    "    pdf for conditional probability P(c=1|x)\n",
    "    \"\"\"\n",
    "    pdf0 = make_pdf(cmp0)\n",
    "    pdf1 = make_pdf(cmp1)\n",
    "    def p(x):\n",
    "        p0=pi0*pdf0(x)\n",
    "        p1=pi1*pdf1(x)\n",
    "        return p1/(p1+p0)    \n",
    "        \n",
    "    return p\n",
    "        "
   ]
  },
  {
   "cell_type": "code",
   "execution_count": 20,
   "id": "a9845016-995c-4cb0-9de7-bdccebb002f5",
   "metadata": {},
   "outputs": [],
   "source": [
    "mgd_predict_proba = make_predict_proba(ncf_gm, cf_gm, 0.5, 0.5)"
   ]
  },
  {
   "cell_type": "code",
   "execution_count": 21,
   "id": "ab47b691-848d-4d81-9e45-55da3dbb9b01",
   "metadata": {},
   "outputs": [],
   "source": [
    "mgd_proba = mgd_predict_proba(x_test)"
   ]
  },
  {
   "cell_type": "code",
   "execution_count": 22,
   "id": "8eb47f1d-6d7b-410c-a0ba-720134076b2e",
   "metadata": {},
   "outputs": [],
   "source": [
    "cm_gm = confusion_matrix(y_test, mgd_proba>0.5, normalize='true')"
   ]
  },
  {
   "cell_type": "code",
   "execution_count": 23,
   "id": "ee444e3d-a5ca-4b24-b261-4f9351bf8e7b",
   "metadata": {},
   "outputs": [],
   "source": [
    "tn, fp, fn, tp = cm_gm.ravel()\n",
    "\n",
    "tnr = tn/(tn+fp)\n",
    "fpr = fp/(fp+tn)\n",
    "fnr = fn/(fn+tp)\n",
    "tpr = tp/(tp+fn)\n",
    "\n",
    "precision = precision_score(y_test, y_pred, average='weighted')\n",
    "f1 = f1_score(y_test, y_pred, average='weighted')\n",
    "fprs, tprs, thds = roc_curve(y_test, mgd_proba)\n",
    "auc = roc_auc_score(y_test, mgd_proba, multi_class = 'ovr')"
   ]
  },
  {
   "cell_type": "code",
   "execution_count": 24,
   "id": "cbb4989d-7424-43b8-b856-c4e64c698050",
   "metadata": {},
   "outputs": [
    {
     "name": "stdout",
     "output_type": "stream",
     "text": [
      "TNR: 0.9329608938547486\n",
      "FPR: 0.0670391061452514\n",
      "FNR: 0.1456953642384106\n",
      "TPR: 0.8543046357615894\n",
      "precision: 0.8191658494298308\n",
      "f1: 0.8184031877213696\n",
      "auc: 0.9663694550297828\n"
     ]
    }
   ],
   "source": [
    "print(\"TNR:\", tnr)\n",
    "print(\"FPR:\", fpr)\n",
    "print(\"FNR:\", fnr)\n",
    "print(\"TPR:\", tpr)\n",
    "print(\"precision:\", precision)\n",
    "print(\"f1:\", f1)\n",
    "print(\"auc:\", auc)"
   ]
  },
  {
   "cell_type": "code",
   "execution_count": 25,
   "id": "98515c9d",
   "metadata": {},
   "outputs": [
    {
     "data": {
      "application/scrapbook.scrap.json+json": {
       "data": [
        "tnr",
        "fpr",
        "fnr",
        "tpr",
        "precision",
        "f1",
        "auc"
       ],
       "encoder": "json",
       "name": "B_scores",
       "version": 1
      }
     },
     "metadata": {
      "scrapbook": {
       "data": true,
       "display": false,
       "name": "B_scores"
      }
     },
     "output_type": "display_data"
    },
    {
     "data": {
      "text/plain": [
       "['tnr', 'fpr', 'fnr', 'tpr', 'precision', 'f1', 'auc']"
      ]
     },
     "metadata": {
      "scrapbook": {
       "data": false,
       "display": true,
       "name": "B_scores"
      }
     },
     "output_type": "display_data"
    }
   ],
   "source": [
    "sb.glue('B_scores',['tnr', 'fpr', 'fnr', 'tpr', 'precision', 'f1', 'auc'], display=True)"
   ]
  },
  {
   "cell_type": "markdown",
   "id": "5d10ec42",
   "metadata": {},
   "source": [
    "also please save the ROC plot"
   ]
  },
  {
   "cell_type": "code",
   "execution_count": 26,
   "id": "6fbbcebf-5ccd-4596-972f-4703b06f919d",
   "metadata": {},
   "outputs": [],
   "source": [
    "auc_b = auc\n",
    "fpr_b = fpr\n",
    "tpr_b = tpr\n",
    "fprs_b = fprs\n",
    "tprs_b = tprs"
   ]
  },
  {
   "cell_type": "code",
   "execution_count": 27,
   "id": "24b9d281",
   "metadata": {},
   "outputs": [
    {
     "data": {
      "image/png": "[encoded data removed]",
      "text/plain": [
       "<Figure size 640x480 with 1 Axes>"
      ]
     },
     "metadata": {},
     "output_type": "display_data"
    }
   ],
   "source": [
    "fig, ax = plt.subplots()\n",
    "ax.set_xlabel('FPR');\n",
    "ax.set_ylabel('TPR');\n",
    "ax.set_title('ROC')\n",
    "ax.plot([0,1],[0,1]);\n",
    "\n",
    "ax.plot(fprs_b,tprs_b, color='orange', linewidth=1);\n",
    "ax.scatter([fpr_b],[tpr_b],s = 30, edgecolor='orange', zorder=5, facecolor='orange');\n",
    "\n",
    "ax.plot(fprs_a,tprs_a, color='blue', linewidth=1);\n",
    "ax.scatter([fpr_a],[tpr_a],s = 30, edgecolor='blue', zorder=5, facecolor='blue');\n",
    "\n",
    "ax.text(0.7, 0.4, \"AUC A = {:4.2f}\\nAUC B = {:4.2f}\".format(auc_a, auc_b), fontsize=12);\n",
    "\n",
    "sb.glue('B_ROC',fig, \"display\", display=False);"
   ]
  },
  {
   "cell_type": "markdown",
   "id": "9125fbeb",
   "metadata": {},
   "source": [
    "### C."
   ]
  },
  {
   "cell_type": "markdown",
   "id": "5d504c1d",
   "metadata": {},
   "source": [
    "Use k-fold cross validation to find the optimal number of gaussian components for each class. As before calculate the confusion matrix, AUC score and plot the ROC curve for the best classifier. Assume that maximal number of components in each class is 12.  "
   ]
  },
  {
   "cell_type": "markdown",
   "id": "d1fead74",
   "metadata": {},
   "source": [
    "__Hint__ use the `StratifiedKFold` function from scikit-learn library to generate folds. "
   ]
  },
  {
   "cell_type": "code",
   "execution_count": 28,
   "id": "5b52247b-c204-4235-87e2-55ef486023b5",
   "metadata": {},
   "outputs": [],
   "source": [
    "from sklearn.model_selection import StratifiedKFold\n",
    "from sklearn.metrics import accuracy_score\n",
    "from sklearn.metrics import f1_score"
   ]
  },
  {
   "cell_type": "code",
   "execution_count": 29,
   "id": "09cdbfe1-0334-4f69-a5f8-3fa558a67f30",
   "metadata": {},
   "outputs": [],
   "source": [
    "X = data[['a1', 'a2', 'a3']].values\n",
    "y = data['counterfeit'].values\n",
    "skf = StratifiedKFold(n_splits=6)\n",
    "splits = skf.get_n_splits(X, y)"
   ]
  },
  {
   "cell_type": "code",
   "execution_count": 31,
   "id": "1add6791-9f65-41fc-a668-2000fcd37fd7",
   "metadata": {},
   "outputs": [
    {
     "name": "stdout",
     "output_type": "stream",
     "text": [
      "{0: 1, 1: 2}\n"
     ]
    }
   ],
   "source": [
    "max_comp = 12\n",
    "# store the best number of components for each class\n",
    "best_n_comp = {}  \n",
    "\n",
    "for label in np.unique(y):\n",
    "    \n",
    "    best_f1 = 0.0  \n",
    "    best_n = None  \n",
    "    \n",
    "    for n_comp in range(1, max_comp+1):\n",
    "        # f1 scores for each fold\n",
    "        f1_scores = []  \n",
    "        \n",
    "        for train_index, test_index in skf.split(X, y):\n",
    "            \n",
    "            #print(train_index, test_index)\n",
    "            X_train, X_test = X[train_index], X[test_index]\n",
    "            y_train, y_test = y[train_index], y[test_index]\n",
    "            \n",
    "            # fit gm\n",
    "            gmm = GaussianMixture(n_components = n_comp)\n",
    "            gmm.fit(X_train[y_train == label]) \n",
    "                       \n",
    "            y_pred = gmm.predict(X_test)\n",
    "           \n",
    "            f1score = f1_score(y_test[y_test == label], y_pred[y_test == label], average='weighted')\n",
    "            f1_scores.append(f1score)\n",
    "          \n",
    "        # average accuracy for this number of comp\n",
    "        avg_f1 = np.mean(f1_scores)\n",
    "        \n",
    "        # check accuracy\n",
    "        if avg_f1 > best_f1:\n",
    "            best_f1 = avg_f1\n",
    "            best_n = n_comp\n",
    "            \n",
    "        # reach max n of components\n",
    "        if n_comp >= max_comp:\n",
    "            break  \n",
    "    \n",
    "    best_n_comp[label] = best_n  # Store the best number of components for the class\n",
    "\n",
    "print(best_n_comp)\n"
   ]
  },
  {
   "cell_type": "code",
   "execution_count": 35,
   "id": "78d0e9cb-ef84-4a30-bbda-684aeb8990df",
   "metadata": {},
   "outputs": [],
   "source": [
    "# save results\n",
    "n_cpm_neg = best_n_comp[0]  \n",
    "n_cpm_pos = best_n_comp[1]\n",
    "best_f1_score = best_f1"
   ]
  },
  {
   "cell_type": "code",
   "execution_count": 36,
   "id": "6cb1bb65",
   "metadata": {},
   "outputs": [
    {
     "data": {
      "application/scrapbook.scrap.json+json": {
       "data": [
        "n_cmp_pos",
        "n_cmp_neg",
        "best_f1_score"
       ],
       "encoder": "json",
       "name": "C_n_cmp",
       "version": 1
      }
     },
     "metadata": {
      "scrapbook": {
       "data": true,
       "display": false,
       "name": "C_n_cmp"
      }
     },
     "output_type": "display_data"
    }
   ],
   "source": [
    "#  store the results of the best fit \n",
    "sb.glue(\"C_n_cmp\",['n_cmp_pos', 'n_cmp_neg', 'best_f1_score'])"
   ]
  },
  {
   "cell_type": "code",
   "execution_count": 37,
   "id": "5861f838-6f40-4efc-9dda-ae85d91a9bfd",
   "metadata": {},
   "outputs": [
    {
     "data": {
      "text/plain": [
       "GaussianMixture(n_components=2)"
      ]
     },
     "execution_count": 37,
     "metadata": {},
     "output_type": "execute_result"
    }
   ],
   "source": [
    "from sklearn.mixture import GaussianMixture\n",
    "\n",
    "gmm_ncf = GaussianMixture(n_components = n_cpm_neg)\n",
    "gmm_cf = GaussianMixture(n_components = n_cpm_pos)\n",
    "\n",
    "gmm_ncf.fit(X_train[y_train == 0])\n",
    "gmm_cf.fit(X_train[y_train == 1])"
   ]
  },
  {
   "cell_type": "code",
   "execution_count": 64,
   "id": "5f2f6a30-2137-40ff-bc61-656b41a89a6b",
   "metadata": {},
   "outputs": [],
   "source": [
    "y_pred_ncf = gmm_ncf.predict_proba(X_test)\n",
    "y_pred_cf = gmm_cf.predict_proba(X_test)"
   ]
  },
  {
   "cell_type": "code",
   "execution_count": 70,
   "id": "397bce15-c2e8-4187-b55a-b52d88da2e90",
   "metadata": {},
   "outputs": [],
   "source": [
    "cm_kf = confusion_matrix(y_test, y_pred_cf[:,1]>0.5, normalize='true')"
   ]
  },
  {
   "cell_type": "markdown",
   "id": "f9b8cdc6",
   "metadata": {},
   "source": [
    "Store the results for the best estimator"
   ]
  },
  {
   "cell_type": "code",
   "execution_count": 79,
   "id": "45ebf342-d6dc-4092-87a8-4760b634e0b4",
   "metadata": {},
   "outputs": [],
   "source": [
    "tn, fp, fn, tp = cm_kf.ravel()\n",
    "\n",
    "tnr = tn/(tn+fp)\n",
    "fpr = fp/(fp+tn)\n",
    "fnr = fn/(fn+tp)\n",
    "tpr = tp/(tp+fn)\n",
    "\n",
    "precision = precision_score(y_test, y_pred_cf[:,1]>0.5, average='weighted')\n",
    "f1 = f1_score(y_test, y_pred_cf[:,1]>0.5, average='weighted')\n",
    "fprs, tprs, thds = roc_curve(y_test, y_pred_cf[:,1])\n",
    "auc = roc_auc_score(y_test, y_pred_cf[:,1]>0.5, multi_class = 'ovr')"
   ]
  },
  {
   "cell_type": "code",
   "execution_count": 80,
   "id": "54f31b55-22da-47fc-bd6f-539ee96462ff",
   "metadata": {},
   "outputs": [
    {
     "name": "stdout",
     "output_type": "stream",
     "text": [
      "TNR: 0.801980198019802\n",
      "FPR: 0.19801980198019803\n",
      "FNR: 0.7037037037037037\n",
      "TPR: 0.2962962962962963\n",
      "precision: 0.5684858619641229\n",
      "f1: 0.5470563244287093\n",
      "auc: 0.5491382471580492\n"
     ]
    }
   ],
   "source": [
    "print(\"TNR:\", tnr)\n",
    "print(\"FPR:\", fpr)\n",
    "print(\"FNR:\", fnr)\n",
    "print(\"TPR:\", tpr)\n",
    "print(\"precision:\", precision)\n",
    "print(\"f1:\", f1)\n",
    "print(\"auc:\", auc)"
   ]
  },
  {
   "cell_type": "code",
   "execution_count": 81,
   "id": "9964b5c5",
   "metadata": {},
   "outputs": [
    {
     "data": {
      "application/scrapbook.scrap.json+json": {
       "data": [
        "tnr",
        "fpr",
        "fnr",
        "tpr",
        "precision",
        "f1",
        "auc"
       ],
       "encoder": "json",
       "name": "C_scores",
       "version": 1
      }
     },
     "metadata": {
      "scrapbook": {
       "data": true,
       "display": false,
       "name": "C_scores"
      }
     },
     "output_type": "display_data"
    },
    {
     "data": {
      "text/plain": [
       "['tnr', 'fpr', 'fnr', 'tpr', 'precision', 'f1', 'auc']"
      ]
     },
     "metadata": {
      "scrapbook": {
       "data": false,
       "display": true,
       "name": "C_scores"
      }
     },
     "output_type": "display_data"
    }
   ],
   "source": [
    "sb.glue('C_scores',['tnr', 'fpr', 'fnr', 'tpr', 'precision', 'f1', 'auc'], display=True)"
   ]
  },
  {
   "cell_type": "markdown",
   "id": "c99dd7a4",
   "metadata": {},
   "source": [
    "also please save the ROC plot"
   ]
  },
  {
   "cell_type": "code",
   "execution_count": 82,
   "id": "06bbe03a-4ca5-4bde-bff5-1cf523b469ad",
   "metadata": {},
   "outputs": [],
   "source": [
    "auc_c = auc\n",
    "fpr_c = fpr\n",
    "tpr_c = tpr\n",
    "fprs_c = fprs\n",
    "tprs_c = tprs"
   ]
  },
  {
   "cell_type": "code",
   "execution_count": 83,
   "id": "ff862546",
   "metadata": {},
   "outputs": [
    {
     "data": {
      "image/png": "[encoded data removed]",
      "text/plain": [
       "<Figure size 640x480 with 1 Axes>"
      ]
     },
     "metadata": {},
     "output_type": "display_data"
    }
   ],
   "source": [
    "fig, ax = plt.subplots()\n",
    "ax.set_xlabel('FPR');\n",
    "ax.set_ylabel('TPR');\n",
    "ax.set_title('ROC')\n",
    "ax.plot([0,1],[0,1]);\n",
    "\n",
    "ax.plot(fprs_b,tprs_b, color='orange', linewidth=1);\n",
    "ax.scatter([fpr_b],[tpr_b],s = 30, edgecolor='orange', zorder=5, facecolor='orange');\n",
    "\n",
    "ax.plot(fprs_a,tprs_a, color='blue', linewidth=1);\n",
    "ax.scatter([fpr_a],[tpr_a],s = 30, edgecolor='blue', zorder=5, facecolor='blue');\n",
    "\n",
    "ax.plot(fprs_c,tprs_c, color='green', linewidth=1);\n",
    "ax.scatter([fpr_c],[tpr_c],s = 30, edgecolor='green', zorder=5, facecolor='green');\n",
    "\n",
    "ax.text(0.7, 0.4, \"AUC A = {:4.2f}\\nAUC B = {:4.2f}\\nAUC C = {:4.2f}\".format(auc_a, auc_b, auc_c), fontsize=12);\n",
    "\n",
    "sb.glue('C_ROC',fig, \"display\", display=False);"
   ]
  },
  {
   "cell_type": "markdown",
   "id": "90b1fd33",
   "metadata": {},
   "source": [
    "## D.  "
   ]
  },
  {
   "cell_type": "markdown",
   "id": "5d174cb3",
   "metadata": {},
   "source": [
    "Assume that 1% of all the customers in your store try to pay with a counterfeit 100PLN bill. If you accept the counterfeit bill you loose 100PLN. If you reject a valid bill,  you may loose the purchase, you estimate this loss as 15PLN on average. For each of the three classifiers find the threshold that minimises your losses and calculates the minimum loss for each classifier. Show the optimal classifiers points on the ROC curves."
   ]
  },
  {
   "cell_type": "code",
   "execution_count": null,
   "id": "9e48b188",
   "metadata": {},
   "outputs": [],
   "source": [
    "sb.glue('D_A_scores',['tnr', 'fpr', 'fnr', 'tpr', 'precision', 'f1', 'auc', 'min_loss', 'threshold'], display=True)"
   ]
  },
  {
   "cell_type": "code",
   "execution_count": null,
   "id": "6bd0e54e",
   "metadata": {},
   "outputs": [],
   "source": [
    "sb.glue('D_B_scores',['tnr', 'fpr', 'fnr', 'tpr', 'precision', 'f1', 'auc', 'min_loss', 'threshold'], display=True)"
   ]
  },
  {
   "cell_type": "code",
   "execution_count": null,
   "id": "be327589",
   "metadata": {},
   "outputs": [],
   "source": [
    "sb.glue('D_C_scores',['tnr', 'fpr', 'fnr', 'tpr', 'precision', 'f1', 'auc', 'min_loss', 'threshold'], display=True)"
   ]
  },
  {
   "cell_type": "markdown",
   "id": "9acd4cc1",
   "metadata": {},
   "source": [
    "also please save the ROC plot"
   ]
  },
  {
   "cell_type": "code",
   "execution_count": null,
   "id": "fb88682c",
   "metadata": {},
   "outputs": [],
   "source": [
    "fig, ax = plt.subplots()\n",
    "#plot ROCs\n",
    "ax.plot([0,1],[0,1]);\n",
    "sb.glue('D_ROC',fig, \"display\", display=False);"
   ]
  },
  {
   "cell_type": "code",
   "execution_count": null,
   "id": "add84df3",
   "metadata": {},
   "outputs": [],
   "source": []
  },
  {
   "cell_type": "code",
   "execution_count": null,
   "id": "10707a53",
   "metadata": {},
   "outputs": [],
   "source": []
  }
 ],
 "metadata": {
  "kernelspec": {
   "display_name": "Python 3 (ipykernel)",
   "language": "python",
   "name": "python3"
  },
  "language_info": {
   "codemirror_mode": {
    "name": "ipython",
    "version": 3
   },
   "file_extension": ".py",
   "mimetype": "text/x-python",
   "name": "python",
   "nbconvert_exporter": "python",
   "pygments_lexer": "ipython3",
   "version": "3.9.13"
  }
 },
 "nbformat": 4,
 "nbformat_minor": 5
}
