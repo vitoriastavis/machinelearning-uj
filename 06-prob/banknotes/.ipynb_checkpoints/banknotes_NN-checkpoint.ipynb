{
 "cells": [
  {
   "cell_type": "markdown",
   "id": "a3bd9899",
   "metadata": {
    "editable": true,
    "slideshow": {
     "slide_type": ""
    }
   },
   "source": [
    "# Counterfeit detection"
   ]
  },
  {
   "cell_type": "markdown",
   "id": "9c469b63",
   "metadata": {},
   "source": [
    "The task in this assignment is to detect the  counterfeit banknotes. The data set is based on [banknote authentication Data Set ](https://archive.ics.uci.edu/ml/datasets/banknote+authentication#) from UCI Machine Learning repository. The first three columns denote different parameters obtained from the photographs of the banknotes and last colum provides the label. Frankly as the dataset does not have any description I don't know  which labels corresponds to real and which to counterfeited banknotes. let's assume that label one (positive) denotes the clounterfeits. The set  [banknote_authentication.csv](./data/banknote_authentication.csv) can be found in the `data`  directory."
   ]
  },
  {
   "cell_type": "code",
   "execution_count": 1,
   "id": "f28dc1e3",
   "metadata": {},
   "outputs": [],
   "source": [
    "import pandas as pd\n",
    "import numpy as np\n",
    "import matplotlib.pyplot as plt\n",
    "import scipy.stats as st"
   ]
  },
  {
   "cell_type": "code",
   "execution_count": 2,
   "id": "480b5a1d",
   "metadata": {},
   "outputs": [],
   "source": [
    "from sklearn.metrics import classification_report, ConfusionMatrixDisplay"
   ]
  },
  {
   "cell_type": "code",
   "execution_count": 3,
   "id": "836aef6e",
   "metadata": {},
   "outputs": [],
   "source": [
    "import  matplotlib.pyplot as plt\n",
    "plt.rcParams['figure.figsize']=(8,8)"
   ]
  },
  {
   "cell_type": "markdown",
   "id": "7053c738",
   "metadata": {},
   "source": [
    "Please insert you  firstname  and name below"
   ]
  },
  {
   "cell_type": "code",
   "execution_count": 4,
   "id": "27f62aa3",
   "metadata": {},
   "outputs": [],
   "source": [
    "from  sklearn.model_selection import train_test_split\n",
    "seed = 31287"
   ]
  },
  {
   "cell_type": "code",
   "execution_count": 5,
   "id": "8dfe4b6c",
   "metadata": {},
   "outputs": [],
   "source": [
    "data = pd.read_csv('data/banknotes_data.csv')"
   ]
  },
  {
   "cell_type": "code",
   "execution_count": 6,
   "id": "9f721836",
   "metadata": {},
   "outputs": [
    {
     "data": {
      "text/html": [
       "<div>\n",
       "<style scoped>\n",
       "    .dataframe tbody tr th:only-of-type {\n",
       "        vertical-align: middle;\n",
       "    }\n",
       "\n",
       "    .dataframe tbody tr th {\n",
       "        vertical-align: top;\n",
       "    }\n",
       "\n",
       "    .dataframe thead th {\n",
       "        text-align: right;\n",
       "    }\n",
       "</style>\n",
       "<table border=\"1\" class=\"dataframe\">\n",
       "  <thead>\n",
       "    <tr style=\"text-align: right;\">\n",
       "      <th></th>\n",
       "      <th>a0</th>\n",
       "      <th>a1</th>\n",
       "      <th>a2</th>\n",
       "      <th>a3</th>\n",
       "      <th>counterfeit</th>\n",
       "    </tr>\n",
       "  </thead>\n",
       "  <tbody>\n",
       "    <tr>\n",
       "      <th>0</th>\n",
       "      <td>-1.1306</td>\n",
       "      <td>1.8458</td>\n",
       "      <td>-1.35750</td>\n",
       "      <td>-1.38060</td>\n",
       "      <td>1</td>\n",
       "    </tr>\n",
       "    <tr>\n",
       "      <th>1</th>\n",
       "      <td>-1.1188</td>\n",
       "      <td>3.3357</td>\n",
       "      <td>-1.34550</td>\n",
       "      <td>-1.95730</td>\n",
       "      <td>1</td>\n",
       "    </tr>\n",
       "    <tr>\n",
       "      <th>2</th>\n",
       "      <td>2.6719</td>\n",
       "      <td>3.0646</td>\n",
       "      <td>0.37158</td>\n",
       "      <td>0.58619</td>\n",
       "      <td>0</td>\n",
       "    </tr>\n",
       "    <tr>\n",
       "      <th>3</th>\n",
       "      <td>-4.1409</td>\n",
       "      <td>3.4619</td>\n",
       "      <td>-0.47841</td>\n",
       "      <td>-3.88790</td>\n",
       "      <td>1</td>\n",
       "    </tr>\n",
       "    <tr>\n",
       "      <th>4</th>\n",
       "      <td>1.4507</td>\n",
       "      <td>8.7903</td>\n",
       "      <td>-2.23240</td>\n",
       "      <td>-0.65259</td>\n",
       "      <td>0</td>\n",
       "    </tr>\n",
       "  </tbody>\n",
       "</table>\n",
       "</div>"
      ],
      "text/plain": [
       "       a0      a1       a2       a3  counterfeit\n",
       "0 -1.1306  1.8458 -1.35750 -1.38060            1\n",
       "1 -1.1188  3.3357 -1.34550 -1.95730            1\n",
       "2  2.6719  3.0646  0.37158  0.58619            0\n",
       "3 -4.1409  3.4619 -0.47841 -3.88790            1\n",
       "4  1.4507  8.7903 -2.23240 -0.65259            0"
      ]
     },
     "execution_count": 6,
     "metadata": {},
     "output_type": "execute_result"
    }
   ],
   "source": [
    "data.head()"
   ]
  },
  {
   "cell_type": "code",
   "execution_count": 7,
   "id": "96a123d3",
   "metadata": {
    "tags": [
     "skip"
    ]
   },
   "outputs": [
    {
     "data": {
      "text/html": [
       "<div>\n",
       "<style scoped>\n",
       "    .dataframe tbody tr th:only-of-type {\n",
       "        vertical-align: middle;\n",
       "    }\n",
       "\n",
       "    .dataframe tbody tr th {\n",
       "        vertical-align: top;\n",
       "    }\n",
       "\n",
       "    .dataframe thead th {\n",
       "        text-align: right;\n",
       "    }\n",
       "</style>\n",
       "<table border=\"1\" class=\"dataframe\">\n",
       "  <thead>\n",
       "    <tr style=\"text-align: right;\">\n",
       "      <th></th>\n",
       "      <th>a0</th>\n",
       "      <th>a1</th>\n",
       "      <th>a2</th>\n",
       "      <th>a3</th>\n",
       "      <th>counterfeit</th>\n",
       "    </tr>\n",
       "  </thead>\n",
       "  <tbody>\n",
       "    <tr>\n",
       "      <th>count</th>\n",
       "      <td>1166.000000</td>\n",
       "      <td>1166.000000</td>\n",
       "      <td>1166.000000</td>\n",
       "      <td>1166.000000</td>\n",
       "      <td>1166.000000</td>\n",
       "    </tr>\n",
       "    <tr>\n",
       "      <th>mean</th>\n",
       "      <td>0.431116</td>\n",
       "      <td>1.902054</td>\n",
       "      <td>1.426607</td>\n",
       "      <td>-1.220393</td>\n",
       "      <td>0.444254</td>\n",
       "    </tr>\n",
       "    <tr>\n",
       "      <th>std</th>\n",
       "      <td>2.845672</td>\n",
       "      <td>5.942260</td>\n",
       "      <td>4.397341</td>\n",
       "      <td>2.101777</td>\n",
       "      <td>0.497096</td>\n",
       "    </tr>\n",
       "    <tr>\n",
       "      <th>min</th>\n",
       "      <td>-7.042100</td>\n",
       "      <td>-13.773100</td>\n",
       "      <td>-5.286100</td>\n",
       "      <td>-7.871900</td>\n",
       "      <td>0.000000</td>\n",
       "    </tr>\n",
       "    <tr>\n",
       "      <th>25%</th>\n",
       "      <td>-1.770900</td>\n",
       "      <td>-1.916200</td>\n",
       "      <td>-1.664300</td>\n",
       "      <td>-2.466150</td>\n",
       "      <td>0.000000</td>\n",
       "    </tr>\n",
       "    <tr>\n",
       "      <th>50%</th>\n",
       "      <td>0.471345</td>\n",
       "      <td>2.408650</td>\n",
       "      <td>0.567365</td>\n",
       "      <td>-0.614450</td>\n",
       "      <td>0.000000</td>\n",
       "    </tr>\n",
       "    <tr>\n",
       "      <th>75%</th>\n",
       "      <td>2.816925</td>\n",
       "      <td>6.800675</td>\n",
       "      <td>3.338825</td>\n",
       "      <td>0.394810</td>\n",
       "      <td>1.000000</td>\n",
       "    </tr>\n",
       "    <tr>\n",
       "      <th>max</th>\n",
       "      <td>6.824800</td>\n",
       "      <td>12.730200</td>\n",
       "      <td>17.927400</td>\n",
       "      <td>2.449500</td>\n",
       "      <td>1.000000</td>\n",
       "    </tr>\n",
       "  </tbody>\n",
       "</table>\n",
       "</div>"
      ],
      "text/plain": [
       "                a0           a1           a2           a3  counterfeit\n",
       "count  1166.000000  1166.000000  1166.000000  1166.000000  1166.000000\n",
       "mean      0.431116     1.902054     1.426607    -1.220393     0.444254\n",
       "std       2.845672     5.942260     4.397341     2.101777     0.497096\n",
       "min      -7.042100   -13.773100    -5.286100    -7.871900     0.000000\n",
       "25%      -1.770900    -1.916200    -1.664300    -2.466150     0.000000\n",
       "50%       0.471345     2.408650     0.567365    -0.614450     0.000000\n",
       "75%       2.816925     6.800675     3.338825     0.394810     1.000000\n",
       "max       6.824800    12.730200    17.927400     2.449500     1.000000"
      ]
     },
     "execution_count": 7,
     "metadata": {},
     "output_type": "execute_result"
    }
   ],
   "source": [
    "data.describe()"
   ]
  },
  {
   "cell_type": "code",
   "execution_count": 8,
   "id": "e6b18b25",
   "metadata": {
    "tags": [
     "skip"
    ]
   },
   "outputs": [
    {
     "name": "stdout",
     "output_type": "stream",
     "text": [
      "<class 'pandas.core.frame.DataFrame'>\n",
      "RangeIndex: 1166 entries, 0 to 1165\n",
      "Data columns (total 5 columns):\n",
      " #   Column       Non-Null Count  Dtype  \n",
      "---  ------       --------------  -----  \n",
      " 0   a0           1166 non-null   float64\n",
      " 1   a1           1166 non-null   float64\n",
      " 2   a2           1166 non-null   float64\n",
      " 3   a3           1166 non-null   float64\n",
      " 4   counterfeit  1166 non-null   int64  \n",
      "dtypes: float64(4), int64(1)\n",
      "memory usage: 45.7 KB\n"
     ]
    }
   ],
   "source": [
    "data.info()"
   ]
  },
  {
   "cell_type": "code",
   "execution_count": 9,
   "id": "baed1171",
   "metadata": {},
   "outputs": [],
   "source": [
    "data_train, data_test = train_test_split(data, test_size=0.2, shuffle=True, stratify=data.loc[:,'counterfeit'], random_state=seed)"
   ]
  },
  {
   "cell_type": "code",
   "execution_count": 10,
   "id": "acafd930",
   "metadata": {},
   "outputs": [
    {
     "data": {
      "text/html": [
       "<div>\n",
       "<style scoped>\n",
       "    .dataframe tbody tr th:only-of-type {\n",
       "        vertical-align: middle;\n",
       "    }\n",
       "\n",
       "    .dataframe tbody tr th {\n",
       "        vertical-align: top;\n",
       "    }\n",
       "\n",
       "    .dataframe thead th {\n",
       "        text-align: right;\n",
       "    }\n",
       "</style>\n",
       "<table border=\"1\" class=\"dataframe\">\n",
       "  <thead>\n",
       "    <tr style=\"text-align: right;\">\n",
       "      <th></th>\n",
       "      <th>a0</th>\n",
       "      <th>a1</th>\n",
       "      <th>a2</th>\n",
       "      <th>a3</th>\n",
       "      <th>counterfeit</th>\n",
       "    </tr>\n",
       "  </thead>\n",
       "  <tbody>\n",
       "    <tr>\n",
       "      <th>711</th>\n",
       "      <td>1.94760</td>\n",
       "      <td>-4.773800</td>\n",
       "      <td>8.52700</td>\n",
       "      <td>-1.866800</td>\n",
       "      <td>0</td>\n",
       "    </tr>\n",
       "    <tr>\n",
       "      <th>565</th>\n",
       "      <td>1.42760</td>\n",
       "      <td>8.384700</td>\n",
       "      <td>-2.09950</td>\n",
       "      <td>-1.967700</td>\n",
       "      <td>0</td>\n",
       "    </tr>\n",
       "    <tr>\n",
       "      <th>912</th>\n",
       "      <td>-4.28590</td>\n",
       "      <td>8.523400</td>\n",
       "      <td>3.13920</td>\n",
       "      <td>-0.916390</td>\n",
       "      <td>0</td>\n",
       "    </tr>\n",
       "    <tr>\n",
       "      <th>64</th>\n",
       "      <td>4.92490</td>\n",
       "      <td>0.689060</td>\n",
       "      <td>0.77344</td>\n",
       "      <td>1.209500</td>\n",
       "      <td>0</td>\n",
       "    </tr>\n",
       "    <tr>\n",
       "      <th>871</th>\n",
       "      <td>2.19480</td>\n",
       "      <td>1.378100</td>\n",
       "      <td>1.15820</td>\n",
       "      <td>0.857740</td>\n",
       "      <td>0</td>\n",
       "    </tr>\n",
       "    <tr>\n",
       "      <th>...</th>\n",
       "      <td>...</td>\n",
       "      <td>...</td>\n",
       "      <td>...</td>\n",
       "      <td>...</td>\n",
       "      <td>...</td>\n",
       "    </tr>\n",
       "    <tr>\n",
       "      <th>47</th>\n",
       "      <td>-2.45610</td>\n",
       "      <td>-4.556600</td>\n",
       "      <td>6.45340</td>\n",
       "      <td>-0.056479</td>\n",
       "      <td>1</td>\n",
       "    </tr>\n",
       "    <tr>\n",
       "      <th>1161</th>\n",
       "      <td>1.21380</td>\n",
       "      <td>8.798600</td>\n",
       "      <td>-2.16720</td>\n",
       "      <td>-0.741820</td>\n",
       "      <td>0</td>\n",
       "    </tr>\n",
       "    <tr>\n",
       "      <th>174</th>\n",
       "      <td>5.87820</td>\n",
       "      <td>5.940900</td>\n",
       "      <td>-2.85440</td>\n",
       "      <td>-0.608630</td>\n",
       "      <td>0</td>\n",
       "    </tr>\n",
       "    <tr>\n",
       "      <th>1119</th>\n",
       "      <td>0.17346</td>\n",
       "      <td>7.869500</td>\n",
       "      <td>0.26876</td>\n",
       "      <td>-3.788300</td>\n",
       "      <td>0</td>\n",
       "    </tr>\n",
       "    <tr>\n",
       "      <th>1129</th>\n",
       "      <td>-2.68640</td>\n",
       "      <td>-0.097265</td>\n",
       "      <td>0.61663</td>\n",
       "      <td>0.061192</td>\n",
       "      <td>1</td>\n",
       "    </tr>\n",
       "  </tbody>\n",
       "</table>\n",
       "<p>932 rows × 5 columns</p>\n",
       "</div>"
      ],
      "text/plain": [
       "           a0        a1       a2        a3  counterfeit\n",
       "711   1.94760 -4.773800  8.52700 -1.866800            0\n",
       "565   1.42760  8.384700 -2.09950 -1.967700            0\n",
       "912  -4.28590  8.523400  3.13920 -0.916390            0\n",
       "64    4.92490  0.689060  0.77344  1.209500            0\n",
       "871   2.19480  1.378100  1.15820  0.857740            0\n",
       "...       ...       ...      ...       ...          ...\n",
       "47   -2.45610 -4.556600  6.45340 -0.056479            1\n",
       "1161  1.21380  8.798600 -2.16720 -0.741820            0\n",
       "174   5.87820  5.940900 -2.85440 -0.608630            0\n",
       "1119  0.17346  7.869500  0.26876 -3.788300            0\n",
       "1129 -2.68640 -0.097265  0.61663  0.061192            1\n",
       "\n",
       "[932 rows x 5 columns]"
      ]
     },
     "execution_count": 10,
     "metadata": {},
     "output_type": "execute_result"
    }
   ],
   "source": [
    "data_train"
   ]
  },
  {
   "cell_type": "code",
   "execution_count": 11,
   "id": "29d56514",
   "metadata": {},
   "outputs": [],
   "source": [
    "lbls_train = data_train['counterfeit']\n",
    "lbls_test = data_test['counterfeit']"
   ]
  },
  {
   "cell_type": "code",
   "execution_count": 12,
   "id": "ccd52d70",
   "metadata": {},
   "outputs": [
    {
     "data": {
      "image/png": "[encoded data removed]",
      "text/plain": [
       "<Figure size 2200x500 with 4 Axes>"
      ]
     },
     "metadata": {},
     "output_type": "display_data"
    }
   ],
   "source": [
    "fig, ax = plt.subplots(1,4, figsize=(22,5))\n",
    "for i in range(4):\n",
    "    ax[i].hist(data_train[lbls_train==0].iloc[:,i], bins=32, histtype='step', color='blue')\n",
    "    ax[i].hist(data_train[lbls_train==1].iloc[:,i], bins=32, histtype='step', color='red')\n",
    "    ax[i].hist(data_train[lbls_train==0].iloc[:,i], bins=32, histtype='bar', color='lightblue', alpha=0.25)\n",
    "    ax[i].hist(data_train[lbls_train==1].iloc[:,i], bins=32, histtype='bar', color='orange', alpha =0.25)"
   ]
  },
  {
   "cell_type": "markdown",
   "id": "cb8cc56e",
   "metadata": {
    "editable": true,
    "slideshow": {
     "slide_type": ""
    }
   },
   "source": [
    "# Problem 1"
   ]
  },
  {
   "cell_type": "markdown",
   "id": "20aa56cb",
   "metadata": {
    "editable": true,
    "slideshow": {
     "slide_type": ""
    }
   },
   "source": [
    "Train a neural network classifier to predict counterfeit banknotes. Use the features `a0` and `a3`. "
   ]
  },
  {
   "cell_type": "code",
   "execution_count": 13,
   "id": "7f4eeb3e",
   "metadata": {
    "editable": true,
    "slideshow": {
     "slide_type": ""
    }
   },
   "outputs": [],
   "source": [
    "import torch\n",
    "import torch.nn as tnn"
   ]
  },
  {
   "cell_type": "code",
   "execution_count": 14,
   "id": "b3cf2d06",
   "metadata": {
    "editable": true,
    "slideshow": {
     "slide_type": ""
    }
   },
   "outputs": [],
   "source": [
    "features= [0, 3]\n",
    "nf=len(features)"
   ]
  },
  {
   "cell_type": "code",
   "execution_count": 15,
   "id": "5950fcc0",
   "metadata": {
    "editable": true,
    "slideshow": {
     "slide_type": ""
    }
   },
   "outputs": [],
   "source": [
    "features_train = torch.from_numpy(data_train.values[:,features]).to(dtype=torch.float32)\n",
    "labels_train = torch.from_numpy(data_train.values[:,4:5]).to(dtype=torch.float32)"
   ]
  },
  {
   "cell_type": "code",
   "execution_count": 16,
   "id": "57e5567c",
   "metadata": {
    "editable": true,
    "slideshow": {
     "slide_type": ""
    }
   },
   "outputs": [],
   "source": [
    "features_test = torch.from_numpy(data_test.values[:,features]).to(dtype=torch.float32)\n",
    "labels_test = torch.from_numpy(data_test.values[:,4:5]).to(dtype=torch.float32)"
   ]
  },
  {
   "cell_type": "code",
   "execution_count": 17,
   "id": "f318d0ec",
   "metadata": {
    "editable": true,
    "slideshow": {
     "slide_type": ""
    }
   },
   "outputs": [],
   "source": [
    "model = tnn.Sequential(tnn.Linear(in_features=nf, out_features=1), tnn.Sigmoid())"
   ]
  },
  {
   "cell_type": "code",
   "execution_count": 18,
   "id": "c0ecc755",
   "metadata": {
    "editable": true,
    "slideshow": {
     "slide_type": ""
    }
   },
   "outputs": [],
   "source": [
    "loss_fn = tnn.BCELoss()"
   ]
  },
  {
   "cell_type": "code",
   "execution_count": 19,
   "id": "cd45c9c5",
   "metadata": {
    "editable": true,
    "slideshow": {
     "slide_type": ""
    }
   },
   "outputs": [],
   "source": [
    "optimizer = torch.optim.SGD(model.parameters(),lr=10.0)"
   ]
  },
  {
   "cell_type": "code",
   "execution_count": 20,
   "id": "46450ac1",
   "metadata": {
    "editable": true,
    "slideshow": {
     "slide_type": ""
    }
   },
   "outputs": [
    {
     "data": {
      "text/plain": [
       "tensor(0.2854)"
      ]
     },
     "execution_count": 20,
     "metadata": {},
     "output_type": "execute_result"
    }
   ],
   "source": [
    "with torch.no_grad():\n",
    "    pred =  model(features_train)\n",
    "    acc = torch.mean(0.0+ ((pred > 0.5)== (labels_train>0.5)))\n",
    "acc    "
   ]
  },
  {
   "cell_type": "code",
   "execution_count": 21,
   "id": "7fa50d19-b05a-4911-a20e-063c6342c00c",
   "metadata": {},
   "outputs": [],
   "source": [
    "# loss functions to test\n",
    "bce = tnn.BCELoss()\n",
    "ce = tnn.CrossEntropyLoss()\n",
    "\n",
    "lfs = [bce, ce]"
   ]
  },
  {
   "cell_type": "code",
   "execution_count": 24,
   "id": "31af8ce9-2d30-43f9-9805-3a31ad292d3a",
   "metadata": {},
   "outputs": [],
   "source": [
    "# learning rates to test\n",
    "optimizers_lr = [0.001, 0.01, 0.1, 1]"
   ]
  },
  {
   "cell_type": "code",
   "execution_count": 25,
   "id": "9e120807-4d2c-475d-9ec6-a76d8317aec1",
   "metadata": {},
   "outputs": [],
   "source": [
    "# architectures to test\n",
    "models = ['unilayer', 'multilayer']"
   ]
  },
  {
   "cell_type": "code",
   "execution_count": 72,
   "id": "be0a6971-52ac-4750-a6f3-9f8bc2b1257f",
   "metadata": {},
   "outputs": [],
   "source": [
    "# number of epochs to test\n",
    "epochs = [10, 50, 100, 500, 1000, 10000]"
   ]
  },
  {
   "cell_type": "code",
   "execution_count": 62,
   "id": "0fdf80da-797d-4c82-86f7-6d5359ffd97f",
   "metadata": {},
   "outputs": [],
   "source": [
    "# prepare dataframe\n",
    "cols = ['model_type', 'LR', 'loss_function', 'epochs', 'acc_train', 'acc_test']\n",
    "accs_df = pd.DataFrame(columns=cols)"
   ]
  },
  {
   "cell_type": "code",
   "execution_count": 73,
   "id": "eafdc29e-1e27-4c07-a44b-d1587a6d7c16",
   "metadata": {},
   "outputs": [],
   "source": [
    "n_models = 0\n",
    "for model_type in models:\n",
    "    for lr_value in optimizers_lr:\n",
    "        for loss_function in lfs:\n",
    "            for num_epochs in epochs: \n",
    "                # set architecture\n",
    "                if model_type == 'unilayer':\n",
    "                    model = tnn.Sequential(tnn.Linear(in_features=nf, out_features=1), tnn.Sigmoid())\n",
    "                else:\n",
    "                    model = tnn.Sequential(\n",
    "                    tnn.Linear(in_features=nf, out_features=64),  \n",
    "                    tnn.ReLU(),                                   \n",
    "                    tnn.Linear(in_features=64, out_features=32),  \n",
    "                    tnn.ReLU(),                                   \n",
    "                    tnn.Linear(in_features=32, out_features=1),   \n",
    "                    tnn.Sigmoid()                                 \n",
    "                    )\n",
    "\n",
    "                # set optimizer\n",
    "                optimizer = torch.optim.SGD(model.parameters(),lr=lr_value)\n",
    "\n",
    "                # set loss function\n",
    "                loss_fn = loss_function\n",
    "                lf = str(loss_function)[:-2]\n",
    "                \n",
    "                # forward and backward passes and optimization\n",
    "                for epoch in range(num_epochs):\n",
    "                    outputs = model(features_train)\n",
    "                    loss = loss_fn(outputs, labels_train)\n",
    "\n",
    "                    optimizer.zero_grad()\n",
    "                    loss.backward()\n",
    "                    optimizer.step()\n",
    "                    \n",
    "                # calculate acc train\n",
    "                with torch.no_grad():\n",
    "                    pred =  model(features_train)\n",
    "                    acc_train = torch.mean(0.0+ ((pred > 0.5)== (labels_train>0.5)))\n",
    "                acc_train = round(acc_train.item(), 3)\n",
    "                \n",
    "                # calculate acc test\n",
    "                with torch.no_grad():\n",
    "                    pred =  model(features_test)\n",
    "                    acc_test = torch.mean(0.0+ ((pred > 0.5)== (labels_test>0.5)))\n",
    "                acc_test = round(acc_test.item(),3)\n",
    "                    \n",
    "                # add to dataframe\n",
    "                row = [model_type, lr_value, lf, num_epochs, acc_train, acc_test]\n",
    "                accs_df.loc[n_models] = row\n",
    "                n_models += 1\n",
    "                "
   ]
  },
  {
   "cell_type": "code",
   "execution_count": 74,
   "id": "948f7c78-06c1-4528-a658-61ecf567c68a",
   "metadata": {},
   "outputs": [
    {
     "data": {
      "text/html": [
       "<div>\n",
       "<style scoped>\n",
       "    .dataframe tbody tr th:only-of-type {\n",
       "        vertical-align: middle;\n",
       "    }\n",
       "\n",
       "    .dataframe tbody tr th {\n",
       "        vertical-align: top;\n",
       "    }\n",
       "\n",
       "    .dataframe thead th {\n",
       "        text-align: right;\n",
       "    }\n",
       "</style>\n",
       "<table border=\"1\" class=\"dataframe\">\n",
       "  <thead>\n",
       "    <tr style=\"text-align: right;\">\n",
       "      <th></th>\n",
       "      <th>model_type</th>\n",
       "      <th>LR</th>\n",
       "      <th>loss_function</th>\n",
       "      <th>epochs</th>\n",
       "      <th>acc_train</th>\n",
       "      <th>acc_test</th>\n",
       "    </tr>\n",
       "  </thead>\n",
       "  <tbody>\n",
       "    <tr>\n",
       "      <th>87</th>\n",
       "      <td>multilayer</td>\n",
       "      <td>1.000</td>\n",
       "      <td>BCELoss</td>\n",
       "      <td>500</td>\n",
       "      <td>0.895</td>\n",
       "      <td>0.906</td>\n",
       "    </tr>\n",
       "    <tr>\n",
       "      <th>77</th>\n",
       "      <td>multilayer</td>\n",
       "      <td>0.100</td>\n",
       "      <td>BCELoss</td>\n",
       "      <td>10000</td>\n",
       "      <td>0.906</td>\n",
       "      <td>0.897</td>\n",
       "    </tr>\n",
       "    <tr>\n",
       "      <th>88</th>\n",
       "      <td>multilayer</td>\n",
       "      <td>1.000</td>\n",
       "      <td>BCELoss</td>\n",
       "      <td>1000</td>\n",
       "      <td>0.895</td>\n",
       "      <td>0.893</td>\n",
       "    </tr>\n",
       "    <tr>\n",
       "      <th>89</th>\n",
       "      <td>multilayer</td>\n",
       "      <td>1.000</td>\n",
       "      <td>BCELoss</td>\n",
       "      <td>10000</td>\n",
       "      <td>0.937</td>\n",
       "      <td>0.893</td>\n",
       "    </tr>\n",
       "    <tr>\n",
       "      <th>86</th>\n",
       "      <td>multilayer</td>\n",
       "      <td>1.000</td>\n",
       "      <td>BCELoss</td>\n",
       "      <td>100</td>\n",
       "      <td>0.877</td>\n",
       "      <td>0.889</td>\n",
       "    </tr>\n",
       "    <tr>\n",
       "      <th>...</th>\n",
       "      <td>...</td>\n",
       "      <td>...</td>\n",
       "      <td>...</td>\n",
       "      <td>...</td>\n",
       "      <td>...</td>\n",
       "      <td>...</td>\n",
       "    </tr>\n",
       "    <tr>\n",
       "      <th>7</th>\n",
       "      <td>unilayer</td>\n",
       "      <td>0.001</td>\n",
       "      <td>CrossEntropyLoss</td>\n",
       "      <td>50</td>\n",
       "      <td>0.166</td>\n",
       "      <td>0.171</td>\n",
       "    </tr>\n",
       "    <tr>\n",
       "      <th>9</th>\n",
       "      <td>unilayer</td>\n",
       "      <td>0.001</td>\n",
       "      <td>CrossEntropyLoss</td>\n",
       "      <td>500</td>\n",
       "      <td>0.185</td>\n",
       "      <td>0.162</td>\n",
       "    </tr>\n",
       "    <tr>\n",
       "      <th>0</th>\n",
       "      <td>unilayer</td>\n",
       "      <td>0.001</td>\n",
       "      <td>BCELoss</td>\n",
       "      <td>10</td>\n",
       "      <td>0.178</td>\n",
       "      <td>0.15</td>\n",
       "    </tr>\n",
       "    <tr>\n",
       "      <th>8</th>\n",
       "      <td>unilayer</td>\n",
       "      <td>0.001</td>\n",
       "      <td>CrossEntropyLoss</td>\n",
       "      <td>100</td>\n",
       "      <td>0.158</td>\n",
       "      <td>0.145</td>\n",
       "    </tr>\n",
       "    <tr>\n",
       "      <th>43</th>\n",
       "      <td>unilayer</td>\n",
       "      <td>1.000</td>\n",
       "      <td>CrossEntropyLoss</td>\n",
       "      <td>50</td>\n",
       "      <td>0.127</td>\n",
       "      <td>0.107</td>\n",
       "    </tr>\n",
       "  </tbody>\n",
       "</table>\n",
       "<p>96 rows × 6 columns</p>\n",
       "</div>"
      ],
      "text/plain": [
       "    model_type     LR     loss_function  epochs acc_train acc_test\n",
       "87  multilayer  1.000           BCELoss     500     0.895    0.906\n",
       "77  multilayer  0.100           BCELoss   10000     0.906    0.897\n",
       "88  multilayer  1.000           BCELoss    1000     0.895    0.893\n",
       "89  multilayer  1.000           BCELoss   10000     0.937    0.893\n",
       "86  multilayer  1.000           BCELoss     100     0.877    0.889\n",
       "..         ...    ...               ...     ...       ...      ...\n",
       "7     unilayer  0.001  CrossEntropyLoss      50     0.166    0.171\n",
       "9     unilayer  0.001  CrossEntropyLoss     500     0.185    0.162\n",
       "0     unilayer  0.001           BCELoss      10     0.178     0.15\n",
       "8     unilayer  0.001  CrossEntropyLoss     100     0.158    0.145\n",
       "43    unilayer  1.000  CrossEntropyLoss      50     0.127    0.107\n",
       "\n",
       "[96 rows x 6 columns]"
      ]
     },
     "execution_count": 74,
     "metadata": {},
     "output_type": "execute_result"
    }
   ],
   "source": [
    "accs_df.sort_values('acc_test', ascending=False)"
   ]
  },
  {
   "cell_type": "code",
   "execution_count": null,
   "id": "ed444f73-6a0b-4cda-a879-83c517e8e02f",
   "metadata": {},
   "outputs": [],
   "source": []
  }
 ],
 "metadata": {
  "kernelspec": {
   "display_name": "Python 3 (ipykernel)",
   "language": "python",
   "name": "python3"
  },
  "language_info": {
   "codemirror_mode": {
    "name": "ipython",
    "version": 3
   },
   "file_extension": ".py",
   "mimetype": "text/x-python",
   "name": "python",
   "nbconvert_exporter": "python",
   "pygments_lexer": "ipython3",
   "version": "3.9.13"
  }
 },
 "nbformat": 4,
 "nbformat_minor": 5
}
