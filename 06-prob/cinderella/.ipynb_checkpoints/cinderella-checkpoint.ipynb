{
 "cells": [
  {
   "cell_type": "code",
   "execution_count": null,
   "id": "6435bcd2",
   "metadata": {
    "tags": [
     "hide"
    ]
   },
   "outputs": [],
   "source": [
    "import numpy as np\n",
    "import scipy.stats as st\n",
    "import matplotlib.pyplot as plt\n",
    "%matplotlib inline\n",
    "plt.rcParams[\"figure.figsize\"] = [12,8]\n",
    "plt.rcParams[\"animation.html\"] = \"jshtml\""
   ]
  },
  {
   "cell_type": "markdown",
   "id": "f9d02bdf",
   "metadata": {},
   "source": [
    "The wicked stepmother has ordered Cinderella to separate a mixture of different ingredients including _i.a._ lentils and ashes. The actual number of ingredients is unknown to poor Cinderella. Fortunately, Cinderella being good and kind has many friends. One of them working in \"Birds inc.\" company lent her the newest model of \"Dove\" scanner that can measure the diameter of the particles. Using it Cinderella gathered a list containing the diameter of each particle in the mixture. Knowing that for each kind of particles the diameter distribution is normal, she separated the mixture into different ingredients."
   ]
  },
  {
   "cell_type": "markdown",
   "id": "8f85aaee",
   "metadata": {},
   "source": [
    "Data gathered by  Cinderella can be found in file \"data/mixture.txt\""
   ]
  },
  {
   "cell_type": "code",
   "execution_count": null,
   "id": "97b327e3",
   "metadata": {},
   "outputs": [],
   "source": [
    "data = np.loadtxt('data/mixture.txt')"
   ]
  },
  {
   "cell_type": "code",
   "execution_count": null,
   "id": "689294a1",
   "metadata": {},
   "outputs": [],
   "source": [
    "plt.hist(data,bins=32, histtype='step', density=True);"
   ]
  },
  {
   "cell_type": "markdown",
   "id": "6755c532",
   "metadata": {
    "tags": [
     "problem"
    ]
   },
   "source": [
    "## Problem"
   ]
  },
  {
   "cell_type": "markdown",
   "id": "89cc369a",
   "metadata": {
    "tags": [
     "problem"
    ]
   },
   "source": [
    "Please redo her analysis. Estimate the number of ingredients in the mixture. Then classify each particle."
   ]
  },
  {
   "cell_type": "markdown",
   "id": "c202961f",
   "metadata": {},
   "source": [
    "### Bonus question"
   ]
  },
  {
   "cell_type": "markdown",
   "id": "abb40e3e",
   "metadata": {
    "tags": [
     "problem"
    ]
   },
   "source": [
    "Not knowing the real labels, how can you estimate  the accuracy of this classifier ? "
   ]
  }
 ],
 "metadata": {
  "kernelspec": {
   "display_name": "Python 3 (ipykernel)",
   "language": "python",
   "name": "python3"
  }
 },
 "nbformat": 4,
 "nbformat_minor": 5
}
