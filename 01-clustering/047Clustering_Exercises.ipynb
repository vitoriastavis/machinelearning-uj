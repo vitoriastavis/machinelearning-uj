{
 "cells": [
  {
   "cell_type": "markdown",
   "metadata": {},
   "source": [
    "# Exercises\n",
    "\n",
    "We have prepared five exercises in this chapter:\n",
    "\n",
    "1. Modify the HCM code to work for three groups. This exercise can be divded into four tasks: \n",
    "    - modify the parameters,\n",
    "    - modify the calculate_u function,\n",
    "    - execute the clustering,\n",
    "    - plot the results.\n",
    "2. For density clustering, plot the feature space with all element marked with different color, depending on the cluster that it's assigned to. You should do the following tasks:\n",
    "    - fill the get_color method,\n",
    "    - fill the plot code.\n",
    "3. Build a method that plot baed on dendrograms_history and pydot, a dendrogram for the divisive clustering method. You should base on agglomerative method, but keep in mind that it works top-down instead of bottom-up. This exercise need just one function to be implemented:\n",
    "    - show_tree_divisive. \n",
    "    You should loop over the dendrogram_history variable and loop over childs.\n",
    "4. Implement the $s_{2}$ metric   \n",
    "5. Draw the borders between clusters in the output image (for 5.0 grade)"
   ]
  },
  {
   "cell_type": "markdown",
   "metadata": {},
   "source": [
    "## Libraries\n",
    "\n",
    "To solve the exercises, we need the following libraries to load in the first place.\n"
   ]
  },
  {
   "cell_type": "code",
   "execution_count": 8,
   "metadata": {},
   "outputs": [],
   "source": [
    "%store -r data_set\n"
   ]
  },
  {
   "cell_type": "code",
   "execution_count": 9,
   "metadata": {},
   "outputs": [
    {
     "data": {
      "text/plain": [
       "array([[0.00785855, 0.12356688],\n",
       "       [0.01768173, 0.18853503],\n",
       "       [0.01768173, 0.29490446],\n",
       "       [0.15324165, 0.09732484],\n",
       "       [0.17681729, 0.12993631],\n",
       "       [0.09823183, 0.23566879],\n",
       "       [0.91748527, 0.94363057],\n",
       "       [1.        , 0.96815287],\n",
       "       [0.5697446 , 1.        ],\n",
       "       [0.42239686, 0.38503185]])"
      ]
     },
     "execution_count": 9,
     "metadata": {},
     "output_type": "execute_result"
    }
   ],
   "source": [
    "data_set"
   ]
  },
  {
   "cell_type": "code",
   "execution_count": 2,
   "metadata": {},
   "outputs": [],
   "source": [
    "import numpy\n",
    "import random\n",
    "import numpy as np\n",
    "import pandas as pd\n",
    "from math import sqrt\n",
    "\n",
    "import matplotlib.image as img\n",
    "from PIL import Image\n",
    "\n",
    "from matplotlib import pyplot as plt\n",
    "from mpl_toolkits.mplot3d import Axes3D\n",
    "\n",
    "from IPython.display import Image"
   ]
  },
  {
   "cell_type": "markdown",
   "metadata": {},
   "source": [
    "## Exercise 1: Modify the HCM code to work for three groups\n",
    "\n",
    "The obvious part is the variable ```groups```, but the most changes needs to be done here:"
   ]
  },
  {
   "cell_type": "code",
   "execution_count": 35,
   "metadata": {},
   "outputs": [],
   "source": [
    "### change here:\n",
    "groups = 3\n",
    "\n",
    "error_margin = 0.01\n",
    "m=2\n",
    "assignation=np.zeros((len(data_set),groups))\n",
    "\n",
    "centers = np.array([[0.01229673, 0.25183492],\n",
    "       [0.3689626 , 0.61904127],\n",
    "       [0.95732769, 0.45059586]])\n",
    "\n",
    "centers = np.array([[0.01229673, 0.25183492],\n",
    "       [0.3689626 , 0.61904127],\n",
    "       [0.95732769, 0.45059586]])\n",
    "\n",
    "def calculate_distance(x,v):\n",
    "    return sqrt((x[0]-v[0])**2+(x[1]-v[1])**2)\n",
    "\n",
    "def calculate_new_centers(u):\n",
    "    new_centers=[]\n",
    "    for c in range(groups):\n",
    "        u_x_vector=np.zeros(2)\n",
    "        u_scalar=0.0\n",
    "        for i in range(len(data_set)):\n",
    "            u_scalar = u_scalar+(u[i][c]**m)\n",
    "            u_x_vector=np.add(u_x_vector,np.multiply(u[i][c]**m,data_set[i]))\n",
    "        new_centers.append(np.divide(u_x_vector,u_scalar))\n",
    "    return new_centers\n",
    "\n",
    "def calculate_differences(new_assignation, assignation):     \n",
    "    return np.sum(np.abs(np.subtract(assignation,new_assignation)))\n",
    "\n",
    "def cluster_hcm(assignation,centers):\n",
    "    difference_limit_not_achieved=True\n",
    "    new_centers = centers\n",
    "    iter=0\n",
    "    while difference_limit_not_achieved:\n",
    "        new_assignation=[]\n",
    "        for i in range(len(data_set)):\n",
    "            new_assignation.append(calculate_u_three(data_set[i]))\n",
    "        new_centers = calculate_new_centers(new_assignation)\n",
    "        if iter>0:\n",
    "            if calculate_differences(new_assignation, assignation) < error_margin:\n",
    "                difference_limit_not_achieved=False\n",
    "        assignation=new_assignation\n",
    "        iter=iter+1\n",
    "    return new_assignation, new_centers"
   ]
  },
  {
   "cell_type": "markdown",
   "metadata": {},
   "source": [
    "### Modify the ``calculate_u`` function\n",
    "\n",
    "Fill the gap below to make the function working for more groups than two. The goal here is to calculate the distance between ``x`` and the center of a given group and append the value to ``minimal_distance``."
   ]
  },
  {
   "cell_type": "code",
   "execution_count": 12,
   "metadata": {},
   "outputs": [],
   "source": [
    "def calculate_u_three(x):\n",
    "    u_array = np.zeros(groups)\n",
    "    minimal_distance = []\n",
    "    for group in range(groups):\n",
    "        minimal_distance.append(calculate_distance(x,centers[group]))\n",
    "    min_group_id = np.argmin(minimal_distance)\n",
    "    u_array[min_group_id] = 1\n",
    "    return u_array"
   ]
  },
  {
   "cell_type": "markdown",
   "metadata": {},
   "source": [
    "### Execute the clustering\n",
    "\n",
    "As in the previous example we need to cluster it."
   ]
  },
  {
   "cell_type": "code",
   "execution_count": 13,
   "metadata": {},
   "outputs": [
    {
     "data": {
      "text/html": [
       "<div>\n",
       "<style scoped>\n",
       "    .dataframe tbody tr th:only-of-type {\n",
       "        vertical-align: middle;\n",
       "    }\n",
       "\n",
       "    .dataframe tbody tr th {\n",
       "        vertical-align: top;\n",
       "    }\n",
       "\n",
       "    .dataframe thead th {\n",
       "        text-align: right;\n",
       "    }\n",
       "</style>\n",
       "<table border=\"1\" class=\"dataframe\">\n",
       "  <thead>\n",
       "    <tr style=\"text-align: right;\">\n",
       "      <th></th>\n",
       "      <th>0</th>\n",
       "      <th>1</th>\n",
       "    </tr>\n",
       "  </thead>\n",
       "  <tbody>\n",
       "    <tr>\n",
       "      <th>0</th>\n",
       "      <td>0.078585</td>\n",
       "      <td>0.178323</td>\n",
       "    </tr>\n",
       "    <tr>\n",
       "      <th>1</th>\n",
       "      <td>0.496071</td>\n",
       "      <td>0.692516</td>\n",
       "    </tr>\n",
       "    <tr>\n",
       "      <th>2</th>\n",
       "      <td>0.958743</td>\n",
       "      <td>0.955892</td>\n",
       "    </tr>\n",
       "  </tbody>\n",
       "</table>\n",
       "</div>"
      ],
      "text/plain": [
       "          0         1\n",
       "0  0.078585  0.178323\n",
       "1  0.496071  0.692516\n",
       "2  0.958743  0.955892"
      ]
     },
     "execution_count": 13,
     "metadata": {},
     "output_type": "execute_result"
    }
   ],
   "source": [
    "new_assignation_hcm3, new_centers_hcm3 = cluster_hcm(assignation, centers)\n",
    "pd.DataFrame(new_centers_hcm3)"
   ]
  },
  {
   "cell_type": "markdown",
   "metadata": {},
   "source": [
    "### Plot the results"
   ]
  },
  {
   "cell_type": "code",
   "execution_count": 14,
   "metadata": {},
   "outputs": [
    {
     "data": {
      "image/png": "[encoded data removed]",
      "text/plain": [
       "<Figure size 640x480 with 1 Axes>"
      ]
     },
     "metadata": {},
     "output_type": "display_data"
    }
   ],
   "source": [
    "red = data_set[np.where(np.array(new_assignation_hcm3)[:,0]==1)]\n",
    "blue = data_set[np.where(np.array(new_assignation_hcm3)[:,1]==1)]\n",
    "green = data_set[np.where(np.array(new_assignation_hcm3)[:,2]==1)]\n",
    "\n",
    "fig, ax = plt.subplots()\n",
    "\n",
    "ax.scatter(blue[:,0],blue[:,1],c='blue')\n",
    "ax.scatter(red[:,0],red[:,1],c='red')\n",
    "ax.scatter(green[:,0],green[:,1],c='green')\n",
    "ax.scatter(np.array(new_centers_hcm3)[:,0],np.array(new_centers_hcm3)[:,1],c='black')\n",
    "ax.set(xlabel='Seats count', ylabel='Distance range (km)',\n",
    "       title='Aircrafts (clusters)')\n",
    "ax.grid()\n",
    "plt.show()"
   ]
  },
  {
   "cell_type": "markdown",
   "metadata": {},
   "source": [
    "## Exercise 2: Plot the density clusters\n",
    "\n",
    "Use the code below to plot the results. You can play with the max_distance variable to get more or less groups."
   ]
  },
  {
   "cell_type": "code",
   "execution_count": 15,
   "metadata": {},
   "outputs": [],
   "source": [
    "%store -r new_assignation_density\n",
    "%store -r data_set"
   ]
  },
  {
   "cell_type": "markdown",
   "metadata": {},
   "source": [
    "### Fill the ``get_group_objects`` method\n",
    "\n",
    "Only one line needs to be updated. The ``get_group_objects`` function should return the objects of a given group."
   ]
  },
  {
   "cell_type": "code",
   "execution_count": 16,
   "metadata": {},
   "outputs": [
    {
     "data": {
      "text/plain": [
       "array([-1.,  1.,  2.])"
      ]
     },
     "execution_count": 16,
     "metadata": {},
     "output_type": "execute_result"
    }
   ],
   "source": [
    "np.unique(new_assignation_density)"
   ]
  },
  {
   "cell_type": "code",
   "execution_count": 17,
   "metadata": {},
   "outputs": [],
   "source": [
    "colors = ['red','blue','green','orange','black','yellow']\n",
    "    \n",
    "def get_group_objects(color_id):\n",
    "    return data_set[np.where(np.array(new_assignation_density)[:]==color_id)]"
   ]
  },
  {
   "cell_type": "markdown",
   "metadata": {},
   "source": [
    "### Fill the plot code\n",
    "\n",
    "If done properly the code below should return a plot of two clusters and the noise."
   ]
  },
  {
   "cell_type": "code",
   "execution_count": 18,
   "metadata": {},
   "outputs": [
    {
     "data": {
      "image/png": "[encoded data removed]",
      "text/plain": [
       "<Figure size 640x480 with 1 Axes>"
      ]
     },
     "metadata": {},
     "output_type": "display_data"
    }
   ],
   "source": [
    "colors = ['red','blue','green','orange','black','yellow']\n",
    "\n",
    "fig, ax = plt.subplots()\n",
    "\n",
    "assigned_groups = new_assignation_density\n",
    "for group in np.unique(assigned_groups):\n",
    "    small_set = get_group_objects(group) \n",
    "    ax.scatter(small_set[:,0],small_set[:,1],c=colors.pop(0))\n",
    "    for circle in small_set:\n",
    "        circle1 = plt.Circle((circle[0],circle[1]), 0.25, color='green', fill=False)        \n",
    "        ax.add_artist(circle1)\n",
    "    \n",
    "ax.set(xlabel='Seats count', ylabel='Distance range (km)',title='Aircrafts (clusters)')\n",
    "ax.grid()\n",
    "plt.show()"
   ]
  },
  {
   "cell_type": "code",
   "execution_count": 19,
   "metadata": {},
   "outputs": [
    {
     "name": "stdout",
     "output_type": "stream",
     "text": [
      "Requirement already satisfied: graphviz in /home/vsa/anaconda3/lib/python3.9/site-packages (0.20.1)\n",
      "Note: you may need to restart the kernel to use updated packages.\n"
     ]
    }
   ],
   "source": [
    "pip install graphviz"
   ]
  },
  {
   "cell_type": "markdown",
   "metadata": {},
   "source": [
    "## Exercise 3: Build a dendrogram using dendrograms_history and pydot (done)\n",
    "\n",
    "In this exercise we gonna use the variable dendrograms_history and pydot. Below we restore the variable and initialize the dendrogram graph."
   ]
  },
  {
   "cell_type": "code",
   "execution_count": 20,
   "metadata": {},
   "outputs": [],
   "source": [
    "%store -r dendrogram_hist_diana"
   ]
  },
  {
   "cell_type": "code",
   "execution_count": 21,
   "metadata": {},
   "outputs": [],
   "source": [
    "import pydot\n",
    "import graphviz"
   ]
  },
  {
   "cell_type": "code",
   "execution_count": null,
   "metadata": {},
   "outputs": [],
   "source": []
  },
  {
   "cell_type": "markdown",
   "metadata": {},
   "source": [
    "### Fill ``show_tree_divisive`` function\n",
    "\n",
    "The function show_tree_divisive goes through each child node and build and edge between."
   ]
  },
  {
   "cell_type": "code",
   "execution_count": 28,
   "metadata": {},
   "outputs": [],
   "source": [
    "tree = pydot.Dot(graph_type='graph')"
   ]
  },
  {
   "cell_type": "code",
   "execution_count": 29,
   "metadata": {},
   "outputs": [],
   "source": [
    "def show_tree_divisive():\n",
    "    for item in dendrogram_hist_diana:\n",
    "        for child in item[0][\"childs\"]:\n",
    "            new_edge = pydot.Edge(str(item[0][\"acesor\"]),str(child))\n",
    "            tree.add_edge(new_edge)\n",
    "    tree.write('tree_diana.png',format='png')\n",
    "    \n",
    "show_tree_divisive()"
   ]
  },
  {
   "cell_type": "markdown",
   "metadata": {},
   "source": [
    "Take a look if you did it properly:"
   ]
  },
  {
   "cell_type": "code",
   "execution_count": 30,
   "metadata": {},
   "outputs": [
    {
     "data": {
      "image/png": "[encoded data removed]",
      "text/plain": [
       "<IPython.core.display.Image object>"
      ]
     },
     "execution_count": 30,
     "metadata": {},
     "output_type": "execute_result"
    }
   ],
   "source": [
    "from IPython.display import Image\n",
    "Image(filename='tree_diana.png') "
   ]
  },
  {
   "cell_type": "markdown",
   "metadata": {},
   "source": [
    "## Exercise 4: Implement the $s_{2}$ metric\n",
    "\n",
    "The $s_{2}$ metric gives a better understanding of the distances between centers.\n",
    "\n",
    "\\begin{equation}\n",
    " s_{2}(c_{i},c_{j})=d(c_{i},c_{j}).\n",
    "\\end{equation}\n",
    "\n",
    "Let's restore the centers from HCM grouped by two and initialize the values for three groups as below."
   ]
  },
  {
   "cell_type": "code",
   "execution_count": 31,
   "metadata": {},
   "outputs": [],
   "source": [
    "%store -r new_centers_hcm\n",
    "\n",
    "new_centers_hcm = np.array(new_centers_hcm)\n",
    "new_centers_hcm3 = np.array([[0.42239686, 0.38503185],[0.07858546, 0.17832272],[0.82907662, 0.97059448]])"
   ]
  },
  {
   "cell_type": "code",
   "execution_count": 45,
   "metadata": {},
   "outputs": [
    {
     "data": {
      "text/plain": [
       "array([0.12770138, 0.20785259])"
      ]
     },
     "execution_count": 45,
     "metadata": {},
     "output_type": "execute_result"
    }
   ],
   "source": [
    "new_centers_hcm[1]"
   ]
  },
  {
   "cell_type": "markdown",
   "metadata": {},
   "source": [
    "Measure the distance between each center."
   ]
  },
  {
   "cell_type": "code",
   "execution_count": 47,
   "metadata": {},
   "outputs": [],
   "source": [
    "def calculate_s_2(centers):\n",
    "    s2 = []\n",
    "    for center_1 in range(len(centers)):\n",
    "        for center_2 in range(len(centers)):\n",
    "            distance = calculate_distance(centers[center_1], centers[center_2])\n",
    "            s2.append(distance)\n",
    "    return s2"
   ]
  },
  {
   "cell_type": "code",
   "execution_count": 50,
   "metadata": {},
   "outputs": [
    {
     "name": "stdout",
     "output_type": "stream",
     "text": [
      "S2 for new_centers_hcm\n",
      "[0.0, 1.0361961303876361, 1.0361961303876361, 0.0]\n"
     ]
    }
   ],
   "source": [
    "s2_hcm = calculate_s_2(new_centers_hcm)\n",
    "print(\"S2 for new_centers_hcm\")\n",
    "print(s2_hcm)\n",
    "\n"
   ]
  },
  {
   "cell_type": "code",
   "execution_count": 51,
   "metadata": {},
   "outputs": [
    {
     "name": "stdout",
     "output_type": "stream",
     "text": [
      "S2 for new_centers_hcm3\n",
      "[0.0, 0.40116697670087065, 0.7129319889345509, 0.40116697670087065, 0.0, 1.0912980907761376, 0.7129319889345509, 1.0912980907761376, 0.0]\n"
     ]
    }
   ],
   "source": [
    "s2_hcm3 = calculate_s_2(new_centers_hcm3)\n",
    "print(\"S2 for new_centers_hcm3\")\n",
    "print(s2_hcm3)\n"
   ]
  },
  {
   "cell_type": "markdown",
   "metadata": {},
   "source": [
    "## Exercise 5: Modify the output image with borders between clusters\n",
    "\n",
    "We use the ``Segmentation`` class as in previous example."
   ]
  },
  {
   "cell_type": "code",
   "execution_count": 3,
   "metadata": {},
   "outputs": [],
   "source": [
    "class Segmentation:\n",
    "\n",
    "    def __init__(self, feature_matrix, groups):\n",
    "        self.__data_set = feature_matrix\n",
    "        self.__groups = groups\n",
    "        self.__space=[[0, 255], [0, 255], [0, 255]]\n",
    "        self.__error_margin = 0.5\n",
    "        self.assignation = np.zeros((len(self.__data_set), self.__groups))\n",
    "        self.centers = []\n",
    "        self.select_centers()\n",
    "\n",
    "    def select_centers(self):\n",
    "        if len(self.centers) == 0:\n",
    "            iter=0\n",
    "            while iter<self.__groups:\n",
    "                self.centers.append(((random.randrange(0, 255)*1.0/255),\n",
    "                                     (random.randrange(0, 255)*1.0/255),\n",
    "                                     (random.randrange(0, 255)*1.0/255)))\n",
    "                iter=iter+1\n",
    "\n",
    "    def calculate_distance(self, x, v):\n",
    "        return sqrt((x[0]-v[0])**2+(x[1]-v[1])**2+(x[2]-v[2])**2)\n",
    "\n",
    "    def calculate_u(self, x, i):\n",
    "        smallest_distance = float(self.calculate_distance(x, self.centers[0]))\n",
    "        smallest_id = 0\n",
    "        for i in range(1, self.__groups):\n",
    "            distance = self.calculate_distance(x, self.centers[i])\n",
    "            if distance < smallest_distance:\n",
    "                smallest_id = i\n",
    "                smallest_distance = distance\n",
    "        distance = np.zeros(self.__groups)\n",
    "        distance[smallest_id]=1\n",
    "        return distance\n",
    "\n",
    "    def calculate_new_centers(self, u):\n",
    "        new_centers=[]\n",
    "        for c in range(self.__groups):\n",
    "            u_x_vector = numpy.zeros(len(self.centers[0]))\n",
    "            u_scalar = 0\n",
    "            for i in range(len(u)):\n",
    "                u_scalar = u_scalar + u[i][c]\n",
    "                u_x_vector = numpy.add(u_x_vector, numpy.multiply(u[i][c], self.__data_set[i]))\n",
    "            new_centers.append(numpy.divide(u_x_vector,u_scalar))\n",
    "        #print(new_centers)\n",
    "        self.centers = new_centers\n",
    "\n",
    "    def calculate_differences(self,new_assignation):\n",
    "        diff=0\n",
    "        for i in range(len(self.assignation)):\n",
    "            for j in range(self.__groups):\n",
    "                diff = diff + abs(float(new_assignation[i][j]) - float(self.assignation[i][j]))\n",
    "        return diff\n",
    "\n",
    "    def do_segmentation(self):\n",
    "        difference_limit_not_achieved = True\n",
    "        iter = 0\n",
    "        while difference_limit_not_achieved:\n",
    "            new_assignation = []\n",
    "            for i in range(len(self.__data_set)):\n",
    "                new_assignation.append(self.calculate_u(self.__data_set[i], iter))\n",
    "            self.calculate_new_centers(new_assignation)\n",
    "\n",
    "            if iter > 0:\n",
    "                if self.calculate_differences(new_assignation) < self.__error_margin:\n",
    "                    difference_limit_not_achieved=False\n",
    "            self.assignation = new_assignation\n",
    "            iter = iter + 1\n",
    "\n",
    "    def get_results(self):\n",
    "        #print(self.assignation)\n",
    "        return self.centers, self.assignation"
   ]
  },
  {
   "cell_type": "markdown",
   "metadata": {},
   "source": [
    "### Change ``save_image`` method \n",
    "\n",
    "Add an if statement in the code below. It should consider the change of ``current_pixel`` variable. Please keep in mind that there should be three states considered."
   ]
  },
  {
   "cell_type": "code",
   "execution_count": 43,
   "metadata": {},
   "outputs": [],
   "source": [
    "from PIL import Image\n",
    "\n",
    "class ImageConversion:\n",
    "\n",
    "    def get_image_from_url(self, img_url):\n",
    "        image = open(img_url,'rb')\n",
    "        return img.imread(image)\n",
    "\n",
    "    def get_unique_colours(self, image_matrix):\n",
    "        feature_matrix = []\n",
    "        for i in range(len(image_matrix)):\n",
    "            for j in range(len(image_matrix[0])):\n",
    "                feature_matrix.append(image_matrix[i, j])\n",
    "        feature_matrix_np = np.array(feature_matrix)\n",
    "        uniques, index = np.unique([str(i) for i in feature_matrix_np], return_index=True)\n",
    "        return feature_matrix_np[index], feature_matrix\n",
    "\n",
    "    def save_image(self, size, pixel_matrix, unique_matrix, assignation_matrix, colours, output):\n",
    "        image_out = Image.new(\"RGB\", size)\n",
    "        pixels = []\n",
    "        current_pixel = None ## added\n",
    "        for i in range(len(pixel_matrix)):\n",
    "            pixel_list = pixel_matrix[i].tolist()\n",
    "            for j in range(len(unique_matrix)):\n",
    "                if (pixel_list == unique_matrix[j].tolist()):\n",
    "                    for k in range(len(colours)):\n",
    "                        if assignation_matrix[j][k] == 1:\n",
    "                            # pixel belongs to cluster k\n",
    "                            \n",
    "                            segmented_colours = [int(i) for i in (colours[k] * 255)]\n",
    "                                                \n",
    "                            # check if it's different then other pixel\n",
    "                            if segmented_colours != current_pixel:\n",
    "                                new_colours = (0,0,0)\n",
    "                            else:\n",
    "                                new_colours = segmented_colours\n",
    "                                \n",
    "                            #print(i, new_colours)\n",
    "                            #print(current_pixel, segmented_colours)                \n",
    "                            #print(i, j, k, segmented_colours)\n",
    "                            \n",
    "                            current_pixel = segmented_colours\n",
    "                            \n",
    "                            pixels.append(tuple(new_colours))\n",
    "     \n",
    "        image_out.putdata(pixels)\n",
    "        image_out.save(output)\n",
    "\n",
    "    def get_results(self):\n",
    "        return self.centers, self.assignation        "
   ]
  },
  {
   "cell_type": "markdown",
   "metadata": {},
   "source": [
    "Execute segmentation without any changes:"
   ]
  },
  {
   "cell_type": "code",
   "execution_count": 44,
   "metadata": {},
   "outputs": [],
   "source": [
    "image_to_segment = \"logo_krakow.png\"\n",
    "image_converter = ImageConversion()\n",
    "image_data = image_converter.get_image_from_url(image_to_segment)\n",
    "unique_image_data, image_data_list = image_converter.get_unique_colours(image_data)\n",
    "\n",
    "groups = 3\n",
    "\n",
    "if image_data.shape[2] > 3:\n",
    "    image_data = image_data[:,:,[0,1,2]]\n",
    "    unique_image_data = unique_image_data[:,[0,1,2]]\n",
    "    image_data_list = numpy.array(image_data_list)[:,[0,1,2]]\n",
    "\n",
    "segmentation = Segmentation(unique_image_data, groups)\n",
    "segmentation.do_segmentation()\n",
    "centers, assignation_matrix = segmentation.get_results()\n",
    "\n",
    "image_size = (232, 258)\n",
    "image_converter.save_image(image_size, image_data_list, unique_image_data, assignation_matrix, centers, \"segmented_black.png\")"
   ]
  },
  {
   "cell_type": "code",
   "execution_count": 15,
   "metadata": {},
   "outputs": [
    {
     "data": {
      "text/plain": [
       "[array([0.26139038, 0.47568629, 0.667451  ]),\n",
       " array([0.80526962, 0.8572304 , 0.92075164]),\n",
       " array([0.87113726, 0.73003923, 0.15733334])]"
      ]
     },
     "execution_count": 15,
     "metadata": {},
     "output_type": "execute_result"
    }
   ],
   "source": [
    "centers\n"
   ]
  },
  {
   "cell_type": "markdown",
   "metadata": {},
   "source": [
    "unique image data = gathers only the unique colors from the features matrix, ordered\n",
    "image_data_list = feature_matrix but np\n",
    "\n",
    "image_converter.save_image(image_size, image_data_list, unique_image_data, assignation_matrix, centers, \"segmented_black.png\")\n",
    "\n",
    "pixel_list = image_data_list\n",
    "unique_list = unique_image_data\n"
   ]
  },
  {
   "cell_type": "code",
   "execution_count": 8,
   "metadata": {},
   "outputs": [
    {
     "data": {
      "text/plain": [
       "array([[0.        , 0.28235295, 0.6117647 ],\n",
       "       [0.        , 0.30588236, 0.62352943],\n",
       "       [0.        , 0.31764707, 0.6313726 ],\n",
       "       [0.        , 0.32941177, 0.63529414],\n",
       "       [0.        , 0.33333334, 0.6901961 ],\n",
       "       [0.        , 0.34117648, 0.6784314 ],\n",
       "       [0.        , 0.34509805, 0.64705884],\n",
       "       [0.        , 0.34901962, 0.6666667 ],\n",
       "       [0.        , 0.36078432, 0.654902  ],\n",
       "       [0.        , 0.3019608 , 0.7176471 ],\n",
       "       [0.        , 0.3372549 , 0.6431373 ],\n",
       "       [0.01960784, 0.31764707, 0.6313726 ],\n",
       "       [0.01960784, 0.33333334, 0.6392157 ],\n",
       "       [0.01960784, 0.34901962, 0.64705884],\n",
       "       [0.01960784, 0.35686275, 0.6509804 ],\n",
       "       [0.02352941, 0.3647059 , 0.65882355],\n",
       "       [0.03137255, 0.34117648, 0.6431373 ],\n",
       "       [0.03921569, 0.35686275, 0.6784314 ],\n",
       "       [0.04705882, 0.33333334, 0.6392157 ],\n",
       "       [0.04705882, 0.3529412 , 0.64705884],\n",
       "       [0.05098039, 0.3764706 , 0.6627451 ],\n",
       "       [0.07450981, 0.3647059 , 0.654902  ],\n",
       "       [0.07843138, 0.39215687, 0.61960787],\n",
       "       [0.08235294, 0.3764706 , 0.65882355],\n",
       "       [0.09803922, 0.40392157, 0.6784314 ],\n",
       "       [0.10588235, 0.3882353 , 0.6666667 ],\n",
       "       [0.11372549, 0.3882353 , 0.6392157 ],\n",
       "       [0.1254902 , 0.42745098, 0.6901961 ],\n",
       "       [0.12941177, 0.4       , 0.6745098 ],\n",
       "       [0.13333334, 0.39215687, 0.64705884],\n",
       "       [0.13725491, 0.4117647 , 0.6784314 ],\n",
       "       [0.14117648, 0.37254903, 0.5921569 ],\n",
       "       [0.14901961, 0.40784314, 0.6313726 ],\n",
       "       [0.15294118, 0.4       , 0.6745098 ],\n",
       "       [0.15686275, 0.43137255, 0.6901961 ],\n",
       "       [0.16470589, 0.39607844, 0.6313726 ],\n",
       "       [0.16470589, 0.41568628, 0.6784314 ],\n",
       "       [0.17254902, 0.41568628, 0.62352943],\n",
       "       [0.17254902, 0.4509804 , 0.7019608 ],\n",
       "       [0.18431373, 0.44313726, 0.6509804 ],\n",
       "       [0.1882353 , 0.43529412, 0.6901961 ],\n",
       "       [0.19607843, 0.44705883, 0.7294118 ],\n",
       "       [0.19607843, 0.47058824, 0.7137255 ],\n",
       "       [0.2       , 0.4509804 , 0.69803923],\n",
       "       [0.20392157, 0.42352942, 0.6117647 ],\n",
       "       [0.21568628, 0.42352942, 0.65882355],\n",
       "       [0.21568628, 0.4392157 , 0.65882355],\n",
       "       [0.21568628, 0.4627451 , 0.7137255 ],\n",
       "       [0.22745098, 0.48235294, 0.73333335],\n",
       "       [0.23529412, 0.4745098 , 0.70980394],\n",
       "       [0.23921569, 0.49803922, 0.7294118 ],\n",
       "       [0.24313726, 0.4509804 , 0.69411767],\n",
       "       [0.24705882, 0.43529412, 0.60784316],\n",
       "       [0.25490198, 0.43529412, 0.5568628 ],\n",
       "       [0.25882354, 0.49019608, 0.72156864],\n",
       "       [0.25882354, 0.5058824 , 0.73333335],\n",
       "       [0.2627451 , 0.47843137, 0.70980394],\n",
       "       [0.2784314 , 0.44705883, 0.59607846],\n",
       "       [0.28235295, 0.49411765, 0.73333335],\n",
       "       [0.28627452, 0.5294118 , 0.7607843 ],\n",
       "       [0.2901961 , 0.45882353, 0.54509807],\n",
       "       [0.29411766, 0.5137255 , 0.73333335],\n",
       "       [0.30588236, 0.53333336, 0.7411765 ],\n",
       "       [0.32156864, 0.5254902 , 0.7372549 ],\n",
       "       [0.33333334, 0.45882353, 0.5921569 ],\n",
       "       [0.33333334, 0.5372549 , 0.74509805],\n",
       "       [0.3372549 , 0.4745098 , 0.5294118 ],\n",
       "       [0.34117648, 0.54901963, 0.75686276],\n",
       "       [0.34901962, 0.5058824 , 0.49019608],\n",
       "       [0.34901962, 0.5686275 , 0.76862746],\n",
       "       [0.36078432, 0.5411765 , 0.74509805],\n",
       "       [0.37254903, 0.56078434, 0.75686276],\n",
       "       [0.38431373, 0.4862745 , 0.5529412 ],\n",
       "       [0.38431373, 0.52156866, 0.41960785],\n",
       "       [0.38431373, 0.5686275 , 0.8039216 ],\n",
       "       [0.38431373, 0.6       , 0.7921569 ],\n",
       "       [0.3882353 , 0.4862745 , 0.48235294],\n",
       "       [0.3882353 , 0.5764706 , 0.76862746],\n",
       "       [0.40392157, 0.59607846, 0.7764706 ],\n",
       "       [0.40784314, 0.5058824 , 0.69803923],\n",
       "       [0.40784314, 0.58431375, 0.77254903],\n",
       "       [0.41568628, 0.5882353 , 0.80784315],\n",
       "       [0.41568628, 0.6117647 , 0.7921569 ],\n",
       "       [0.41960785, 0.5137255 , 0.4627451 ],\n",
       "       [0.42352942, 0.59607846, 0.7764706 ],\n",
       "       [0.42352942, 0.60784316, 0.8156863 ],\n",
       "       [0.43137255, 0.5137255 , 0.50980395],\n",
       "       [0.43137255, 0.627451  , 0.8       ],\n",
       "       [0.4392157 , 0.54901963, 0.36862746],\n",
       "       [0.4392157 , 0.6039216 , 0.78039217],\n",
       "       [0.4509804 , 0.5921569 , 0.76862746],\n",
       "       [0.4509804 , 0.6156863 , 0.7882353 ],\n",
       "       [0.45490196, 0.6313726 , 0.8       ],\n",
       "       [0.45882353, 0.61960787, 0.83137256],\n",
       "       [0.4627451 , 0.5254902 , 0.47843137],\n",
       "       [0.46666667, 0.5882353 , 0.80784315],\n",
       "       [0.47058824, 0.62352943, 0.7882353 ],\n",
       "       [0.4745098 , 0.5411765 , 0.42745098],\n",
       "       [0.4745098 , 0.654902  , 0.8156863 ],\n",
       "       [0.47843137, 0.6392157 , 0.8       ],\n",
       "       [0.49019608, 0.6039216 , 0.7882353 ],\n",
       "       [0.49411765, 0.5254902 , 0.5019608 ],\n",
       "       [0.49411765, 0.654902  , 0.8117647 ],\n",
       "       [0.5019608 , 0.6431373 , 0.8       ],\n",
       "       [0.50980395, 0.54509807, 0.45882353],\n",
       "       [0.5137255 , 0.654902  , 0.80784315],\n",
       "       [0.52156866, 0.67058825, 0.81960785],\n",
       "       [0.5254902 , 0.54901963, 0.39607844],\n",
       "       [0.5411765 , 0.57254905, 0.40784314],\n",
       "       [0.5411765 , 0.6666667 , 0.8117647 ],\n",
       "       [0.54509807, 0.56078434, 0.44705883],\n",
       "       [0.54509807, 0.654902  , 0.8       ],\n",
       "       [0.54509807, 0.6784314 , 0.81960785],\n",
       "       [0.54901963, 0.6901961 , 0.83137256],\n",
       "       [0.5647059 , 0.7019608 , 0.85882354],\n",
       "       [0.5686275 , 0.6666667 , 0.80784315],\n",
       "       [0.57254905, 0.5803922 , 0.43137255],\n",
       "       [0.57254905, 0.6862745 , 0.8235294 ],\n",
       "       [0.5764706 , 0.7019608 , 0.8352941 ],\n",
       "       [0.5803922 , 0.57254905, 0.3882353 ],\n",
       "       [0.5803922 , 0.5882353 , 0.3372549 ],\n",
       "       [0.5882353 , 0.72156864, 0.84705883],\n",
       "       [0.5921569 , 0.7176471 , 0.84705883],\n",
       "       [0.6039216 , 0.5921569 , 0.39607844],\n",
       "       [0.6039216 , 0.7058824 , 0.85882354],\n",
       "       [0.6039216 , 0.70980394, 0.8352941 ],\n",
       "       [0.6156863 , 0.72156864, 0.84313726],\n",
       "       [0.6156863 , 0.73333335, 0.85882354],\n",
       "       [0.6313726 , 0.6039216 , 0.38431373],\n",
       "       [0.6313726 , 0.7294118 , 0.84705883],\n",
       "       [0.6392157 , 0.7411765 , 0.85490197],\n",
       "       [0.6431373 , 0.60784316, 0.32941177],\n",
       "       [0.64705884, 0.7529412 , 0.8666667 ],\n",
       "       [0.654902  , 0.7411765 , 0.88235295],\n",
       "       [0.654902  , 0.76862746, 0.8784314 ],\n",
       "       [0.6627451 , 0.75686276, 0.8666667 ],\n",
       "       [0.6666667 , 0.7529412 , 0.85882354],\n",
       "       [0.6666667 , 0.76862746, 0.87058824],\n",
       "       [0.67058825, 0.7411765 , 0.8509804 ],\n",
       "       [0.6745098 , 0.61960787, 0.36862746],\n",
       "       [0.6745098 , 0.7607843 , 0.8666667 ],\n",
       "       [0.6784314 , 0.78039217, 0.8784314 ],\n",
       "       [0.68235296, 0.627451  , 0.3372549 ],\n",
       "       [0.68235296, 0.75686276, 0.85882354],\n",
       "       [0.6862745 , 0.6313726 , 0.29411766],\n",
       "       [0.69803923, 0.7764706 , 0.8745098 ],\n",
       "       [0.69803923, 0.78039217, 0.88235295],\n",
       "       [0.7019608 , 0.80784315, 0.90588236],\n",
       "       [0.7058824 , 0.7921569 , 0.88235295],\n",
       "       [0.70980394, 0.6392157 , 0.32941177],\n",
       "       [0.7176471 , 0.654902  , 0.23921569],\n",
       "       [0.7294118 , 0.8       , 0.8862745 ],\n",
       "       [0.73333335, 0.654902  , 0.28235295],\n",
       "       [0.73333335, 0.8039216 , 0.90588236],\n",
       "       [0.73333335, 0.81960785, 0.9019608 ],\n",
       "       [0.7490196 , 0.654902  , 0.32156864],\n",
       "       [0.7529412 , 0.80784315, 0.8901961 ],\n",
       "       [0.75686276, 0.81960785, 0.8980392 ],\n",
       "       [0.7607843 , 0.83137256, 0.90588236],\n",
       "       [0.7607843 , 0.8392157 , 0.9137255 ],\n",
       "       [0.7647059 , 0.67058825, 0.2784314 ],\n",
       "       [0.76862746, 0.84313726, 0.91764706],\n",
       "       [0.77254903, 0.8235294 , 0.89411765],\n",
       "       [0.77254903, 0.83137256, 0.9019608 ],\n",
       "       [0.7764706 , 0.6784314 , 0.23137255],\n",
       "       [0.7882353 , 0.83137256, 0.9019608 ],\n",
       "       [0.7921569 , 0.8509804 , 0.91764706],\n",
       "       [0.7921569 , 0.8392157 , 0.9098039 ],\n",
       "       [0.8       , 0.68235296, 0.27058825],\n",
       "       [0.8       , 0.85882354, 0.92156863],\n",
       "       [0.8039216 , 0.69411767, 0.22352941],\n",
       "       [0.8039216 , 0.8627451 , 0.93333334],\n",
       "       [0.8117647 , 0.8627451 , 0.92156863],\n",
       "       [0.8117647 , 0.8509804 , 0.9137255 ],\n",
       "       [0.8156863 , 0.6862745 , 0.23529412],\n",
       "       [0.8235294 , 0.8666667 , 0.9254902 ],\n",
       "       [0.83137256, 0.7019608 , 0.24705882],\n",
       "       [0.8352941 , 0.8784314 , 0.92941177],\n",
       "       [0.8392157 , 0.8862745 , 0.9411765 ],\n",
       "       [0.84313726, 0.70980394, 0.21960784],\n",
       "       [0.84705883, 0.7137255 , 0.17254902],\n",
       "       [0.84705883, 0.87058824, 0.92156863],\n",
       "       [0.85490197, 0.88235295, 0.93333334],\n",
       "       [0.8627451 , 0.8980392 , 0.9411765 ],\n",
       "       [0.87058824, 0.7137255 , 0.23529412],\n",
       "       [0.87058824, 0.73333335, 0.12156863],\n",
       "       [0.87058824, 0.91764706, 0.95686275],\n",
       "       [0.8784314 , 0.89411765, 0.9372549 ],\n",
       "       [0.88235295, 0.7294118 , 0.19607843],\n",
       "       [0.88235295, 0.90588236, 0.94509804],\n",
       "       [0.88235295, 0.91764706, 0.9529412 ],\n",
       "       [0.8862745 , 0.92941177, 0.9607843 ],\n",
       "       [0.8862745 , 0.9098039 , 0.9490196 ],\n",
       "       [0.89411765, 0.9137255 , 0.9490196 ],\n",
       "       [0.89411765, 0.92156863, 0.95686275],\n",
       "       [0.9019608 , 0.92941177, 0.9607843 ],\n",
       "       [0.9019608 , 0.9372549 , 0.9647059 ],\n",
       "       [0.90588236, 0.7411765 , 0.16078432],\n",
       "       [0.90588236, 0.74509805, 0.1254902 ],\n",
       "       [0.90588236, 0.9254902 , 0.95686275],\n",
       "       [0.9098039 , 0.9137255 , 0.94509804],\n",
       "       [0.9137255 , 0.93333334, 0.9607843 ],\n",
       "       [0.91764706, 0.92156863, 0.9529412 ],\n",
       "       [0.92156863, 0.9411765 , 0.9647059 ],\n",
       "       [0.9254902 , 0.9254902 , 0.9529412 ],\n",
       "       [0.9254902 , 0.9490196 , 0.972549  ],\n",
       "       [0.92941177, 0.7607843 , 0.10980392],\n",
       "       [0.93333334, 0.9372549 , 0.9607843 ],\n",
       "       [0.9411765 , 0.75686276, 0.14901961],\n",
       "       [0.9411765 , 0.9490196 , 0.96862745],\n",
       "       [0.9411765 , 0.9529412 , 0.972549  ],\n",
       "       [0.94509804, 0.9607843 , 0.9764706 ],\n",
       "       [0.9529412 , 0.76862746, 0.08235294],\n",
       "       [0.9529412 , 0.76862746, 0.12156863],\n",
       "       [0.9529412 , 0.96862745, 0.9843137 ],\n",
       "       [0.95686275, 0.9607843 , 0.9764706 ],\n",
       "       [0.9647059 , 0.972549  , 0.9843137 ],\n",
       "       [0.96862745, 0.7764706 , 0.10196079],\n",
       "       [0.96862745, 0.9647059 , 0.98039216],\n",
       "       [0.972549  , 0.78039217, 0.03921569],\n",
       "       [0.972549  , 0.972549  , 0.9843137 ],\n",
       "       [0.9764706 , 0.7764706 , 0.07843138],\n",
       "       [0.9764706 , 0.98039216, 0.9882353 ],\n",
       "       [0.98039216, 0.78431374, 0.05882353],\n",
       "       [0.9843137 , 0.9843137 , 0.99215686],\n",
       "       [0.9843137 , 0.9882353 , 0.99215686],\n",
       "       [0.9882353 , 0.7921569 , 0.03137255],\n",
       "       [0.9882353 , 0.9882353 , 0.99215686],\n",
       "       [0.9882353 , 0.99215686, 0.99607843],\n",
       "       [0.99215686, 0.78431374, 0.09411765],\n",
       "       [0.99215686, 0.7921569 , 0.07058824],\n",
       "       [0.99215686, 0.98039216, 0.9843137 ],\n",
       "       [0.99215686, 0.99607843, 0.99607843],\n",
       "       [0.99607843, 0.99215686, 0.99607843],\n",
       "       [0.99607843, 0.99607843, 0.99607843],\n",
       "       [0.99607843, 0.99607843, 1.        ],\n",
       "       [0.99607843, 1.        , 1.        ],\n",
       "       [1.        , 0.79607844, 0.01176471],\n",
       "       [1.        , 0.79607844, 0.01568628],\n",
       "       [1.        , 0.79607844, 0.02352941],\n",
       "       [1.        , 0.8       , 0.00392157],\n",
       "       [1.        , 0.8       , 0.00784314],\n",
       "       [1.        , 0.8       , 0.01568628],\n",
       "       [1.        , 0.8       , 0.05098039],\n",
       "       [1.        , 0.80784315, 0.        ],\n",
       "       [1.        , 0.80784315, 0.03921569],\n",
       "       [1.        , 0.8117647 , 0.01176471],\n",
       "       [1.        , 0.8117647 , 0.02352941],\n",
       "       [1.        , 0.84313726, 0.        ],\n",
       "       [1.        , 0.99607843, 0.99607843],\n",
       "       [1.        , 0.99607843, 1.        ],\n",
       "       [1.        , 1.        , 0.99607843],\n",
       "       [1.        , 0.8156863 , 0.        ],\n",
       "       [1.        , 0.9882353 , 0.9882353 ],\n",
       "       [1.        , 0.827451  , 0.        ],\n",
       "       [1.        , 1.        , 1.        ]], dtype=float32)"
      ]
     },
     "execution_count": 8,
     "metadata": {},
     "output_type": "execute_result"
    }
   ],
   "source": [
    "unique_image_data"
   ]
  },
  {
   "cell_type": "markdown",
   "metadata": {},
   "source": [
    "The image should have black broders between one and the other segment."
   ]
  },
  {
   "cell_type": "code",
   "execution_count": 45,
   "metadata": {},
   "outputs": [
    {
     "data": {
      "image/png": "[encoded data removed]",
      "text/plain": [
       "<IPython.core.display.Image object>"
      ]
     },
     "execution_count": 45,
     "metadata": {},
     "output_type": "execute_result"
    }
   ],
   "source": [
    "from IPython.display import Image\n",
    "Image(\"segmented_black.png\")"
   ]
  },
  {
   "cell_type": "code",
   "execution_count": null,
   "metadata": {},
   "outputs": [],
   "source": []
  }
 ],
 "metadata": {
  "kernelspec": {
   "display_name": "Python 3 (ipykernel)",
   "language": "python",
   "name": "python3"
  },
  "language_info": {
   "codemirror_mode": {
    "name": "ipython",
    "version": 3
   },
   "file_extension": ".py",
   "mimetype": "text/x-python",
   "name": "python",
   "nbconvert_exporter": "python",
   "pygments_lexer": "ipython3",
   "version": "3.9.13"
  }
 },
 "nbformat": 4,
 "nbformat_minor": 4
}
