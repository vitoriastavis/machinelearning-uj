{
 "cells": [
  {
   "cell_type": "markdown",
   "metadata": {},
   "source": [
    "# Kernels\n",
    "\n",
    "In some cases the problem is that we are looking for a linear boundary when the boundary in our space is non-linear. However is does not mean that there is no space in which this problem have no linear boundary. If we find the mapping to such space the problem could be solved. \n",
    "\n",
    "The question is if we can map the features space into more dimensions in such a way to make the problem linearly separable. Is is quite obvious that if we will use the function:\n",
    "\\begin{equation}\n",
    "K(x) = (x_1^2, \\sqrt(2) x_1 x_2, x_2^2)\n",
    "\\end{equation}\n",
    "then we transfer our problem into $R^3$ space in which it is linearly separable."
   ]
  },
  {
   "cell_type": "markdown",
   "metadata": {},
   "source": [
    "Load the data set in the first place"
   ]
  },
  {
   "cell_type": "code",
   "execution_count": 3,
   "metadata": {},
   "outputs": [],
   "source": [
    "from sklearn.datasets import load_iris\n",
    "import numpy as np\n",
    "from sklearn.model_selection import train_test_split\n",
    "import cvxopt\n",
    "\n",
    "iris = load_iris()\n",
    "data_set = iris.data\n",
    "labels = iris.target\n",
    "\n",
    "data_set = data_set[labels!=2]\n",
    "labels = labels[labels!=2]\n",
    "\n",
    "train_data_set, test_data_set, train_labels, test_labels = train_test_split(\n",
    "    data_set, labels, test_size=0.2, random_state=15)\n",
    "\n",
    "train_labels[train_labels<1] = -1\n",
    "test_labels[test_labels<1] = -1\n",
    "\n",
    "objects_count = len(train_labels)"
   ]
  },
  {
   "cell_type": "markdown",
   "metadata": {},
   "source": [
    "The ``build_kernel`` function for building more than just the linear kernel needs to be modifier. The RBF kernel can be written as:\n",
    "\\begin{equation}\n",
    "K=\\exp(-\\frac{|x-x'|^{2}}{2\\sigma^{2}})\n",
    "\\end{equation}\n"
   ]
  },
  {
   "cell_type": "code",
   "execution_count": 4,
   "metadata": {},
   "outputs": [],
   "source": [
    "def build_kernel(data_set, kernel_type='linear'):\n",
    "    kernel = np.dot(data_set, data_set.T)\n",
    "    if kernel_type == 'rbf':\n",
    "        sigma = 1.0\n",
    "        objects_count = len(data_set)\n",
    "        b = np.ones((len(data_set), 1))\n",
    "        kernel -= 0.5 * (np.dot((np.diag(kernel)*np.ones((1, objects_count))).T, b.T)\n",
    "                         + np.dot(b, (np.diag(kernel) * np.ones((1, objects_count))).T.T))\n",
    "        kernel = np.exp(kernel / (2. * sigma ** 2))\n",
    "    return kernel"
   ]
  },
  {
   "cell_type": "markdown",
   "metadata": {},
   "source": [
    "The training part is the same as in the case of linear kernel:"
   ]
  },
  {
   "cell_type": "code",
   "execution_count": 5,
   "metadata": {},
   "outputs": [],
   "source": [
    "def train(train_data_set, train_labels, kernel_type='linear', C=10, threshold=1e-5):\n",
    "    kernel = build_kernel(train_data_set, kernel_type=kernel_type)\n",
    "\n",
    "    P = train_labels * train_labels.transpose() * kernel\n",
    "    q = -np.ones((objects_count, 1))\n",
    "    G = np.concatenate((np.eye(objects_count), -np.eye(objects_count)))\n",
    "    h = np.concatenate((C * np.ones((objects_count, 1)), np.zeros((objects_count, 1))))\n",
    "\n",
    "    A = train_labels.reshape(1, objects_count)\n",
    "    A = A.astype(float)\n",
    "    b = 0.0\n",
    "\n",
    "    sol = cvxopt.solvers.qp(cvxopt.matrix(P), cvxopt.matrix(q), cvxopt.matrix(G), cvxopt.matrix(h), cvxopt.matrix(A), cvxopt.matrix(b))\n",
    "\n",
    "    lambdas = np.array(sol['x'])\n",
    "\n",
    "    support_vectors_id = np.where(lambdas > threshold)[0]\n",
    "    vector_number = len(support_vectors_id)\n",
    "    support_vectors = train_data_set[support_vectors_id, :]\n",
    "\n",
    "    lambdas = lambdas[support_vectors_id]\n",
    "    targets = train_labels[support_vectors_id]\n",
    "\n",
    "    b = np.sum(targets)\n",
    "    for n in range(vector_number):\n",
    "        b -= np.sum(lambdas * targets * np.reshape(kernel[support_vectors_id[n], support_vectors_id], (vector_number, 1)))\n",
    "    b /= len(lambdas)\n",
    "\n",
    "    return lambdas, support_vectors, support_vectors_id, b, targets, vector_number"
   ]
  },
  {
   "cell_type": "markdown",
   "metadata": {},
   "source": [
    "The prediction part is a bit different as we need to take RBF kernel into consideration:"
   ]
  },
  {
   "cell_type": "markdown",
   "metadata": {},
   "source": [
    "\\begin{equation}\n",
    "K=\\exp(-\\frac{|x-x'|^{2}}{2\\sigma^{2}})\n",
    "\\end{equation}"
   ]
  },
  {
   "cell_type": "code",
   "execution_count": 6,
   "metadata": {},
   "outputs": [],
   "source": [
    "def classify_rbf(test_data_set, train_data_set, lambdas, targets, b, vector_number, support_vectors, support_vectors_id):\n",
    "    kernel = np.dot(test_data_set, support_vectors.T)\n",
    "    sigma = 1.0\n",
    "    c = (1. / sigma * np.sum(test_data_set ** 2, axis=1) * np.ones((1, np.shape(test_data_set)[0]))).T\n",
    "    c = np.dot(c, np.ones((1, np.shape(kernel)[1])))\n",
    "    sv = (np.diag(np.dot(train_data_set, train_data_set.T))*np.ones((1,len(train_data_set)))).T[support_vectors_id]\n",
    "    aa = np.dot(sv,np.ones((1,np.shape(kernel)[0]))).T\n",
    "    kernel = kernel - 0.5 * c - 0.5 * aa\n",
    "    kernel = np.exp(kernel / (2. * sigma ** 2))\n",
    "\n",
    "    y = np.zeros((np.shape(test_data_set)[0], 1))\n",
    "    for j in range(np.shape(test_data_set)[0]):\n",
    "        for i in range(vector_number):\n",
    "            y[j] += lambdas[i] * targets[i] * kernel[j, i]\n",
    "        y[j] += b\n",
    "    return np.sign(y)"
   ]
  },
  {
   "cell_type": "code",
   "execution_count": 82,
   "metadata": {},
   "outputs": [
    {
     "data": {
      "text/plain": [
       "array([[37.32, 65.76, 37.5 , 70.65, 65.85, 50.25, 51.33],\n",
       "       [35.6 , 50.25, 34.55, 56.09, 49.4 , 39.25, 48.78],\n",
       "       [32.  , 54.23, 32.16, 58.89, 54.31, 41.85, 43.84],\n",
       "       [42.22, 72.3 , 42.46, 78.29, 72.39, 55.65, 57.91],\n",
       "       [35.11, 50.29, 33.83, 55.66, 49.34, 38.9 , 48.27],\n",
       "       [39.6 , 68.98, 39.97, 74.53, 69.18, 53.05, 54.31],\n",
       "       [32.13, 54.5 , 32.38, 59.27, 54.64, 42.15, 43.97],\n",
       "       [38.28, 53.14, 36.92, 59.32, 52.04, 41.4 , 52.54],\n",
       "       [32.62, 47.24, 31.56, 52.28, 46.46, 36.6 , 44.8 ],\n",
       "       [34.89, 60.56, 35.1 , 65.33, 60.62, 46.45, 47.93],\n",
       "       [39.14, 67.27, 39.36, 72.74, 67.32, 51.7 , 53.73],\n",
       "       [29.37, 42.16, 28.45, 46.79, 41.45, 32.75, 40.31],\n",
       "       [34.72, 49.85, 33.53, 55.15, 48.88, 38.55, 47.76],\n",
       "       [36.41, 64.05, 36.81, 69.18, 64.38, 49.3 , 49.87],\n",
       "       [29.18, 42.32, 28.35, 46.94, 41.69, 32.9 , 40.02],\n",
       "       [32.28, 47.14, 31.54, 52.4 , 46.58, 36.8 , 44.18],\n",
       "       [40.24, 70.35, 40.65, 76.03, 70.64, 54.15, 55.14],\n",
       "       [32.03, 46.21, 31.16, 51.41, 45.58, 36.05, 43.86],\n",
       "       [36.93, 64.18, 37.26, 69.4 , 64.39, 49.4 , 50.62],\n",
       "       [40.22, 68.84, 40.55, 74.71, 69.04, 53.15, 55.07]])"
      ]
     },
     "execution_count": 82,
     "metadata": {},
     "output_type": "execute_result"
    }
   ],
   "source": [
    "kernel = np.dot(test_data_set, support_vectors.T)\n",
    "kernel"
   ]
  },
  {
   "cell_type": "code",
   "execution_count": 83,
   "metadata": {},
   "outputs": [
    {
     "data": {
      "text/plain": [
       "array([[60.66, 60.66, 60.66, 60.66, 60.66, 60.66, 60.66],\n",
       "       [44.23, 44.23, 44.23, 44.23, 44.23, 44.23, 44.23],\n",
       "       [41.66, 41.66, 41.66, 41.66, 41.66, 41.66, 41.66],\n",
       "       [73.7 , 73.7 , 73.7 , 73.7 , 73.7 , 73.7 , 73.7 ],\n",
       "       [43.05, 43.05, 43.05, 43.05, 43.05, 43.05, 43.05],\n",
       "       [66.91, 66.91, 66.91, 66.91, 66.91, 66.91, 66.91],\n",
       "       [42.18, 42.18, 42.18, 42.18, 42.18, 42.18, 42.18],\n",
       "       [51.12, 51.12, 51.12, 51.12, 51.12, 51.12, 51.12],\n",
       "       [37.2 , 37.2 , 37.2 , 37.2 , 37.2 , 37.2 , 37.2 ],\n",
       "       [51.5 , 51.5 , 51.5 , 51.5 , 51.5 , 51.5 , 51.5 ],\n",
       "       [63.7 , 63.7 , 63.7 , 63.7 , 63.7 , 63.7 , 63.7 ],\n",
       "       [30.09, 30.09, 30.09, 30.09, 30.09, 30.09, 30.09],\n",
       "       [42.11, 42.11, 42.11, 42.11, 42.11, 42.11, 42.11],\n",
       "       [57.81, 57.81, 57.81, 57.81, 57.81, 57.81, 57.81],\n",
       "       [29.77, 29.77, 29.77, 29.77, 29.77, 29.77, 29.77],\n",
       "       [36.6 , 36.6 , 36.6 , 36.6 , 36.6 , 36.6 , 36.6 ],\n",
       "       [69.67, 69.67, 69.67, 69.67, 69.67, 69.67, 69.67],\n",
       "       [35.88, 35.88, 35.88, 35.88, 35.88, 35.88, 35.88],\n",
       "       [57.98, 57.98, 57.98, 57.98, 57.98, 57.98, 57.98],\n",
       "       [67.03, 67.03, 67.03, 67.03, 67.03, 67.03, 67.03]])"
      ]
     },
     "execution_count": 83,
     "metadata": {},
     "output_type": "execute_result"
    }
   ],
   "source": [
    "c = (1. / 1.0 * np.sum(test_data_set ** 2, axis=1) * np.ones((1, np.shape(test_data_set)[0]))).T\n",
    "c = np.dot(c, np.ones((1, np.shape(kernel)[1])))\n",
    "c"
   ]
  },
  {
   "cell_type": "code",
   "execution_count": 81,
   "metadata": {},
   "outputs": [
    {
     "data": {
      "text/plain": [
       "array([[28.71, 71.33, 27.32, 83.29, 71.86, 42.25, 54.26],\n",
       "       [28.71, 71.33, 27.32, 83.29, 71.86, 42.25, 54.26],\n",
       "       [28.71, 71.33, 27.32, 83.29, 71.86, 42.25, 54.26],\n",
       "       [28.71, 71.33, 27.32, 83.29, 71.86, 42.25, 54.26],\n",
       "       [28.71, 71.33, 27.32, 83.29, 71.86, 42.25, 54.26],\n",
       "       [28.71, 71.33, 27.32, 83.29, 71.86, 42.25, 54.26],\n",
       "       [28.71, 71.33, 27.32, 83.29, 71.86, 42.25, 54.26],\n",
       "       [28.71, 71.33, 27.32, 83.29, 71.86, 42.25, 54.26],\n",
       "       [28.71, 71.33, 27.32, 83.29, 71.86, 42.25, 54.26],\n",
       "       [28.71, 71.33, 27.32, 83.29, 71.86, 42.25, 54.26],\n",
       "       [28.71, 71.33, 27.32, 83.29, 71.86, 42.25, 54.26],\n",
       "       [28.71, 71.33, 27.32, 83.29, 71.86, 42.25, 54.26],\n",
       "       [28.71, 71.33, 27.32, 83.29, 71.86, 42.25, 54.26],\n",
       "       [28.71, 71.33, 27.32, 83.29, 71.86, 42.25, 54.26],\n",
       "       [28.71, 71.33, 27.32, 83.29, 71.86, 42.25, 54.26],\n",
       "       [28.71, 71.33, 27.32, 83.29, 71.86, 42.25, 54.26],\n",
       "       [28.71, 71.33, 27.32, 83.29, 71.86, 42.25, 54.26],\n",
       "       [28.71, 71.33, 27.32, 83.29, 71.86, 42.25, 54.26],\n",
       "       [28.71, 71.33, 27.32, 83.29, 71.86, 42.25, 54.26],\n",
       "       [28.71, 71.33, 27.32, 83.29, 71.86, 42.25, 54.26]])"
      ]
     },
     "execution_count": 81,
     "metadata": {},
     "output_type": "execute_result"
    }
   ],
   "source": [
    "sv = (np.diag(np.dot(train_data_set, train_data_set.T))*np.ones((1,len(train_data_set)))).T[support_vectors_id]\n",
    "aa = np.dot(sv,np.ones((1,np.shape(kernel)[0]))).T\n",
    "aa"
   ]
  },
  {
   "cell_type": "code",
   "execution_count": 84,
   "metadata": {},
   "outputs": [
    {
     "data": {
      "text/plain": [
       "array([[-7.365, -0.235, -6.49 , -1.325, -0.41 , -1.205, -6.13 ],\n",
       "       [-0.87 , -7.53 , -1.225, -7.67 , -8.645, -3.99 , -0.465],\n",
       "       [-3.185, -2.265, -2.33 , -3.585, -2.45 , -0.105, -4.12 ],\n",
       "       [-8.985, -0.215, -8.05 , -0.205, -0.39 , -2.325, -6.07 ],\n",
       "       [-0.77 , -6.9  , -1.355, -7.51 , -8.115, -3.75 , -0.385],\n",
       "       [-8.21 , -0.14 , -7.145, -0.57 , -0.205, -1.53 , -6.275],\n",
       "       [-3.315, -2.255, -2.37 , -3.465, -2.38 , -0.065, -4.25 ],\n",
       "       [-1.635, -8.085, -2.3  , -7.885, -9.45 , -5.285, -0.15 ],\n",
       "       [-0.335, -7.025, -0.7  , -7.965, -8.07 , -3.125, -0.93 ],\n",
       "       [-5.215, -0.855, -4.31 , -2.065, -1.06 , -0.425, -4.95 ],\n",
       "       [-7.065, -0.245, -6.15 , -0.755, -0.46 , -1.275, -5.25 ],\n",
       "       [-0.03 , -8.55 , -0.255, -9.9  , -9.525, -3.42 , -1.865],\n",
       "       [-0.69 , -6.87 , -1.185, -7.55 , -8.105, -3.63 , -0.425],\n",
       "       [-6.85 , -0.52 , -5.755, -1.37 , -0.455, -0.73 , -6.165],\n",
       "       [-0.06 , -8.23 , -0.195, -9.59 , -9.125, -3.11 , -1.995],\n",
       "       [-0.375, -6.825, -0.42 , -7.545, -7.65 , -2.625, -1.25 ],\n",
       "       [-8.95 , -0.15 , -7.845, -0.45 , -0.125, -1.81 , -6.825],\n",
       "       [-0.265, -7.395, -0.44 , -8.175, -8.29 , -3.015, -1.21 ],\n",
       "       [-6.415, -0.475, -5.39 , -1.235, -0.53 , -0.715, -5.5  ],\n",
       "       [-7.65 , -0.34 , -6.625, -0.45 , -0.405, -1.49 , -5.575]])"
      ]
     },
     "execution_count": 84,
     "metadata": {},
     "output_type": "execute_result"
    }
   ],
   "source": [
    "kernel = kernel - 0.5 * c - 0.5 * aa\n",
    "kernel"
   ]
  },
  {
   "cell_type": "code",
   "execution_count": 86,
   "metadata": {},
   "outputs": [
    {
     "data": {
      "text/plain": [
       "array([[0.02516   , 0.88914051, 0.03896856, 0.51556082, 0.81464732,\n",
       "        0.54744132, 0.04665384],\n",
       "       [0.64726467, 0.02316761, 0.54199419, 0.02160134, 0.01326668,\n",
       "        0.13601365, 0.79254975],\n",
       "       [0.20341643, 0.32222668, 0.31192266, 0.16654329, 0.2937577 ,\n",
       "        0.94885432, 0.12745397],\n",
       "       [0.01119263, 0.89807652, 0.01786342, 0.90257815, 0.82283466,\n",
       "        0.31270344, 0.04807466],\n",
       "       [0.68045064, 0.03174564, 0.50788512, 0.02340045, 0.0172922 ,\n",
       "        0.15335497, 0.82489432],\n",
       "       [0.01649002, 0.93239382, 0.02808555, 0.75201425, 0.90257815,\n",
       "        0.46533393, 0.04339114],\n",
       "       [0.19061492, 0.32384185, 0.30574618, 0.17684175, 0.30422126,\n",
       "        0.96802245, 0.11943297],\n",
       "       [0.44153411, 0.01755353, 0.31663677, 0.01939965, 0.00887071,\n",
       "        0.07118309, 0.92774349],\n",
       "       [0.84577662, 0.02982227, 0.70468809, 0.01863898, 0.01768568,\n",
       "        0.20961139, 0.62813511],\n",
       "       [0.07371861, 0.6521374 , 0.11590319, 0.35611556, 0.58860497,\n",
       "        0.80856032, 0.08416299],\n",
       "       [0.02923175, 0.8847059 , 0.04618963, 0.6855732 , 0.7945336 ,\n",
       "        0.5286123 , 0.07243976],\n",
       "       [0.98511194, 0.01391205, 0.88029342, 0.00708341, 0.00854422,\n",
       "        0.18086579, 0.39356856],\n",
       "       [0.70822035, 0.03222541, 0.5529432 , 0.02293709, 0.01737887,\n",
       "        0.16283791, 0.80856032],\n",
       "       [0.03254928, 0.77105159, 0.05627528, 0.50409023, 0.79652242,\n",
       "        0.69419665, 0.0458445 ],\n",
       "       [0.97044553, 0.01632594, 0.90710234, 0.008271  , 0.01043594,\n",
       "        0.21118938, 0.36880029],\n",
       "       [0.82902912, 0.0329587 , 0.81058425, 0.02299451, 0.02181844,\n",
       "        0.26914635, 0.53526143],\n",
       "       [0.01139022, 0.92774349, 0.01979155, 0.79851622, 0.93941306,\n",
       "        0.40454189, 0.0329587 ],\n",
       "       [0.87590293, 0.02478541, 0.8025188 , 0.01678113, 0.01584344,\n",
       "        0.22146294, 0.54607443],\n",
       "       [0.04045763, 0.78859689, 0.06754238, 0.53929098, 0.76720595,\n",
       "        0.6994227 , 0.06392786],\n",
       "       [0.02181844, 0.84366482, 0.036425  , 0.79851622, 0.81668648,\n",
       "        0.4747343 , 0.06157496]])"
      ]
     },
     "execution_count": 86,
     "metadata": {},
     "output_type": "execute_result"
    }
   ],
   "source": [
    "kernel = np.exp(kernel / (2. * 1.0 ** 2))\n",
    "kernel"
   ]
  },
  {
   "cell_type": "markdown",
   "metadata": {},
   "source": [
    "The prediction and accuracy is usually higher than the linear kernel."
   ]
  },
  {
   "cell_type": "code",
   "execution_count": 44,
   "metadata": {},
   "outputs": [
    {
     "name": "stdout",
     "output_type": "stream",
     "text": [
      "     pcost       dcost       gap    pres   dres\n",
      " 0:  9.6305e+01 -1.2289e+03  2e+03  2e-01  2e-15\n",
      " 1:  5.9143e+01 -1.2031e+02  2e+02  5e-03  2e-15\n",
      " 2:  7.0898e+00 -1.6497e+01  2e+01  2e-16  2e-15\n",
      " 3: -5.2057e-01 -3.7668e+00  3e+00  2e-16  1e-15\n",
      " 4: -1.1712e+00 -1.8374e+00  7e-01  2e-16  4e-16\n",
      " 5: -1.3952e+00 -1.6846e+00  3e-01  4e-16  3e-16\n",
      " 6: -1.4671e+00 -1.5679e+00  1e-01  2e-16  3e-16\n",
      " 7: -1.5060e+00 -1.5164e+00  1e-02  2e-16  3e-16\n",
      " 8: -1.5105e+00 -1.5106e+00  1e-04  2e-16  3e-16\n",
      " 9: -1.5105e+00 -1.5105e+00  1e-06  2e-16  4e-16\n",
      "Optimal solution found.\n",
      "0.85\n"
     ]
    }
   ],
   "source": [
    "lambdas, support_vectors, support_vectors_id, b, targets, vector_number = train(train_data_set, train_labels, kernel_type='rbf')\n",
    "predicted = classify_rbf(test_data_set, train_data_set, lambdas, targets, b, vector_number, support_vectors, support_vectors_id)\n",
    "predicted = list(predicted.astype(int))\n",
    "\n",
    "from sklearn.metrics import accuracy_score\n",
    "\n",
    "print(accuracy_score(predicted, test_labels))"
   ]
  },
  {
   "cell_type": "code",
   "execution_count": null,
   "metadata": {},
   "outputs": [],
   "source": []
  }
 ],
 "metadata": {
  "kernelspec": {
   "display_name": "Python 3 (ipykernel)",
   "language": "python",
   "name": "python3"
  },
  "language_info": {
   "codemirror_mode": {
    "name": "ipython",
    "version": 3
   },
   "file_extension": ".py",
   "mimetype": "text/x-python",
   "name": "python",
   "nbconvert_exporter": "python",
   "pygments_lexer": "ipython3",
   "version": "3.9.13"
  }
 },
 "nbformat": 4,
 "nbformat_minor": 2
}
